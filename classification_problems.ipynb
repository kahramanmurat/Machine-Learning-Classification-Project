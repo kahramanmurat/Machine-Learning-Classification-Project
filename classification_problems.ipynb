{
 "cells": [
  {
   "cell_type": "markdown",
   "metadata": {},
   "source": [
    "# Classification Problems"
   ]
  },
  {
   "cell_type": "code",
   "execution_count": 1,
   "metadata": {},
   "outputs": [
    {
     "name": "stderr",
     "output_type": "stream",
     "text": [
      "/opt/anaconda3/lib/python3.7/site-packages/lightgbm/__init__.py:48: UserWarning: Starting from version 2.2.1, the library file in distribution wheels for macOS is built by the Apple Clang (Xcode_8.3.3) compiler.\n",
      "This means that in case of installing LightGBM from PyPI via the ``pip install lightgbm`` command, you don't need to install the gcc compiler anymore.\n",
      "Instead of that, you need to install the OpenMP library, which is required for running LightGBM on the system with the Apple Clang compiler.\n",
      "You can install the OpenMP library by the following command: ``brew install libomp``.\n",
      "  \"You can install the OpenMP library by the following command: ``brew install libomp``.\", UserWarning)\n"
     ]
    }
   ],
   "source": [
    "import numpy as np\n",
    "import pandas as pd \n",
    "import statsmodels.api as sm\n",
    "import statsmodels.formula.api as smf\n",
    "import seaborn as sns\n",
    "from sklearn.preprocessing import scale \n",
    "from sklearn.model_selection import train_test_split, GridSearchCV, cross_val_score\n",
    "from sklearn.metrics import confusion_matrix, accuracy_score, classification_report\n",
    "from sklearn.metrics import roc_auc_score,roc_curve\n",
    "import statsmodels.formula.api as smf\n",
    "import matplotlib.pyplot as plt\n",
    "from sklearn.neighbors import KNeighborsClassifier\n",
    "from sklearn.discriminant_analysis import LinearDiscriminantAnalysis\n",
    "from sklearn.linear_model import LogisticRegression\n",
    "from sklearn.svm import SVC\n",
    "from sklearn.naive_bayes import GaussianNB\n",
    "from sklearn import tree\n",
    "from sklearn.ensemble import RandomForestClassifier\n",
    "from sklearn.ensemble import GradientBoostingClassifier\n",
    "from xgboost import XGBClassifier\n",
    "from lightgbm import LGBMClassifier\n",
    "from catboost import CatBoostClassifier\n",
    "\n",
    "from warnings import filterwarnings\n",
    "filterwarnings('ignore')"
   ]
  },
  {
   "cell_type": "markdown",
   "metadata": {},
   "source": [
    "# Logistic Regression"
   ]
  },
  {
   "cell_type": "markdown",
   "metadata": {},
   "source": [
    "## Model"
   ]
  },
  {
   "cell_type": "code",
   "execution_count": 6,
   "metadata": {},
   "outputs": [],
   "source": [
    "diabetes=pd.read_csv('diabetes.csv')\n",
    "df=diabetes.copy()\n",
    "df=df.dropna()"
   ]
  },
  {
   "cell_type": "code",
   "execution_count": 5,
   "metadata": {},
   "outputs": [
    {
     "data": {
      "text/html": [
       "<div>\n",
       "<style scoped>\n",
       "    .dataframe tbody tr th:only-of-type {\n",
       "        vertical-align: middle;\n",
       "    }\n",
       "\n",
       "    .dataframe tbody tr th {\n",
       "        vertical-align: top;\n",
       "    }\n",
       "\n",
       "    .dataframe thead th {\n",
       "        text-align: right;\n",
       "    }\n",
       "</style>\n",
       "<table border=\"1\" class=\"dataframe\">\n",
       "  <thead>\n",
       "    <tr style=\"text-align: right;\">\n",
       "      <th></th>\n",
       "      <th>Pregnancies</th>\n",
       "      <th>Glucose</th>\n",
       "      <th>BloodPressure</th>\n",
       "      <th>SkinThickness</th>\n",
       "      <th>Insulin</th>\n",
       "      <th>BMI</th>\n",
       "      <th>DiabetesPedigreeFunction</th>\n",
       "      <th>Age</th>\n",
       "      <th>Outcome</th>\n",
       "    </tr>\n",
       "  </thead>\n",
       "  <tbody>\n",
       "    <tr>\n",
       "      <th>0</th>\n",
       "      <td>6</td>\n",
       "      <td>148</td>\n",
       "      <td>72</td>\n",
       "      <td>35</td>\n",
       "      <td>0</td>\n",
       "      <td>33.6</td>\n",
       "      <td>0.627</td>\n",
       "      <td>50</td>\n",
       "      <td>1</td>\n",
       "    </tr>\n",
       "    <tr>\n",
       "      <th>1</th>\n",
       "      <td>1</td>\n",
       "      <td>85</td>\n",
       "      <td>66</td>\n",
       "      <td>29</td>\n",
       "      <td>0</td>\n",
       "      <td>26.6</td>\n",
       "      <td>0.351</td>\n",
       "      <td>31</td>\n",
       "      <td>0</td>\n",
       "    </tr>\n",
       "    <tr>\n",
       "      <th>2</th>\n",
       "      <td>8</td>\n",
       "      <td>183</td>\n",
       "      <td>64</td>\n",
       "      <td>0</td>\n",
       "      <td>0</td>\n",
       "      <td>23.3</td>\n",
       "      <td>0.672</td>\n",
       "      <td>32</td>\n",
       "      <td>1</td>\n",
       "    </tr>\n",
       "    <tr>\n",
       "      <th>3</th>\n",
       "      <td>1</td>\n",
       "      <td>89</td>\n",
       "      <td>66</td>\n",
       "      <td>23</td>\n",
       "      <td>94</td>\n",
       "      <td>28.1</td>\n",
       "      <td>0.167</td>\n",
       "      <td>21</td>\n",
       "      <td>0</td>\n",
       "    </tr>\n",
       "    <tr>\n",
       "      <th>4</th>\n",
       "      <td>0</td>\n",
       "      <td>137</td>\n",
       "      <td>40</td>\n",
       "      <td>35</td>\n",
       "      <td>168</td>\n",
       "      <td>43.1</td>\n",
       "      <td>2.288</td>\n",
       "      <td>33</td>\n",
       "      <td>1</td>\n",
       "    </tr>\n",
       "  </tbody>\n",
       "</table>\n",
       "</div>"
      ],
      "text/plain": [
       "   Pregnancies  Glucose  BloodPressure  SkinThickness  Insulin   BMI  \\\n",
       "0            6      148             72             35        0  33.6   \n",
       "1            1       85             66             29        0  26.6   \n",
       "2            8      183             64              0        0  23.3   \n",
       "3            1       89             66             23       94  28.1   \n",
       "4            0      137             40             35      168  43.1   \n",
       "\n",
       "   DiabetesPedigreeFunction  Age  Outcome  \n",
       "0                     0.627   50        1  \n",
       "1                     0.351   31        0  \n",
       "2                     0.672   32        1  \n",
       "3                     0.167   21        0  \n",
       "4                     2.288   33        1  "
      ]
     },
     "execution_count": 5,
     "metadata": {},
     "output_type": "execute_result"
    }
   ],
   "source": [
    "df.head()"
   ]
  },
  {
   "cell_type": "code",
   "execution_count": 7,
   "metadata": {},
   "outputs": [
    {
     "name": "stdout",
     "output_type": "stream",
     "text": [
      "<class 'pandas.core.frame.DataFrame'>\n",
      "Int64Index: 768 entries, 0 to 767\n",
      "Data columns (total 9 columns):\n",
      "Pregnancies                 768 non-null int64\n",
      "Glucose                     768 non-null int64\n",
      "BloodPressure               768 non-null int64\n",
      "SkinThickness               768 non-null int64\n",
      "Insulin                     768 non-null int64\n",
      "BMI                         768 non-null float64\n",
      "DiabetesPedigreeFunction    768 non-null float64\n",
      "Age                         768 non-null int64\n",
      "Outcome                     768 non-null int64\n",
      "dtypes: float64(2), int64(7)\n",
      "memory usage: 60.0 KB\n"
     ]
    }
   ],
   "source": [
    "df.info()"
   ]
  },
  {
   "cell_type": "code",
   "execution_count": 8,
   "metadata": {},
   "outputs": [
    {
     "data": {
      "text/plain": [
       "0    500\n",
       "1    268\n",
       "Name: Outcome, dtype: int64"
      ]
     },
     "execution_count": 8,
     "metadata": {},
     "output_type": "execute_result"
    }
   ],
   "source": [
    "df['Outcome'].value_counts()"
   ]
  },
  {
   "cell_type": "code",
   "execution_count": 10,
   "metadata": {},
   "outputs": [
    {
     "data": {
      "image/png": "[encoded data removed]",
      "text/plain": [
       "<Figure size 432x288 with 1 Axes>"
      ]
     },
     "metadata": {
      "needs_background": "light"
     },
     "output_type": "display_data"
    }
   ],
   "source": [
    "df['Outcome'].value_counts().plot.barh();"
   ]
  },
  {
   "cell_type": "code",
   "execution_count": 11,
   "metadata": {},
   "outputs": [
    {
     "data": {
      "text/html": [
       "<div>\n",
       "<style scoped>\n",
       "    .dataframe tbody tr th:only-of-type {\n",
       "        vertical-align: middle;\n",
       "    }\n",
       "\n",
       "    .dataframe tbody tr th {\n",
       "        vertical-align: top;\n",
       "    }\n",
       "\n",
       "    .dataframe thead th {\n",
       "        text-align: right;\n",
       "    }\n",
       "</style>\n",
       "<table border=\"1\" class=\"dataframe\">\n",
       "  <thead>\n",
       "    <tr style=\"text-align: right;\">\n",
       "      <th></th>\n",
       "      <th>count</th>\n",
       "      <th>mean</th>\n",
       "      <th>std</th>\n",
       "      <th>min</th>\n",
       "      <th>25%</th>\n",
       "      <th>50%</th>\n",
       "      <th>75%</th>\n",
       "      <th>max</th>\n",
       "    </tr>\n",
       "  </thead>\n",
       "  <tbody>\n",
       "    <tr>\n",
       "      <th>Pregnancies</th>\n",
       "      <td>768.0</td>\n",
       "      <td>3.845052</td>\n",
       "      <td>3.369578</td>\n",
       "      <td>0.000</td>\n",
       "      <td>1.00000</td>\n",
       "      <td>3.0000</td>\n",
       "      <td>6.00000</td>\n",
       "      <td>17.00</td>\n",
       "    </tr>\n",
       "    <tr>\n",
       "      <th>Glucose</th>\n",
       "      <td>768.0</td>\n",
       "      <td>120.894531</td>\n",
       "      <td>31.972618</td>\n",
       "      <td>0.000</td>\n",
       "      <td>99.00000</td>\n",
       "      <td>117.0000</td>\n",
       "      <td>140.25000</td>\n",
       "      <td>199.00</td>\n",
       "    </tr>\n",
       "    <tr>\n",
       "      <th>BloodPressure</th>\n",
       "      <td>768.0</td>\n",
       "      <td>69.105469</td>\n",
       "      <td>19.355807</td>\n",
       "      <td>0.000</td>\n",
       "      <td>62.00000</td>\n",
       "      <td>72.0000</td>\n",
       "      <td>80.00000</td>\n",
       "      <td>122.00</td>\n",
       "    </tr>\n",
       "    <tr>\n",
       "      <th>SkinThickness</th>\n",
       "      <td>768.0</td>\n",
       "      <td>20.536458</td>\n",
       "      <td>15.952218</td>\n",
       "      <td>0.000</td>\n",
       "      <td>0.00000</td>\n",
       "      <td>23.0000</td>\n",
       "      <td>32.00000</td>\n",
       "      <td>99.00</td>\n",
       "    </tr>\n",
       "    <tr>\n",
       "      <th>Insulin</th>\n",
       "      <td>768.0</td>\n",
       "      <td>79.799479</td>\n",
       "      <td>115.244002</td>\n",
       "      <td>0.000</td>\n",
       "      <td>0.00000</td>\n",
       "      <td>30.5000</td>\n",
       "      <td>127.25000</td>\n",
       "      <td>846.00</td>\n",
       "    </tr>\n",
       "    <tr>\n",
       "      <th>BMI</th>\n",
       "      <td>768.0</td>\n",
       "      <td>31.992578</td>\n",
       "      <td>7.884160</td>\n",
       "      <td>0.000</td>\n",
       "      <td>27.30000</td>\n",
       "      <td>32.0000</td>\n",
       "      <td>36.60000</td>\n",
       "      <td>67.10</td>\n",
       "    </tr>\n",
       "    <tr>\n",
       "      <th>DiabetesPedigreeFunction</th>\n",
       "      <td>768.0</td>\n",
       "      <td>0.471876</td>\n",
       "      <td>0.331329</td>\n",
       "      <td>0.078</td>\n",
       "      <td>0.24375</td>\n",
       "      <td>0.3725</td>\n",
       "      <td>0.62625</td>\n",
       "      <td>2.42</td>\n",
       "    </tr>\n",
       "    <tr>\n",
       "      <th>Age</th>\n",
       "      <td>768.0</td>\n",
       "      <td>33.240885</td>\n",
       "      <td>11.760232</td>\n",
       "      <td>21.000</td>\n",
       "      <td>24.00000</td>\n",
       "      <td>29.0000</td>\n",
       "      <td>41.00000</td>\n",
       "      <td>81.00</td>\n",
       "    </tr>\n",
       "    <tr>\n",
       "      <th>Outcome</th>\n",
       "      <td>768.0</td>\n",
       "      <td>0.348958</td>\n",
       "      <td>0.476951</td>\n",
       "      <td>0.000</td>\n",
       "      <td>0.00000</td>\n",
       "      <td>0.0000</td>\n",
       "      <td>1.00000</td>\n",
       "      <td>1.00</td>\n",
       "    </tr>\n",
       "  </tbody>\n",
       "</table>\n",
       "</div>"
      ],
      "text/plain": [
       "                          count        mean         std     min       25%  \\\n",
       "Pregnancies               768.0    3.845052    3.369578   0.000   1.00000   \n",
       "Glucose                   768.0  120.894531   31.972618   0.000  99.00000   \n",
       "BloodPressure             768.0   69.105469   19.355807   0.000  62.00000   \n",
       "SkinThickness             768.0   20.536458   15.952218   0.000   0.00000   \n",
       "Insulin                   768.0   79.799479  115.244002   0.000   0.00000   \n",
       "BMI                       768.0   31.992578    7.884160   0.000  27.30000   \n",
       "DiabetesPedigreeFunction  768.0    0.471876    0.331329   0.078   0.24375   \n",
       "Age                       768.0   33.240885   11.760232  21.000  24.00000   \n",
       "Outcome                   768.0    0.348958    0.476951   0.000   0.00000   \n",
       "\n",
       "                               50%        75%     max  \n",
       "Pregnancies                 3.0000    6.00000   17.00  \n",
       "Glucose                   117.0000  140.25000  199.00  \n",
       "BloodPressure              72.0000   80.00000  122.00  \n",
       "SkinThickness              23.0000   32.00000   99.00  \n",
       "Insulin                    30.5000  127.25000  846.00  \n",
       "BMI                        32.0000   36.60000   67.10  \n",
       "DiabetesPedigreeFunction    0.3725    0.62625    2.42  \n",
       "Age                        29.0000   41.00000   81.00  \n",
       "Outcome                     0.0000    1.00000    1.00  "
      ]
     },
     "execution_count": 11,
     "metadata": {},
     "output_type": "execute_result"
    }
   ],
   "source": [
    "df.describe().T"
   ]
  },
  {
   "cell_type": "code",
   "execution_count": 12,
   "metadata": {},
   "outputs": [],
   "source": [
    "y=df['Outcome']\n",
    "X=df.drop(['Outcome'],axis=1)\n"
   ]
  },
  {
   "cell_type": "markdown",
   "metadata": {},
   "source": [
    "### Stats Model"
   ]
  },
  {
   "cell_type": "code",
   "execution_count": 13,
   "metadata": {},
   "outputs": [
    {
     "name": "stdout",
     "output_type": "stream",
     "text": [
      "Optimization terminated successfully.\n",
      "         Current function value: 0.608498\n",
      "         Iterations 5\n"
     ]
    }
   ],
   "source": [
    "loj=sm.Logit(y,X)\n",
    "loj_model=loj.fit()"
   ]
  },
  {
   "cell_type": "code",
   "execution_count": 14,
   "metadata": {},
   "outputs": [
    {
     "data": {
      "text/html": [
       "<table class=\"simpletable\">\n",
       "<caption>Logit Regression Results</caption>\n",
       "<tr>\n",
       "  <th>Dep. Variable:</th>        <td>Outcome</td>     <th>  No. Observations:  </th>  <td>   768</td>  \n",
       "</tr>\n",
       "<tr>\n",
       "  <th>Model:</th>                 <td>Logit</td>      <th>  Df Residuals:      </th>  <td>   760</td>  \n",
       "</tr>\n",
       "<tr>\n",
       "  <th>Method:</th>                 <td>MLE</td>       <th>  Df Model:          </th>  <td>     7</td>  \n",
       "</tr>\n",
       "<tr>\n",
       "  <th>Date:</th>            <td>Mon, 24 Aug 2020</td> <th>  Pseudo R-squ.:     </th>  <td>0.05922</td> \n",
       "</tr>\n",
       "<tr>\n",
       "  <th>Time:</th>                <td>11:56:19</td>     <th>  Log-Likelihood:    </th> <td> -467.33</td> \n",
       "</tr>\n",
       "<tr>\n",
       "  <th>converged:</th>             <td>True</td>       <th>  LL-Null:           </th> <td> -496.74</td> \n",
       "</tr>\n",
       "<tr>\n",
       "  <th>Covariance Type:</th>     <td>nonrobust</td>    <th>  LLR p-value:       </th> <td>2.583e-10</td>\n",
       "</tr>\n",
       "</table>\n",
       "<table class=\"simpletable\">\n",
       "<tr>\n",
       "              <td></td>                <th>coef</th>     <th>std err</th>      <th>z</th>      <th>P>|z|</th>  <th>[0.025</th>    <th>0.975]</th>  \n",
       "</tr>\n",
       "<tr>\n",
       "  <th>Pregnancies</th>              <td>    0.1284</td> <td>    0.029</td> <td>    4.484</td> <td> 0.000</td> <td>    0.072</td> <td>    0.185</td>\n",
       "</tr>\n",
       "<tr>\n",
       "  <th>Glucose</th>                  <td>    0.0129</td> <td>    0.003</td> <td>    4.757</td> <td> 0.000</td> <td>    0.008</td> <td>    0.018</td>\n",
       "</tr>\n",
       "<tr>\n",
       "  <th>BloodPressure</th>            <td>   -0.0303</td> <td>    0.005</td> <td>   -6.481</td> <td> 0.000</td> <td>   -0.039</td> <td>   -0.021</td>\n",
       "</tr>\n",
       "<tr>\n",
       "  <th>SkinThickness</th>            <td>    0.0002</td> <td>    0.006</td> <td>    0.032</td> <td> 0.974</td> <td>   -0.012</td> <td>    0.012</td>\n",
       "</tr>\n",
       "<tr>\n",
       "  <th>Insulin</th>                  <td>    0.0007</td> <td>    0.001</td> <td>    0.942</td> <td> 0.346</td> <td>   -0.001</td> <td>    0.002</td>\n",
       "</tr>\n",
       "<tr>\n",
       "  <th>BMI</th>                      <td>   -0.0048</td> <td>    0.011</td> <td>   -0.449</td> <td> 0.653</td> <td>   -0.026</td> <td>    0.016</td>\n",
       "</tr>\n",
       "<tr>\n",
       "  <th>DiabetesPedigreeFunction</th> <td>    0.3203</td> <td>    0.240</td> <td>    1.335</td> <td> 0.182</td> <td>   -0.150</td> <td>    0.790</td>\n",
       "</tr>\n",
       "<tr>\n",
       "  <th>Age</th>                      <td>   -0.0156</td> <td>    0.008</td> <td>   -1.852</td> <td> 0.064</td> <td>   -0.032</td> <td>    0.001</td>\n",
       "</tr>\n",
       "</table>"
      ],
      "text/plain": [
       "<class 'statsmodels.iolib.summary.Summary'>\n",
       "\"\"\"\n",
       "                           Logit Regression Results                           \n",
       "==============================================================================\n",
       "Dep. Variable:                Outcome   No. Observations:                  768\n",
       "Model:                          Logit   Df Residuals:                      760\n",
       "Method:                           MLE   Df Model:                            7\n",
       "Date:                Mon, 24 Aug 2020   Pseudo R-squ.:                 0.05922\n",
       "Time:                        11:56:19   Log-Likelihood:                -467.33\n",
       "converged:                       True   LL-Null:                       -496.74\n",
       "Covariance Type:            nonrobust   LLR p-value:                 2.583e-10\n",
       "============================================================================================\n",
       "                               coef    std err          z      P>|z|      [0.025      0.975]\n",
       "--------------------------------------------------------------------------------------------\n",
       "Pregnancies                  0.1284      0.029      4.484      0.000       0.072       0.185\n",
       "Glucose                      0.0129      0.003      4.757      0.000       0.008       0.018\n",
       "BloodPressure               -0.0303      0.005     -6.481      0.000      -0.039      -0.021\n",
       "SkinThickness                0.0002      0.006      0.032      0.974      -0.012       0.012\n",
       "Insulin                      0.0007      0.001      0.942      0.346      -0.001       0.002\n",
       "BMI                         -0.0048      0.011     -0.449      0.653      -0.026       0.016\n",
       "DiabetesPedigreeFunction     0.3203      0.240      1.335      0.182      -0.150       0.790\n",
       "Age                         -0.0156      0.008     -1.852      0.064      -0.032       0.001\n",
       "============================================================================================\n",
       "\"\"\""
      ]
     },
     "execution_count": 14,
     "metadata": {},
     "output_type": "execute_result"
    }
   ],
   "source": [
    "loj_model.summary()"
   ]
  },
  {
   "cell_type": "markdown",
   "metadata": {},
   "source": [
    "### Scikit-Learn"
   ]
  },
  {
   "cell_type": "code",
   "execution_count": 15,
   "metadata": {},
   "outputs": [],
   "source": [
    "from sklearn.linear_model import LogisticRegression"
   ]
  },
  {
   "cell_type": "code",
   "execution_count": 17,
   "metadata": {},
   "outputs": [
    {
     "data": {
      "text/plain": [
       "LogisticRegression(C=1.0, class_weight=None, dual=False, fit_intercept=True,\n",
       "                   intercept_scaling=1, l1_ratio=None, max_iter=100,\n",
       "                   multi_class='auto', n_jobs=None, penalty='l2',\n",
       "                   random_state=None, solver='liblinear', tol=0.0001, verbose=0,\n",
       "                   warm_start=False)"
      ]
     },
     "execution_count": 17,
     "metadata": {},
     "output_type": "execute_result"
    }
   ],
   "source": [
    "loj=LogisticRegression(solver='liblinear')\n",
    "lojmodel=loj.fit(X,y)\n",
    "lojmodel"
   ]
  },
  {
   "cell_type": "code",
   "execution_count": 18,
   "metadata": {},
   "outputs": [
    {
     "data": {
      "text/plain": [
       "array([-5.88848445])"
      ]
     },
     "execution_count": 18,
     "metadata": {},
     "output_type": "execute_result"
    }
   ],
   "source": [
    "lojmodel.intercept_"
   ]
  },
  {
   "cell_type": "code",
   "execution_count": 19,
   "metadata": {},
   "outputs": [
    {
     "data": {
      "text/plain": [
       "array([[ 1.17086830e-01,  2.83748521e-02, -1.68971977e-02,\n",
       "         7.45588118e-04, -6.42652274e-04,  5.97050348e-02,\n",
       "         6.81461374e-01,  7.21476320e-03]])"
      ]
     },
     "execution_count": 19,
     "metadata": {},
     "output_type": "execute_result"
    }
   ],
   "source": [
    "lojmodel.coef_"
   ]
  },
  {
   "cell_type": "markdown",
   "metadata": {},
   "source": [
    "### Prediction & Model Tuning"
   ]
  },
  {
   "cell_type": "code",
   "execution_count": 20,
   "metadata": {},
   "outputs": [],
   "source": [
    "y_pred=lojmodel.predict(X)"
   ]
  },
  {
   "cell_type": "code",
   "execution_count": 21,
   "metadata": {},
   "outputs": [
    {
     "data": {
      "text/plain": [
       "array([[448,  52],\n",
       "       [120, 148]])"
      ]
     },
     "execution_count": 21,
     "metadata": {},
     "output_type": "execute_result"
    }
   ],
   "source": [
    "confusion_matrix(y,y_pred)"
   ]
  },
  {
   "cell_type": "code",
   "execution_count": 22,
   "metadata": {},
   "outputs": [
    {
     "data": {
      "text/plain": [
       "0.7760416666666666"
      ]
     },
     "execution_count": 22,
     "metadata": {},
     "output_type": "execute_result"
    }
   ],
   "source": [
    "accuracy_score(y,y_pred)"
   ]
  },
  {
   "cell_type": "code",
   "execution_count": 23,
   "metadata": {},
   "outputs": [
    {
     "name": "stdout",
     "output_type": "stream",
     "text": [
      "              precision    recall  f1-score   support\n",
      "\n",
      "           0       0.79      0.90      0.84       500\n",
      "           1       0.74      0.55      0.63       268\n",
      "\n",
      "    accuracy                           0.78       768\n",
      "   macro avg       0.76      0.72      0.74       768\n",
      "weighted avg       0.77      0.78      0.77       768\n",
      "\n"
     ]
    }
   ],
   "source": [
    "print(classification_report(y,y_pred))"
   ]
  },
  {
   "cell_type": "code",
   "execution_count": 24,
   "metadata": {},
   "outputs": [
    {
     "data": {
      "text/plain": [
       "array([1, 0, 1, 0, 1])"
      ]
     },
     "execution_count": 24,
     "metadata": {},
     "output_type": "execute_result"
    }
   ],
   "source": [
    "lojmodel.predict(X)[0:5]"
   ]
  },
  {
   "cell_type": "code",
   "execution_count": 27,
   "metadata": {},
   "outputs": [
    {
     "data": {
      "text/plain": [
       "array([[0.35043775, 0.64956225],\n",
       "       [0.9169891 , 0.0830109 ],\n",
       "       [0.22455276, 0.77544724],\n",
       "       [0.92139736, 0.07860264],\n",
       "       [0.16635686, 0.83364314],\n",
       "       [0.79900619, 0.20099381],\n",
       "       [0.88017597, 0.11982403],\n",
       "       [0.27815669, 0.72184331],\n",
       "       [0.32117452, 0.67882548],\n",
       "       [0.92268273, 0.07731727]])"
      ]
     },
     "execution_count": 27,
     "metadata": {},
     "output_type": "execute_result"
    }
   ],
   "source": [
    "lojmodel.predict_proba(X)[0:10][:,0:2]"
   ]
  },
  {
   "cell_type": "code",
   "execution_count": 28,
   "metadata": {},
   "outputs": [
    {
     "data": {
      "text/plain": [
       "0    1\n",
       "1    0\n",
       "2    1\n",
       "3    0\n",
       "4    1\n",
       "5    0\n",
       "6    1\n",
       "7    0\n",
       "8    1\n",
       "9    1\n",
       "Name: Outcome, dtype: int64"
      ]
     },
     "execution_count": 28,
     "metadata": {},
     "output_type": "execute_result"
    }
   ],
   "source": [
    "y[0:10]"
   ]
  },
  {
   "cell_type": "code",
   "execution_count": 30,
   "metadata": {},
   "outputs": [],
   "source": [
    "y_probs = lojmodel.predict_proba(X)\n",
    "y_probs = y_probs[:,1]"
   ]
  },
  {
   "cell_type": "code",
   "execution_count": 31,
   "metadata": {},
   "outputs": [
    {
     "data": {
      "text/plain": [
       "array([0.64956225, 0.0830109 , 0.77544724, 0.07860264, 0.83364314,\n",
       "       0.20099381, 0.11982403, 0.72184331, 0.67882548, 0.07731727])"
      ]
     },
     "execution_count": 31,
     "metadata": {},
     "output_type": "execute_result"
    }
   ],
   "source": [
    "y_probs[0:10]"
   ]
  },
  {
   "cell_type": "code",
   "execution_count": 32,
   "metadata": {},
   "outputs": [],
   "source": [
    "y_pred = [1 if i > 0.5 else 0 for i in y_probs]"
   ]
  },
  {
   "cell_type": "code",
   "execution_count": 33,
   "metadata": {},
   "outputs": [
    {
     "data": {
      "text/plain": [
       "[1, 0, 1, 0, 1, 0, 0, 1, 1, 0]"
      ]
     },
     "execution_count": 33,
     "metadata": {},
     "output_type": "execute_result"
    }
   ],
   "source": [
    "y_pred[0:10]"
   ]
  },
  {
   "cell_type": "code",
   "execution_count": 34,
   "metadata": {},
   "outputs": [
    {
     "data": {
      "text/plain": [
       "array([[448,  52],\n",
       "       [120, 148]])"
      ]
     },
     "execution_count": 34,
     "metadata": {},
     "output_type": "execute_result"
    }
   ],
   "source": [
    "confusion_matrix(y, y_pred)"
   ]
  },
  {
   "cell_type": "code",
   "execution_count": 35,
   "metadata": {},
   "outputs": [
    {
     "data": {
      "text/plain": [
       "0.7760416666666666"
      ]
     },
     "execution_count": 35,
     "metadata": {},
     "output_type": "execute_result"
    }
   ],
   "source": [
    "accuracy_score(y, y_pred)"
   ]
  },
  {
   "cell_type": "code",
   "execution_count": 36,
   "metadata": {},
   "outputs": [
    {
     "name": "stdout",
     "output_type": "stream",
     "text": [
      "              precision    recall  f1-score   support\n",
      "\n",
      "           0       0.79      0.90      0.84       500\n",
      "           1       0.74      0.55      0.63       268\n",
      "\n",
      "    accuracy                           0.78       768\n",
      "   macro avg       0.76      0.72      0.74       768\n",
      "weighted avg       0.77      0.78      0.77       768\n",
      "\n"
     ]
    }
   ],
   "source": [
    "print(classification_report(y, y_pred))"
   ]
  },
  {
   "cell_type": "code",
   "execution_count": 38,
   "metadata": {},
   "outputs": [
    {
     "data": {
      "text/plain": [
       "array([0.64956225, 0.0830109 , 0.77544724, 0.07860264, 0.83364314])"
      ]
     },
     "execution_count": 38,
     "metadata": {},
     "output_type": "execute_result"
    }
   ],
   "source": [
    "lojmodel.predict_proba(X)[:,1][0:5]"
   ]
  },
  {
   "cell_type": "code",
   "execution_count": 39,
   "metadata": {},
   "outputs": [
    {
     "data": {
      "image/png": "[encoded data removed]",
      "text/plain": [
       "<Figure size 432x288 with 1 Axes>"
      ]
     },
     "metadata": {
      "needs_background": "light"
     },
     "output_type": "display_data"
    }
   ],
   "source": [
    "logit_roc_auc = roc_auc_score(y, lojmodel.predict(X))\n",
    "\n",
    "fpr, tpr, thresholds = roc_curve(y, lojmodel.predict_proba(X)[:,1])\n",
    "plt.figure()\n",
    "plt.plot(fpr, tpr, label='AUC (area = %0.2f)' % logit_roc_auc)\n",
    "plt.plot([0, 1], [0, 1],'r--')\n",
    "plt.xlim([0.0, 1.0])\n",
    "plt.ylim([0.0, 1.05])\n",
    "plt.xlabel('False Positive Oranı')\n",
    "plt.ylabel('True Positive Oranı')\n",
    "plt.title('ROC')\n",
    "plt.show()"
   ]
  },
  {
   "cell_type": "code",
   "execution_count": 40,
   "metadata": {},
   "outputs": [],
   "source": [
    "X_train, X_test, y_train, y_test = train_test_split(X, y, \n",
    "                                                    test_size = 0.30, \n",
    "                                                    random_state = 42)"
   ]
  },
  {
   "cell_type": "code",
   "execution_count": 41,
   "metadata": {},
   "outputs": [
    {
     "data": {
      "text/plain": [
       "LogisticRegression(C=1.0, class_weight=None, dual=False, fit_intercept=True,\n",
       "                   intercept_scaling=1, l1_ratio=None, max_iter=100,\n",
       "                   multi_class='auto', n_jobs=None, penalty='l2',\n",
       "                   random_state=None, solver='liblinear', tol=0.0001, verbose=0,\n",
       "                   warm_start=False)"
      ]
     },
     "execution_count": 41,
     "metadata": {},
     "output_type": "execute_result"
    }
   ],
   "source": [
    "loj = LogisticRegression(solver = \"liblinear\")\n",
    "loj_model = loj.fit(X_train,y_train)\n",
    "loj_model"
   ]
  },
  {
   "cell_type": "code",
   "execution_count": 42,
   "metadata": {},
   "outputs": [
    {
     "data": {
      "text/plain": [
       "0.7575757575757576"
      ]
     },
     "execution_count": 42,
     "metadata": {},
     "output_type": "execute_result"
    }
   ],
   "source": [
    "accuracy_score(y_test, loj_model.predict(X_test))"
   ]
  },
  {
   "cell_type": "code",
   "execution_count": 43,
   "metadata": {},
   "outputs": [
    {
     "data": {
      "text/plain": [
       "0.7661231884057971"
      ]
     },
     "execution_count": 43,
     "metadata": {},
     "output_type": "execute_result"
    }
   ],
   "source": [
    "cross_val_score(loj_model, X_test, y_test, cv = 10).mean()"
   ]
  },
  {
   "cell_type": "markdown",
   "metadata": {},
   "source": [
    "# Gaussian Naive Bayes"
   ]
  },
  {
   "cell_type": "code",
   "execution_count": 44,
   "metadata": {},
   "outputs": [],
   "source": [
    "df = diabetes.copy()\n",
    "df = df.dropna()\n",
    "y = df[\"Outcome\"]\n",
    "X = df.drop(['Outcome'], axis=1)\n",
    "X_train, X_test, y_train, y_test = train_test_split(X, y, \n",
    "                                                    test_size=0.30, \n",
    "                                                    random_state=42)"
   ]
  },
  {
   "cell_type": "code",
   "execution_count": 45,
   "metadata": {},
   "outputs": [],
   "source": [
    "from sklearn.naive_bayes import GaussianNB"
   ]
  },
  {
   "cell_type": "code",
   "execution_count": 46,
   "metadata": {},
   "outputs": [
    {
     "data": {
      "text/plain": [
       "GaussianNB(priors=None, var_smoothing=1e-09)"
      ]
     },
     "execution_count": 46,
     "metadata": {},
     "output_type": "execute_result"
    }
   ],
   "source": [
    "nb = GaussianNB()\n",
    "nb_model = nb.fit(X_train, y_train)\n",
    "nb_model"
   ]
  },
  {
   "cell_type": "code",
   "execution_count": 47,
   "metadata": {},
   "outputs": [
    {
     "data": {
      "text/plain": [
       "array([0, 0, 0, 0, 1, 1, 0, 0, 0, 1])"
      ]
     },
     "execution_count": 47,
     "metadata": {},
     "output_type": "execute_result"
    }
   ],
   "source": [
    "nb_model.predict(X_test)[0:10]"
   ]
  },
  {
   "cell_type": "code",
   "execution_count": 48,
   "metadata": {},
   "outputs": [
    {
     "data": {
      "text/plain": [
       "array([[0.73815858, 0.26184142],\n",
       "       [0.94027894, 0.05972106],\n",
       "       [0.97242831, 0.02757169],\n",
       "       [0.82840069, 0.17159931],\n",
       "       [0.47153473, 0.52846527],\n",
       "       [0.47274458, 0.52725542],\n",
       "       [0.99607705, 0.00392295],\n",
       "       [0.69925055, 0.30074945],\n",
       "       [0.53838117, 0.46161883],\n",
       "       [0.25004536, 0.74995464]])"
      ]
     },
     "execution_count": 48,
     "metadata": {},
     "output_type": "execute_result"
    }
   ],
   "source": [
    "nb_model.predict_proba(X_test)[0:10]"
   ]
  },
  {
   "cell_type": "code",
   "execution_count": 49,
   "metadata": {},
   "outputs": [],
   "source": [
    "y_pred = nb_model.predict(X_test)"
   ]
  },
  {
   "cell_type": "code",
   "execution_count": 50,
   "metadata": {},
   "outputs": [
    {
     "data": {
      "text/plain": [
       "0.7445887445887446"
      ]
     },
     "execution_count": 50,
     "metadata": {},
     "output_type": "execute_result"
    }
   ],
   "source": [
    "accuracy_score(y_test, y_pred)"
   ]
  },
  {
   "cell_type": "code",
   "execution_count": 51,
   "metadata": {},
   "outputs": [
    {
     "data": {
      "text/plain": [
       "0.775"
      ]
     },
     "execution_count": 51,
     "metadata": {},
     "output_type": "execute_result"
    }
   ],
   "source": [
    "cross_val_score(nb_model, X_test, y_test, cv = 10).mean()"
   ]
  },
  {
   "cell_type": "markdown",
   "metadata": {},
   "source": [
    "# KNN"
   ]
  },
  {
   "cell_type": "markdown",
   "metadata": {},
   "source": [
    "## Model & Prediction"
   ]
  },
  {
   "cell_type": "code",
   "execution_count": 52,
   "metadata": {},
   "outputs": [],
   "source": [
    "df = diabetes.copy()\n",
    "df = df.dropna()\n",
    "y = df[\"Outcome\"]\n",
    "X = df.drop(['Outcome'], axis=1)\n",
    "X_train, X_test, y_train, y_test = train_test_split(X, y, \n",
    "                                                    test_size=0.30, \n",
    "                                                    random_state=42)"
   ]
  },
  {
   "cell_type": "code",
   "execution_count": 53,
   "metadata": {},
   "outputs": [
    {
     "data": {
      "text/plain": [
       "KNeighborsClassifier(algorithm='auto', leaf_size=30, metric='minkowski',\n",
       "                     metric_params=None, n_jobs=None, n_neighbors=5, p=2,\n",
       "                     weights='uniform')"
      ]
     },
     "execution_count": 53,
     "metadata": {},
     "output_type": "execute_result"
    }
   ],
   "source": [
    "knn = KNeighborsClassifier()\n",
    "knn_model = knn.fit(X_train, y_train)\n",
    "knn_model"
   ]
  },
  {
   "cell_type": "code",
   "execution_count": 54,
   "metadata": {},
   "outputs": [],
   "source": [
    "y_pred = knn_model.predict(X_test)"
   ]
  },
  {
   "cell_type": "code",
   "execution_count": 55,
   "metadata": {},
   "outputs": [
    {
     "data": {
      "text/plain": [
       "0.6883116883116883"
      ]
     },
     "execution_count": 55,
     "metadata": {},
     "output_type": "execute_result"
    }
   ],
   "source": [
    "accuracy_score(y_test, y_pred)"
   ]
  },
  {
   "cell_type": "code",
   "execution_count": 56,
   "metadata": {},
   "outputs": [
    {
     "name": "stdout",
     "output_type": "stream",
     "text": [
      "              precision    recall  f1-score   support\n",
      "\n",
      "           0       0.77      0.75      0.76       151\n",
      "           1       0.55      0.56      0.56        80\n",
      "\n",
      "    accuracy                           0.69       231\n",
      "   macro avg       0.66      0.66      0.66       231\n",
      "weighted avg       0.69      0.69      0.69       231\n",
      "\n"
     ]
    }
   ],
   "source": [
    "print(classification_report(y_test, y_pred))"
   ]
  },
  {
   "cell_type": "markdown",
   "metadata": {},
   "source": [
    "## Model Tuning"
   ]
  },
  {
   "cell_type": "code",
   "execution_count": 57,
   "metadata": {},
   "outputs": [],
   "source": [
    "knn_params = {\"n_neighbors\": np.arange(1,50)}"
   ]
  },
  {
   "cell_type": "code",
   "execution_count": 58,
   "metadata": {},
   "outputs": [
    {
     "data": {
      "text/plain": [
       "GridSearchCV(cv=10, error_score=nan,\n",
       "             estimator=KNeighborsClassifier(algorithm='auto', leaf_size=30,\n",
       "                                            metric='minkowski',\n",
       "                                            metric_params=None, n_jobs=None,\n",
       "                                            n_neighbors=5, p=2,\n",
       "                                            weights='uniform'),\n",
       "             iid='deprecated', n_jobs=None,\n",
       "             param_grid={'n_neighbors': array([ 1,  2,  3,  4,  5,  6,  7,  8,  9, 10, 11, 12, 13, 14, 15, 16, 17,\n",
       "       18, 19, 20, 21, 22, 23, 24, 25, 26, 27, 28, 29, 30, 31, 32, 33, 34,\n",
       "       35, 36, 37, 38, 39, 40, 41, 42, 43, 44, 45, 46, 47, 48, 49])},\n",
       "             pre_dispatch='2*n_jobs', refit=True, return_train_score=False,\n",
       "             scoring=None, verbose=0)"
      ]
     },
     "execution_count": 58,
     "metadata": {},
     "output_type": "execute_result"
    }
   ],
   "source": [
    "knn = KNeighborsClassifier()\n",
    "knn_cv = GridSearchCV(knn, knn_params, cv=10)\n",
    "knn_cv.fit(X_train, y_train)"
   ]
  },
  {
   "cell_type": "code",
   "execution_count": 59,
   "metadata": {},
   "outputs": [
    {
     "name": "stdout",
     "output_type": "stream",
     "text": [
      "Best Score:0.748637316561845\n",
      "Best Parameters: {'n_neighbors': 11}\n"
     ]
    }
   ],
   "source": [
    "print(\"Best Score:\" + str(knn_cv.best_score_))\n",
    "print(\"Best Parameters: \" + str(knn_cv.best_params_))"
   ]
  },
  {
   "cell_type": "code",
   "execution_count": 60,
   "metadata": {},
   "outputs": [],
   "source": [
    "knn = KNeighborsClassifier(11)\n",
    "knn_tuned = knn.fit(X_train, y_train)"
   ]
  },
  {
   "cell_type": "code",
   "execution_count": 61,
   "metadata": {},
   "outputs": [
    {
     "data": {
      "text/plain": [
       "0.7316017316017316"
      ]
     },
     "execution_count": 61,
     "metadata": {},
     "output_type": "execute_result"
    }
   ],
   "source": [
    "knn_tuned.score(X_test, y_test)"
   ]
  },
  {
   "cell_type": "code",
   "execution_count": 62,
   "metadata": {},
   "outputs": [],
   "source": [
    "y_pred = knn_tuned.predict(X_test)"
   ]
  },
  {
   "cell_type": "code",
   "execution_count": 63,
   "metadata": {},
   "outputs": [
    {
     "data": {
      "text/plain": [
       "0.7316017316017316"
      ]
     },
     "execution_count": 63,
     "metadata": {},
     "output_type": "execute_result"
    }
   ],
   "source": [
    "accuracy_score(y_test, y_pred)"
   ]
  },
  {
   "cell_type": "markdown",
   "metadata": {},
   "source": [
    "# SVC"
   ]
  },
  {
   "cell_type": "markdown",
   "metadata": {},
   "source": [
    "## Model & Prediction"
   ]
  },
  {
   "cell_type": "code",
   "execution_count": 64,
   "metadata": {},
   "outputs": [],
   "source": [
    "df = diabetes.copy()\n",
    "df = df.dropna()\n",
    "y = df[\"Outcome\"]\n",
    "X = df.drop(['Outcome'], axis=1)\n",
    "X_train, X_test, y_train, y_test = train_test_split(X, y, \n",
    "                                                    test_size=0.30, \n",
    "                                                    random_state=42)"
   ]
  },
  {
   "cell_type": "code",
   "execution_count": 65,
   "metadata": {},
   "outputs": [],
   "source": [
    "svm_model = SVC(kernel = \"linear\").fit(X_train, y_train)"
   ]
  },
  {
   "cell_type": "code",
   "execution_count": 66,
   "metadata": {},
   "outputs": [
    {
     "data": {
      "text/plain": [
       "SVC(C=1.0, break_ties=False, cache_size=200, class_weight=None, coef0=0.0,\n",
       "    decision_function_shape='ovr', degree=3, gamma='scale', kernel='linear',\n",
       "    max_iter=-1, probability=False, random_state=None, shrinking=True,\n",
       "    tol=0.001, verbose=False)"
      ]
     },
     "execution_count": 66,
     "metadata": {},
     "output_type": "execute_result"
    }
   ],
   "source": [
    "svm_model"
   ]
  },
  {
   "cell_type": "code",
   "execution_count": 67,
   "metadata": {},
   "outputs": [],
   "source": [
    "y_pred = svm_model.predict(X_test)"
   ]
  },
  {
   "cell_type": "code",
   "execution_count": 68,
   "metadata": {},
   "outputs": [
    {
     "data": {
      "text/plain": [
       "0.7445887445887446"
      ]
     },
     "execution_count": 68,
     "metadata": {},
     "output_type": "execute_result"
    }
   ],
   "source": [
    "accuracy_score(y_test, y_pred)"
   ]
  },
  {
   "cell_type": "markdown",
   "metadata": {},
   "source": [
    "## Model Tuning"
   ]
  },
  {
   "cell_type": "code",
   "execution_count": 69,
   "metadata": {},
   "outputs": [
    {
     "name": "stdout",
     "output_type": "stream",
     "text": [
      "Fitting 10 folds for each of 9 candidates, totalling 90 fits\n"
     ]
    },
    {
     "name": "stderr",
     "output_type": "stream",
     "text": [
      "[Parallel(n_jobs=-1)]: Using backend LokyBackend with 4 concurrent workers.\n",
      "[Parallel(n_jobs=-1)]: Done  33 tasks      | elapsed:  2.6min\n",
      "[Parallel(n_jobs=-1)]: Done  90 out of  90 | elapsed: 16.1min finished\n"
     ]
    },
    {
     "data": {
      "text/plain": [
       "GridSearchCV(cv=10, error_score=nan,\n",
       "             estimator=SVC(C=1.0, break_ties=False, cache_size=200,\n",
       "                           class_weight=None, coef0=0.0,\n",
       "                           decision_function_shape='ovr', degree=3,\n",
       "                           gamma='scale', kernel='linear', max_iter=-1,\n",
       "                           probability=False, random_state=None, shrinking=True,\n",
       "                           tol=0.001, verbose=False),\n",
       "             iid='deprecated', n_jobs=-1,\n",
       "             param_grid={'C': array([1, 2, 3, 4, 5, 6, 7, 8, 9])},\n",
       "             pre_dispatch='2*n_jobs', refit=True, return_train_score=False,\n",
       "             scoring=None, verbose=2)"
      ]
     },
     "execution_count": 69,
     "metadata": {},
     "output_type": "execute_result"
    }
   ],
   "source": [
    "svc_params = {\"C\": np.arange(1,10)}\n",
    "\n",
    "svc = SVC(kernel = \"linear\")\n",
    "\n",
    "svc_cv_model = GridSearchCV(svc,svc_params, \n",
    "                            cv = 10, \n",
    "                            n_jobs = -1, \n",
    "                            verbose = 2 )\n",
    "\n",
    "svc_cv_model.fit(X_train, y_train)"
   ]
  },
  {
   "cell_type": "code",
   "execution_count": 70,
   "metadata": {},
   "outputs": [
    {
     "name": "stdout",
     "output_type": "stream",
     "text": [
      "Parameters: {'C': 5}\n"
     ]
    }
   ],
   "source": [
    "print(\"Parameters: \" + str(svc_cv_model.best_params_))"
   ]
  },
  {
   "cell_type": "code",
   "execution_count": 71,
   "metadata": {},
   "outputs": [],
   "source": [
    "svc_tuned = SVC(kernel = \"linear\", C = 5).fit(X_train, y_train)"
   ]
  },
  {
   "cell_type": "code",
   "execution_count": 72,
   "metadata": {},
   "outputs": [
    {
     "data": {
      "text/plain": [
       "0.7445887445887446"
      ]
     },
     "execution_count": 72,
     "metadata": {},
     "output_type": "execute_result"
    }
   ],
   "source": [
    "y_pred = svc_tuned.predict(X_test)\n",
    "accuracy_score(y_test, y_pred)"
   ]
  },
  {
   "cell_type": "markdown",
   "metadata": {},
   "source": [
    "# RBF SVC"
   ]
  },
  {
   "cell_type": "markdown",
   "metadata": {},
   "source": [
    "## Model & Tahmin"
   ]
  },
  {
   "cell_type": "code",
   "execution_count": 73,
   "metadata": {},
   "outputs": [],
   "source": [
    "df = diabetes.copy()\n",
    "df = df.dropna()\n",
    "y = df[\"Outcome\"]\n",
    "X = df.drop(['Outcome'], axis=1)\n",
    "X_train, X_test, y_train, y_test = train_test_split(X, y, \n",
    "                                                    test_size=0.30, \n",
    "                                                    random_state=42)"
   ]
  },
  {
   "cell_type": "code",
   "execution_count": 74,
   "metadata": {},
   "outputs": [],
   "source": [
    "svc_model = SVC(kernel = \"rbf\").fit(X_train, y_train)"
   ]
  },
  {
   "cell_type": "code",
   "execution_count": 75,
   "metadata": {},
   "outputs": [
    {
     "data": {
      "text/plain": [
       "SVC(C=1.0, break_ties=False, cache_size=200, class_weight=None, coef0=0.0,\n",
       "    decision_function_shape='ovr', degree=3, gamma='scale', kernel='rbf',\n",
       "    max_iter=-1, probability=False, random_state=None, shrinking=True,\n",
       "    tol=0.001, verbose=False)"
      ]
     },
     "execution_count": 75,
     "metadata": {},
     "output_type": "execute_result"
    }
   ],
   "source": [
    "svc_model"
   ]
  },
  {
   "cell_type": "code",
   "execution_count": 76,
   "metadata": {},
   "outputs": [
    {
     "data": {
      "text/plain": [
       "0.7359307359307359"
      ]
     },
     "execution_count": 76,
     "metadata": {},
     "output_type": "execute_result"
    }
   ],
   "source": [
    "y_pred = svc_model.predict(X_test)\n",
    "accuracy_score(y_test, y_pred)"
   ]
  },
  {
   "cell_type": "markdown",
   "metadata": {},
   "source": [
    "## Model Tuning"
   ]
  },
  {
   "cell_type": "code",
   "execution_count": 77,
   "metadata": {},
   "outputs": [],
   "source": [
    "svc_params = {\"C\": [0.0001, 0.001, 0.1, 1, 5, 10 ,50 ,100],\n",
    "             \"gamma\": [0.0001, 0.001, 0.1, 1, 5, 10 ,50 ,100]}"
   ]
  },
  {
   "cell_type": "code",
   "execution_count": 78,
   "metadata": {},
   "outputs": [
    {
     "name": "stdout",
     "output_type": "stream",
     "text": [
      "Fitting 10 folds for each of 64 candidates, totalling 640 fits\n"
     ]
    },
    {
     "name": "stderr",
     "output_type": "stream",
     "text": [
      "[Parallel(n_jobs=-1)]: Using backend LokyBackend with 4 concurrent workers.\n",
      "[Parallel(n_jobs=-1)]: Done  34 tasks      | elapsed:    3.5s\n",
      "[Parallel(n_jobs=-1)]: Done 640 out of 640 | elapsed:    7.4s finished\n"
     ]
    },
    {
     "data": {
      "text/plain": [
       "GridSearchCV(cv=10, error_score=nan,\n",
       "             estimator=SVC(C=1.0, break_ties=False, cache_size=200,\n",
       "                           class_weight=None, coef0=0.0,\n",
       "                           decision_function_shape='ovr', degree=3,\n",
       "                           gamma='scale', kernel='rbf', max_iter=-1,\n",
       "                           probability=False, random_state=None, shrinking=True,\n",
       "                           tol=0.001, verbose=False),\n",
       "             iid='deprecated', n_jobs=-1,\n",
       "             param_grid={'C': [0.0001, 0.001, 0.1, 1, 5, 10, 50, 100],\n",
       "                         'gamma': [0.0001, 0.001, 0.1, 1, 5, 10, 50, 100]},\n",
       "             pre_dispatch='2*n_jobs', refit=True, return_train_score=False,\n",
       "             scoring=None, verbose=2)"
      ]
     },
     "execution_count": 78,
     "metadata": {},
     "output_type": "execute_result"
    }
   ],
   "source": [
    "svc = SVC()\n",
    "svc_cv_model = GridSearchCV(svc, svc_params, \n",
    "                         cv = 10, \n",
    "                         n_jobs = -1,\n",
    "                         verbose = 2)\n",
    "\n",
    "svc_cv_model.fit(X_train, y_train)"
   ]
  },
  {
   "cell_type": "code",
   "execution_count": 79,
   "metadata": {},
   "outputs": [
    {
     "name": "stdout",
     "output_type": "stream",
     "text": [
      "En iyi parametreler: {'C': 10, 'gamma': 0.0001}\n"
     ]
    }
   ],
   "source": [
    "print(\"En iyi parametreler: \" + str(svc_cv_model.best_params_))"
   ]
  },
  {
   "cell_type": "code",
   "execution_count": 80,
   "metadata": {},
   "outputs": [],
   "source": [
    "svc_tuned = SVC(C = 10, gamma = 0.0001).fit(X_train, y_train)"
   ]
  },
  {
   "cell_type": "code",
   "execution_count": 81,
   "metadata": {},
   "outputs": [
    {
     "data": {
      "text/plain": [
       "0.7359307359307359"
      ]
     },
     "execution_count": 81,
     "metadata": {},
     "output_type": "execute_result"
    }
   ],
   "source": [
    "y_pred = svc_tuned.predict(X_test)\n",
    "accuracy_score(y_test, y_pred)"
   ]
  },
  {
   "cell_type": "markdown",
   "metadata": {},
   "source": [
    "# Artificial Neural Networks"
   ]
  },
  {
   "cell_type": "markdown",
   "metadata": {},
   "source": [
    "## Model & Prediction"
   ]
  },
  {
   "cell_type": "code",
   "execution_count": 82,
   "metadata": {},
   "outputs": [],
   "source": [
    "df = diabetes.copy()\n",
    "df = df.dropna()\n",
    "y = df[\"Outcome\"]\n",
    "X = df.drop(['Outcome'], axis=1)\n",
    "X_train, X_test, y_train, y_test = train_test_split(X, y, \n",
    "                                                    test_size=0.30, \n",
    "                                                    random_state=42)"
   ]
  },
  {
   "cell_type": "code",
   "execution_count": 83,
   "metadata": {},
   "outputs": [],
   "source": [
    "from sklearn.preprocessing import StandardScaler  "
   ]
  },
  {
   "cell_type": "code",
   "execution_count": 84,
   "metadata": {},
   "outputs": [],
   "source": [
    "scaler = StandardScaler()"
   ]
  },
  {
   "cell_type": "code",
   "execution_count": 85,
   "metadata": {},
   "outputs": [],
   "source": [
    "scaler.fit(X_train)\n",
    "X_train_scaled = scaler.transform(X_train)\n",
    "X_test_scaled = scaler.transform(X_test)"
   ]
  },
  {
   "cell_type": "code",
   "execution_count": 86,
   "metadata": {},
   "outputs": [
    {
     "data": {
      "text/plain": [
       "array([[ 0.69748316, -0.70719864, -0.64639893,  0.81207927,  0.95720244,\n",
       "         0.26575953, -0.11680393,  0.85019217],\n",
       "       [-0.52953881, -0.27388818,  0.29399563,  0.74746428, -0.6936878 ,\n",
       "         0.488933  , -0.94192338, -1.03426754],\n",
       "       [-0.52953881, -0.39769117, -0.31449497, -1.3202154 , -0.6936878 ,\n",
       "        -0.1543317 , -0.91266382, -1.03426754],\n",
       "       [ 1.31099414, -0.42864191,  0.57058226, -1.3202154 , -0.6936878 ,\n",
       "        -0.96825847,  1.12965312,  0.07927683],\n",
       "       [ 1.00423865,  0.46892976,  1.12375553, -1.3202154 , -0.6936878 ,\n",
       "        -0.27248236, -0.76051413,  1.44979298]])"
      ]
     },
     "execution_count": 86,
     "metadata": {},
     "output_type": "execute_result"
    }
   ],
   "source": [
    "X_test_scaled[0:5]"
   ]
  },
  {
   "cell_type": "code",
   "execution_count": 87,
   "metadata": {},
   "outputs": [],
   "source": [
    "from sklearn.neural_network import MLPClassifier"
   ]
  },
  {
   "cell_type": "code",
   "execution_count": 88,
   "metadata": {},
   "outputs": [],
   "source": [
    "mlpc = MLPClassifier().fit(X_train_scaled, y_train)"
   ]
  },
  {
   "cell_type": "code",
   "execution_count": 89,
   "metadata": {},
   "outputs": [
    {
     "data": {
      "text/plain": [
       "0.7359307359307359"
      ]
     },
     "execution_count": 89,
     "metadata": {},
     "output_type": "execute_result"
    }
   ],
   "source": [
    "y_pred = mlpc.predict(X_test_scaled)\n",
    "accuracy_score(y_test, y_pred)"
   ]
  },
  {
   "cell_type": "markdown",
   "metadata": {},
   "source": [
    "## Model Tuning"
   ]
  },
  {
   "cell_type": "code",
   "execution_count": 90,
   "metadata": {},
   "outputs": [
    {
     "data": {
      "text/plain": [
       "MLPClassifier(activation='relu', alpha=0.0001, batch_size='auto', beta_1=0.9,\n",
       "              beta_2=0.999, early_stopping=False, epsilon=1e-08,\n",
       "              hidden_layer_sizes=(100,), learning_rate='constant',\n",
       "              learning_rate_init=0.001, max_fun=15000, max_iter=200,\n",
       "              momentum=0.9, n_iter_no_change=10, nesterovs_momentum=True,\n",
       "              power_t=0.5, random_state=None, shuffle=True, solver='adam',\n",
       "              tol=0.0001, validation_fraction=0.1, verbose=False,\n",
       "              warm_start=False)"
      ]
     },
     "execution_count": 90,
     "metadata": {},
     "output_type": "execute_result"
    }
   ],
   "source": [
    "mlpc"
   ]
  },
  {
   "cell_type": "code",
   "execution_count": 91,
   "metadata": {
    "collapsed": true,
    "jupyter": {
     "outputs_hidden": true
    }
   },
   "outputs": [
    {
     "data": {
      "text/plain": [
       "\u001b[0;31mType:\u001b[0m        MLPClassifier\n",
       "\u001b[0;31mString form:\u001b[0m\n",
       "MLPClassifier(activation='relu', alpha=0.0001, batch_size='auto', beta_1=0.9,\n",
       "           beta_ <...>               tol=0.0001, validation_fraction=0.1, verbose=False,\n",
       "           warm_start=False)\n",
       "\u001b[0;31mFile:\u001b[0m        /opt/anaconda3/lib/python3.7/site-packages/sklearn/neural_network/_multilayer_perceptron.py\n",
       "\u001b[0;31mDocstring:\u001b[0m  \n",
       "Multi-layer Perceptron classifier.\n",
       "\n",
       "This model optimizes the log-loss function using LBFGS or stochastic\n",
       "gradient descent.\n",
       "\n",
       ".. versionadded:: 0.18\n",
       "\n",
       "Parameters\n",
       "----------\n",
       "hidden_layer_sizes : tuple, length = n_layers - 2, default=(100,)\n",
       "    The ith element represents the number of neurons in the ith\n",
       "    hidden layer.\n",
       "\n",
       "activation : {'identity', 'logistic', 'tanh', 'relu'}, default='relu'\n",
       "    Activation function for the hidden layer.\n",
       "\n",
       "    - 'identity', no-op activation, useful to implement linear bottleneck,\n",
       "      returns f(x) = x\n",
       "\n",
       "    - 'logistic', the logistic sigmoid function,\n",
       "      returns f(x) = 1 / (1 + exp(-x)).\n",
       "\n",
       "    - 'tanh', the hyperbolic tan function,\n",
       "      returns f(x) = tanh(x).\n",
       "\n",
       "    - 'relu', the rectified linear unit function,\n",
       "      returns f(x) = max(0, x)\n",
       "\n",
       "solver : {'lbfgs', 'sgd', 'adam'}, default='adam'\n",
       "    The solver for weight optimization.\n",
       "\n",
       "    - 'lbfgs' is an optimizer in the family of quasi-Newton methods.\n",
       "\n",
       "    - 'sgd' refers to stochastic gradient descent.\n",
       "\n",
       "    - 'adam' refers to a stochastic gradient-based optimizer proposed\n",
       "      by Kingma, Diederik, and Jimmy Ba\n",
       "\n",
       "    Note: The default solver 'adam' works pretty well on relatively\n",
       "    large datasets (with thousands of training samples or more) in terms of\n",
       "    both training time and validation score.\n",
       "    For small datasets, however, 'lbfgs' can converge faster and perform\n",
       "    better.\n",
       "\n",
       "alpha : float, default=0.0001\n",
       "    L2 penalty (regularization term) parameter.\n",
       "\n",
       "batch_size : int, default='auto'\n",
       "    Size of minibatches for stochastic optimizers.\n",
       "    If the solver is 'lbfgs', the classifier will not use minibatch.\n",
       "    When set to \"auto\", `batch_size=min(200, n_samples)`\n",
       "\n",
       "learning_rate : {'constant', 'invscaling', 'adaptive'}, default='constant'\n",
       "    Learning rate schedule for weight updates.\n",
       "\n",
       "    - 'constant' is a constant learning rate given by\n",
       "      'learning_rate_init'.\n",
       "\n",
       "    - 'invscaling' gradually decreases the learning rate at each\n",
       "      time step 't' using an inverse scaling exponent of 'power_t'.\n",
       "      effective_learning_rate = learning_rate_init / pow(t, power_t)\n",
       "\n",
       "    - 'adaptive' keeps the learning rate constant to\n",
       "      'learning_rate_init' as long as training loss keeps decreasing.\n",
       "      Each time two consecutive epochs fail to decrease training loss by at\n",
       "      least tol, or fail to increase validation score by at least tol if\n",
       "      'early_stopping' is on, the current learning rate is divided by 5.\n",
       "\n",
       "    Only used when ``solver='sgd'``.\n",
       "\n",
       "learning_rate_init : double, default=0.001\n",
       "    The initial learning rate used. It controls the step-size\n",
       "    in updating the weights. Only used when solver='sgd' or 'adam'.\n",
       "\n",
       "power_t : double, default=0.5\n",
       "    The exponent for inverse scaling learning rate.\n",
       "    It is used in updating effective learning rate when the learning_rate\n",
       "    is set to 'invscaling'. Only used when solver='sgd'.\n",
       "\n",
       "max_iter : int, default=200\n",
       "    Maximum number of iterations. The solver iterates until convergence\n",
       "    (determined by 'tol') or this number of iterations. For stochastic\n",
       "    solvers ('sgd', 'adam'), note that this determines the number of epochs\n",
       "    (how many times each data point will be used), not the number of\n",
       "    gradient steps.\n",
       "\n",
       "shuffle : bool, default=True\n",
       "    Whether to shuffle samples in each iteration. Only used when\n",
       "    solver='sgd' or 'adam'.\n",
       "\n",
       "random_state : int, RandomState instance or None, default=None\n",
       "    If int, random_state is the seed used by the random number generator;\n",
       "    If RandomState instance, random_state is the random number generator;\n",
       "    If None, the random number generator is the RandomState instance used\n",
       "    by `np.random`.\n",
       "\n",
       "tol : float, default=1e-4\n",
       "    Tolerance for the optimization. When the loss or score is not improving\n",
       "    by at least ``tol`` for ``n_iter_no_change`` consecutive iterations,\n",
       "    unless ``learning_rate`` is set to 'adaptive', convergence is\n",
       "    considered to be reached and training stops.\n",
       "\n",
       "verbose : bool, default=False\n",
       "    Whether to print progress messages to stdout.\n",
       "\n",
       "warm_start : bool, default=False\n",
       "    When set to True, reuse the solution of the previous\n",
       "    call to fit as initialization, otherwise, just erase the\n",
       "    previous solution. See :term:`the Glossary <warm_start>`.\n",
       "\n",
       "momentum : float, default=0.9\n",
       "    Momentum for gradient descent update. Should be between 0 and 1. Only\n",
       "    used when solver='sgd'.\n",
       "\n",
       "nesterovs_momentum : boolean, default=True\n",
       "    Whether to use Nesterov's momentum. Only used when solver='sgd' and\n",
       "    momentum > 0.\n",
       "\n",
       "early_stopping : bool, default=False\n",
       "    Whether to use early stopping to terminate training when validation\n",
       "    score is not improving. If set to true, it will automatically set\n",
       "    aside 10% of training data as validation and terminate training when\n",
       "    validation score is not improving by at least tol for\n",
       "    ``n_iter_no_change`` consecutive epochs. The split is stratified,\n",
       "    except in a multilabel setting.\n",
       "    Only effective when solver='sgd' or 'adam'\n",
       "\n",
       "validation_fraction : float, default=0.1\n",
       "    The proportion of training data to set aside as validation set for\n",
       "    early stopping. Must be between 0 and 1.\n",
       "    Only used if early_stopping is True\n",
       "\n",
       "beta_1 : float, default=0.9\n",
       "    Exponential decay rate for estimates of first moment vector in adam,\n",
       "    should be in [0, 1). Only used when solver='adam'\n",
       "\n",
       "beta_2 : float, default=0.999\n",
       "    Exponential decay rate for estimates of second moment vector in adam,\n",
       "    should be in [0, 1). Only used when solver='adam'\n",
       "\n",
       "epsilon : float, default=1e-8\n",
       "    Value for numerical stability in adam. Only used when solver='adam'\n",
       "\n",
       "n_iter_no_change : int, default=10\n",
       "    Maximum number of epochs to not meet ``tol`` improvement.\n",
       "    Only effective when solver='sgd' or 'adam'\n",
       "\n",
       "    .. versionadded:: 0.20\n",
       "\n",
       "max_fun : int, default=15000\n",
       "    Only used when solver='lbfgs'. Maximum number of loss function calls.\n",
       "    The solver iterates until convergence (determined by 'tol'), number\n",
       "    of iterations reaches max_iter, or this number of loss function calls.\n",
       "    Note that number of loss function calls will be greater than or equal\n",
       "    to the number of iterations for the `MLPClassifier`.\n",
       "\n",
       "    .. versionadded:: 0.22\n",
       "\n",
       "Attributes\n",
       "----------\n",
       "classes_ : ndarray or list of ndarray of shape (n_classes,)\n",
       "    Class labels for each output.\n",
       "\n",
       "loss_ : float\n",
       "    The current loss computed with the loss function.\n",
       "\n",
       "coefs_ : list, length n_layers - 1\n",
       "    The ith element in the list represents the weight matrix corresponding\n",
       "    to layer i.\n",
       "\n",
       "intercepts_ : list, length n_layers - 1\n",
       "    The ith element in the list represents the bias vector corresponding to\n",
       "    layer i + 1.\n",
       "\n",
       "n_iter_ : int,\n",
       "    The number of iterations the solver has ran.\n",
       "\n",
       "n_layers_ : int\n",
       "    Number of layers.\n",
       "\n",
       "n_outputs_ : int\n",
       "    Number of outputs.\n",
       "\n",
       "out_activation_ : string\n",
       "    Name of the output activation function.\n",
       "\n",
       "Notes\n",
       "-----\n",
       "MLPClassifier trains iteratively since at each time step\n",
       "the partial derivatives of the loss function with respect to the model\n",
       "parameters are computed to update the parameters.\n",
       "\n",
       "It can also have a regularization term added to the loss function\n",
       "that shrinks model parameters to prevent overfitting.\n",
       "\n",
       "This implementation works with data represented as dense numpy arrays or\n",
       "sparse scipy arrays of floating point values.\n",
       "\n",
       "References\n",
       "----------\n",
       "Hinton, Geoffrey E.\n",
       "    \"Connectionist learning procedures.\" Artificial intelligence 40.1\n",
       "    (1989): 185-234.\n",
       "\n",
       "Glorot, Xavier, and Yoshua Bengio. \"Understanding the difficulty of\n",
       "    training deep feedforward neural networks.\" International Conference\n",
       "    on Artificial Intelligence and Statistics. 2010.\n",
       "\n",
       "He, Kaiming, et al. \"Delving deep into rectifiers: Surpassing human-level\n",
       "    performance on imagenet classification.\" arXiv preprint\n",
       "    arXiv:1502.01852 (2015).\n",
       "\n",
       "Kingma, Diederik, and Jimmy Ba. \"Adam: A method for stochastic\n",
       "    optimization.\" arXiv preprint arXiv:1412.6980 (2014).\n"
      ]
     },
     "metadata": {},
     "output_type": "display_data"
    }
   ],
   "source": [
    "?mlpc"
   ]
  },
  {
   "cell_type": "code",
   "execution_count": 92,
   "metadata": {},
   "outputs": [],
   "source": [
    "mlpc_params = {\"alpha\": [0.1, 0.01, 0.02, 0.005, 0.0001,0.00001],\n",
    "              \"hidden_layer_sizes\": [(10,10,10),\n",
    "                                     (100,100,100),\n",
    "                                     (100,100),\n",
    "                                     (3,5), \n",
    "                                     (5, 3)],\n",
    "              \"solver\" : [\"lbfgs\",\"adam\",\"sgd\"],\n",
    "              \"activation\": [\"relu\",\"logistic\"]}"
   ]
  },
  {
   "cell_type": "code",
   "execution_count": 93,
   "metadata": {},
   "outputs": [
    {
     "name": "stdout",
     "output_type": "stream",
     "text": [
      "Fitting 10 folds for each of 180 candidates, totalling 1800 fits\n"
     ]
    },
    {
     "name": "stderr",
     "output_type": "stream",
     "text": [
      "[Parallel(n_jobs=-1)]: Using backend LokyBackend with 4 concurrent workers.\n",
      "[Parallel(n_jobs=-1)]: Done  33 tasks      | elapsed:   13.7s\n",
      "[Parallel(n_jobs=-1)]: Done 154 tasks      | elapsed:   53.0s\n",
      "[Parallel(n_jobs=-1)]: Done 357 tasks      | elapsed:  2.1min\n",
      "[Parallel(n_jobs=-1)]: Done 640 tasks      | elapsed:  3.4min\n",
      "[Parallel(n_jobs=-1)]: Done 1005 tasks      | elapsed:  5.2min\n",
      "[Parallel(n_jobs=-1)]: Done 1450 tasks      | elapsed:  7.1min\n",
      "[Parallel(n_jobs=-1)]: Done 1800 out of 1800 | elapsed:  8.4min finished\n"
     ]
    },
    {
     "data": {
      "text/plain": [
       "GridSearchCV(cv=10, error_score=nan,\n",
       "             estimator=MLPClassifier(activation='relu', alpha=0.0001,\n",
       "                                     batch_size='auto', beta_1=0.9,\n",
       "                                     beta_2=0.999, early_stopping=False,\n",
       "                                     epsilon=1e-08, hidden_layer_sizes=(100,),\n",
       "                                     learning_rate='constant',\n",
       "                                     learning_rate_init=0.001, max_fun=15000,\n",
       "                                     max_iter=200, momentum=0.9,\n",
       "                                     n_iter_no_change=10,\n",
       "                                     nesterovs_momentum=True, power_t=0.5,\n",
       "                                     random_stat...\n",
       "                                     validation_fraction=0.1, verbose=False,\n",
       "                                     warm_start=False),\n",
       "             iid='deprecated', n_jobs=-1,\n",
       "             param_grid={'activation': ['relu', 'logistic'],\n",
       "                         'alpha': [0.1, 0.01, 0.02, 0.005, 0.0001, 1e-05],\n",
       "                         'hidden_layer_sizes': [(10, 10, 10), (100, 100, 100),\n",
       "                                                (100, 100), (3, 5), (5, 3)],\n",
       "                         'solver': ['lbfgs', 'adam', 'sgd']},\n",
       "             pre_dispatch='2*n_jobs', refit=True, return_train_score=False,\n",
       "             scoring=None, verbose=2)"
      ]
     },
     "execution_count": 93,
     "metadata": {},
     "output_type": "execute_result"
    }
   ],
   "source": [
    "mlpc = MLPClassifier()\n",
    "mlpc_cv_model = GridSearchCV(mlpc, mlpc_params, \n",
    "                         cv = 10, \n",
    "                         n_jobs = -1,\n",
    "                         verbose = 2)\n",
    "\n",
    "mlpc_cv_model.fit(X_train_scaled, y_train)"
   ]
  },
  {
   "cell_type": "code",
   "execution_count": 94,
   "metadata": {},
   "outputs": [
    {
     "name": "stdout",
     "output_type": "stream",
     "text": [
      "Best Parameters: {'activation': 'relu', 'alpha': 0.0001, 'hidden_layer_sizes': (100, 100, 100), 'solver': 'sgd'}\n"
     ]
    }
   ],
   "source": [
    "print(\"Best Parameters: \" + str(mlpc_cv_model.best_params_))"
   ]
  },
  {
   "cell_type": "code",
   "execution_count": 96,
   "metadata": {},
   "outputs": [],
   "source": [
    "mlpc_tuned = MLPClassifier(activation = \"logistic\", \n",
    "                           alpha = 0.0001, \n",
    "                           hidden_layer_sizes = (100, 100, 100),\n",
    "                          solver = \"sgd\")"
   ]
  },
  {
   "cell_type": "code",
   "execution_count": 97,
   "metadata": {},
   "outputs": [
    {
     "data": {
      "text/plain": [
       "MLPClassifier(activation='logistic', alpha=0.0001, batch_size='auto',\n",
       "              beta_1=0.9, beta_2=0.999, early_stopping=False, epsilon=1e-08,\n",
       "              hidden_layer_sizes=(100, 100, 100), learning_rate='constant',\n",
       "              learning_rate_init=0.001, max_fun=15000, max_iter=200,\n",
       "              momentum=0.9, n_iter_no_change=10, nesterovs_momentum=True,\n",
       "              power_t=0.5, random_state=None, shuffle=True, solver='sgd',\n",
       "              tol=0.0001, validation_fraction=0.1, verbose=False,\n",
       "              warm_start=False)"
      ]
     },
     "execution_count": 97,
     "metadata": {},
     "output_type": "execute_result"
    }
   ],
   "source": [
    "mlpc_tuned.fit(X_train_scaled, y_train)"
   ]
  },
  {
   "cell_type": "code",
   "execution_count": 98,
   "metadata": {},
   "outputs": [
    {
     "data": {
      "text/plain": [
       "0.6536796536796536"
      ]
     },
     "execution_count": 98,
     "metadata": {},
     "output_type": "execute_result"
    }
   ],
   "source": [
    "y_pred = mlpc_tuned.predict(X_test_scaled)\n",
    "accuracy_score(y_test, y_pred)"
   ]
  },
  {
   "cell_type": "markdown",
   "metadata": {},
   "source": [
    "# CART"
   ]
  },
  {
   "cell_type": "markdown",
   "metadata": {},
   "source": [
    "## Model & Tahmin"
   ]
  },
  {
   "cell_type": "code",
   "execution_count": 99,
   "metadata": {},
   "outputs": [],
   "source": [
    "df = diabetes.copy()\n",
    "df = df.dropna()\n",
    "y = df[\"Outcome\"]\n",
    "X = df.drop(['Outcome'], axis=1)\n",
    "#X = df[\"Pregnancies\"]\n",
    "X = pd.DataFrame(X)\n",
    "X_train, X_test, y_train, y_test = train_test_split(X, y, \n",
    "                                                    test_size=0.30, \n",
    "                                                    random_state=42)"
   ]
  },
  {
   "cell_type": "code",
   "execution_count": 100,
   "metadata": {},
   "outputs": [],
   "source": [
    "from sklearn.tree import DecisionTreeClassifier"
   ]
  },
  {
   "cell_type": "code",
   "execution_count": 101,
   "metadata": {},
   "outputs": [],
   "source": [
    "cart = DecisionTreeClassifier()\n",
    "cart_model = cart.fit(X_train, y_train)"
   ]
  },
  {
   "cell_type": "code",
   "execution_count": 102,
   "metadata": {},
   "outputs": [
    {
     "data": {
      "text/plain": [
       "DecisionTreeClassifier(ccp_alpha=0.0, class_weight=None, criterion='gini',\n",
       "                       max_depth=None, max_features=None, max_leaf_nodes=None,\n",
       "                       min_impurity_decrease=0.0, min_impurity_split=None,\n",
       "                       min_samples_leaf=1, min_samples_split=2,\n",
       "                       min_weight_fraction_leaf=0.0, presort='deprecated',\n",
       "                       random_state=None, splitter='best')"
      ]
     },
     "execution_count": 102,
     "metadata": {},
     "output_type": "execute_result"
    }
   ],
   "source": [
    "cart_model"
   ]
  },
  {
   "cell_type": "code",
   "execution_count": 104,
   "metadata": {},
   "outputs": [
    {
     "name": "stdout",
     "output_type": "stream",
     "text": [
      "Collecting skompiler\n",
      "  Downloading SKompiler-0.5.5.tar.gz (48 kB)\n",
      "\u001b[K     |████████████████████████████████| 48 kB 1.7 MB/s eta 0:00:011\n",
      "\u001b[?25hRequirement already satisfied: scikit-learn in /opt/anaconda3/lib/python3.7/site-packages (from skompiler) (0.22.1)\n",
      "Requirement already satisfied: joblib>=0.11 in /opt/anaconda3/lib/python3.7/site-packages (from scikit-learn->skompiler) (0.14.1)\n",
      "Requirement already satisfied: numpy>=1.11.0 in /opt/anaconda3/lib/python3.7/site-packages (from scikit-learn->skompiler) (1.18.0)\n",
      "Requirement already satisfied: scipy>=0.17.0 in /opt/anaconda3/lib/python3.7/site-packages (from scikit-learn->skompiler) (1.4.1)\n",
      "Building wheels for collected packages: skompiler\n",
      "  Building wheel for skompiler (setup.py) ... \u001b[?25ldone\n",
      "\u001b[?25h  Created wheel for skompiler: filename=SKompiler-0.5.5-py3-none-any.whl size=57146 sha256=e1df447c6cbdfc6b53e8832515071103f7f4e0a57d7293e30b3851795468f1b8\n",
      "  Stored in directory: /Users/muratkahraman/Library/Caches/pip/wheels/1f/f6/09/b8aec43d39ab30463488d91526f29ba56155a6a6d61cf69986\n",
      "Successfully built skompiler\n",
      "Installing collected packages: skompiler\n",
      "Successfully installed skompiler-0.5.5\n",
      "((((((0 if x[6] <= 0.671999990940094 else 1 if x[6] <= 0.6974999904632568 else\n",
      "    0) if x[5] <= 31.40000057220459 else ((0 if x[3] <= 40.5 else 1) if x[1\n",
      "    ] <= 111.5 else ((1 if x[1] <= 123.0 else 0) if x[2] <= 65.0 else 0) if\n",
      "    x[2] <= 72.0 else 1) if x[4] <= 9.0 else (0 if x[6] <= \n",
      "    0.6395000219345093 else 1 if x[6] <= 0.6759999990463257 else 0) if x[0] <=\n",
      "    4.5 else 0 if x[3] <= 40.5 else 1) if x[5] <= 49.10000038146973 else 1) if\n",
      "    x[1] <= 127.5 else 1 if x[2] <= 56.0 else (0 if x[7] <= 27.5 else 0 if \n",
      "    x[3] <= 14.5 else 1) if x[5] <= 30.300000190734863 else 1 if x[5] <= \n",
      "    32.000000953674316 else ((0 if x[5] <= 33.75 else 1) if x[0] <= 0.5 else\n",
      "    1 if x[5] <= 32.45000076293945 else 0) if x[2] <= 85.0 else 1) if x[7] <=\n",
      "    28.5 else (1 if x[7] <= 29.5 else (0 if x[1] <= 133.0 else (1 if x[1] <=\n",
      "    142.0 else 0) if x[0] <= 4.5 else 0) if x[2] <= 94.0 else 1 if x[0] <= \n",
      "    9.0 else 0) if x[5] <= 26.949999809265137 else (1 if x[1] <= 28.5 else \n",
      "    0 if x[0] <= 9.5 else 0 if x[6] <= 0.29099999368190765 else 1 if x[5] <=\n",
      "    35.10000038146973 else 0) if x[1] <= 94.5 else ((((0 if x[6] <= \n",
      "    0.24950000643730164 else 1 if x[4] <= 115.5 else 0) if x[5] <= \n",
      "    28.34999942779541 else 1 if x[2] <= 67.0 else 0 if x[7] <= 30.5 else ((\n",
      "    0 if x[0] <= 5.5 else 1) if x[6] <= 0.21000000089406967 else 1 if x[6] <=\n",
      "    0.42249999940395355 else 0 if x[4] <= 230.5 else 1) if x[0] <= 9.0 else\n",
      "    0 if x[4] <= 57.5 else 1) if x[3] <= 26.5 else ((0 if x[3] <= 29.5 else\n",
      "    0 if x[6] <= 0.19299999624490738 else 1) if x[2] <= 67.0 else 0 if x[4] <=\n",
      "    155.0 else 0 if x[2] <= 76.0 else 1) if x[1] <= 127.5 else (1 if x[5] <=\n",
      "    29.399999618530273 else 0) if x[5] <= 35.5 else 1) if x[2] <= 83.0 else\n",
      "    ((0 if x[3] <= 39.5 else 0 if x[4] <= 44.0 else 1) if x[5] <= \n",
      "    41.19999885559082 else 1) if x[4] <= 124.0 else 0 if x[3] <= 19.5 else \n",
      "    1) if x[6] <= 0.527999997138977 else ((((0 if x[2] <= 72.0 else 1) if x\n",
      "    [7] <= 32.5 else 1) if x[1] <= 132.0 else 0) if x[5] <= \n",
      "    29.09999942779541 else 1 if x[6] <= 0.5479999780654907 else 0) if x[5] <=\n",
      "    31.600000381469727 else ((1 if x[2] <= 87.0 else 1 if x[5] <= \n",
      "    36.64999961853027 else 0) if x[3] <= 54.5 else 0) if x[6] <= \n",
      "    1.1489999890327454 else 1 if x[7] <= 36.0 else 0) if x[1] <= 154.5 else\n",
      "    (1 if x[5] <= 25.350000381469727 else 0 if x[6] <= 0.3684999942779541 else\n",
      "    1 if x[1] <= 179.5 else 0 if x[6] <= 0.9229999780654907 else 1) if x[5] <=\n",
      "    28.700000762939453 else (((((1 if x[6] <= 0.2695000022649765 else 0) if\n",
      "    x[4] <= 180.0 else 0) if x[4] <= 457.0 else 1) if x[7] <= 30.5 else 1) if\n",
      "    x[6] <= 0.3044999986886978 else (1 if x[1] <= 164.5 else 0) if x[1] <= \n",
      "    165.5 else 1) if x[6] <= 1.4275000095367432 else 1 if x[0] <= 3.5 else 0)\n",
      "\n"
     ]
    }
   ],
   "source": [
    "!pip install skompiler\n",
    "from skompiler import skompile\n",
    "print(skompile(cart_model.predict).to(\"python/code\"))"
   ]
  },
  {
   "cell_type": "code",
   "execution_count": 105,
   "metadata": {},
   "outputs": [],
   "source": [
    "x = [9]"
   ]
  },
  {
   "cell_type": "code",
   "execution_count": 106,
   "metadata": {},
   "outputs": [
    {
     "data": {
      "text/plain": [
       "1"
      ]
     },
     "execution_count": 106,
     "metadata": {},
     "output_type": "execute_result"
    }
   ],
   "source": [
    "((0 if x[0] <= 2.5 else 0) if x[0] <= 6.5 else 1 if x[0] <= 13.5 else 1)"
   ]
  },
  {
   "cell_type": "code",
   "execution_count": 107,
   "metadata": {},
   "outputs": [
    {
     "data": {
      "text/plain": [
       "0.70995670995671"
      ]
     },
     "execution_count": 107,
     "metadata": {},
     "output_type": "execute_result"
    }
   ],
   "source": [
    "y_pred = cart_model.predict(X_test)\n",
    "accuracy_score(y_test, y_pred)"
   ]
  },
  {
   "cell_type": "markdown",
   "metadata": {},
   "source": [
    "## Model Tuning"
   ]
  },
  {
   "cell_type": "code",
   "execution_count": 108,
   "metadata": {},
   "outputs": [
    {
     "data": {
      "text/plain": [
       "DecisionTreeClassifier(ccp_alpha=0.0, class_weight=None, criterion='gini',\n",
       "                       max_depth=None, max_features=None, max_leaf_nodes=None,\n",
       "                       min_impurity_decrease=0.0, min_impurity_split=None,\n",
       "                       min_samples_leaf=1, min_samples_split=2,\n",
       "                       min_weight_fraction_leaf=0.0, presort='deprecated',\n",
       "                       random_state=None, splitter='best')"
      ]
     },
     "execution_count": 108,
     "metadata": {},
     "output_type": "execute_result"
    }
   ],
   "source": [
    "cart_model"
   ]
  },
  {
   "cell_type": "code",
   "execution_count": 109,
   "metadata": {
    "collapsed": true,
    "jupyter": {
     "outputs_hidden": true
    }
   },
   "outputs": [
    {
     "data": {
      "text/plain": [
       "\u001b[0;31mType:\u001b[0m        DecisionTreeClassifier\n",
       "\u001b[0;31mString form:\u001b[0m\n",
       "DecisionTreeClassifier(ccp_alpha=0.0, class_weight=None, criterion='gini',\n",
       "           <...> action_leaf=0.0, presort='deprecated',\n",
       "           random_state=None, splitter='best')\n",
       "\u001b[0;31mFile:\u001b[0m        /opt/anaconda3/lib/python3.7/site-packages/sklearn/tree/_classes.py\n",
       "\u001b[0;31mDocstring:\u001b[0m  \n",
       "A decision tree classifier.\n",
       "\n",
       "Read more in the :ref:`User Guide <tree>`.\n",
       "\n",
       "Parameters\n",
       "----------\n",
       "criterion : {\"gini\", \"entropy\"}, default=\"gini\"\n",
       "    The function to measure the quality of a split. Supported criteria are\n",
       "    \"gini\" for the Gini impurity and \"entropy\" for the information gain.\n",
       "\n",
       "splitter : {\"best\", \"random\"}, default=\"best\"\n",
       "    The strategy used to choose the split at each node. Supported\n",
       "    strategies are \"best\" to choose the best split and \"random\" to choose\n",
       "    the best random split.\n",
       "\n",
       "max_depth : int, default=None\n",
       "    The maximum depth of the tree. If None, then nodes are expanded until\n",
       "    all leaves are pure or until all leaves contain less than\n",
       "    min_samples_split samples.\n",
       "\n",
       "min_samples_split : int or float, default=2\n",
       "    The minimum number of samples required to split an internal node:\n",
       "\n",
       "    - If int, then consider `min_samples_split` as the minimum number.\n",
       "    - If float, then `min_samples_split` is a fraction and\n",
       "      `ceil(min_samples_split * n_samples)` are the minimum\n",
       "      number of samples for each split.\n",
       "\n",
       "    .. versionchanged:: 0.18\n",
       "       Added float values for fractions.\n",
       "\n",
       "min_samples_leaf : int or float, default=1\n",
       "    The minimum number of samples required to be at a leaf node.\n",
       "    A split point at any depth will only be considered if it leaves at\n",
       "    least ``min_samples_leaf`` training samples in each of the left and\n",
       "    right branches.  This may have the effect of smoothing the model,\n",
       "    especially in regression.\n",
       "\n",
       "    - If int, then consider `min_samples_leaf` as the minimum number.\n",
       "    - If float, then `min_samples_leaf` is a fraction and\n",
       "      `ceil(min_samples_leaf * n_samples)` are the minimum\n",
       "      number of samples for each node.\n",
       "\n",
       "    .. versionchanged:: 0.18\n",
       "       Added float values for fractions.\n",
       "\n",
       "min_weight_fraction_leaf : float, default=0.0\n",
       "    The minimum weighted fraction of the sum total of weights (of all\n",
       "    the input samples) required to be at a leaf node. Samples have\n",
       "    equal weight when sample_weight is not provided.\n",
       "\n",
       "max_features : int, float or {\"auto\", \"sqrt\", \"log2\"}, default=None\n",
       "    The number of features to consider when looking for the best split:\n",
       "\n",
       "        - If int, then consider `max_features` features at each split.\n",
       "        - If float, then `max_features` is a fraction and\n",
       "          `int(max_features * n_features)` features are considered at each\n",
       "          split.\n",
       "        - If \"auto\", then `max_features=sqrt(n_features)`.\n",
       "        - If \"sqrt\", then `max_features=sqrt(n_features)`.\n",
       "        - If \"log2\", then `max_features=log2(n_features)`.\n",
       "        - If None, then `max_features=n_features`.\n",
       "\n",
       "    Note: the search for a split does not stop until at least one\n",
       "    valid partition of the node samples is found, even if it requires to\n",
       "    effectively inspect more than ``max_features`` features.\n",
       "\n",
       "random_state : int or RandomState, default=None\n",
       "    If int, random_state is the seed used by the random number generator;\n",
       "    If RandomState instance, random_state is the random number generator;\n",
       "    If None, the random number generator is the RandomState instance used\n",
       "    by `np.random`.\n",
       "\n",
       "max_leaf_nodes : int, default=None\n",
       "    Grow a tree with ``max_leaf_nodes`` in best-first fashion.\n",
       "    Best nodes are defined as relative reduction in impurity.\n",
       "    If None then unlimited number of leaf nodes.\n",
       "\n",
       "min_impurity_decrease : float, default=0.0\n",
       "    A node will be split if this split induces a decrease of the impurity\n",
       "    greater than or equal to this value.\n",
       "\n",
       "    The weighted impurity decrease equation is the following::\n",
       "\n",
       "        N_t / N * (impurity - N_t_R / N_t * right_impurity\n",
       "                            - N_t_L / N_t * left_impurity)\n",
       "\n",
       "    where ``N`` is the total number of samples, ``N_t`` is the number of\n",
       "    samples at the current node, ``N_t_L`` is the number of samples in the\n",
       "    left child, and ``N_t_R`` is the number of samples in the right child.\n",
       "\n",
       "    ``N``, ``N_t``, ``N_t_R`` and ``N_t_L`` all refer to the weighted sum,\n",
       "    if ``sample_weight`` is passed.\n",
       "\n",
       "    .. versionadded:: 0.19\n",
       "\n",
       "min_impurity_split : float, default=1e-7\n",
       "    Threshold for early stopping in tree growth. A node will split\n",
       "    if its impurity is above the threshold, otherwise it is a leaf.\n",
       "\n",
       "    .. deprecated:: 0.19\n",
       "       ``min_impurity_split`` has been deprecated in favor of\n",
       "       ``min_impurity_decrease`` in 0.19. The default value of\n",
       "       ``min_impurity_split`` will change from 1e-7 to 0 in 0.23 and it\n",
       "       will be removed in 0.25. Use ``min_impurity_decrease`` instead.\n",
       "\n",
       "class_weight : dict, list of dict or \"balanced\", default=None\n",
       "    Weights associated with classes in the form ``{class_label: weight}``.\n",
       "    If None, all classes are supposed to have weight one. For\n",
       "    multi-output problems, a list of dicts can be provided in the same\n",
       "    order as the columns of y.\n",
       "\n",
       "    Note that for multioutput (including multilabel) weights should be\n",
       "    defined for each class of every column in its own dict. For example,\n",
       "    for four-class multilabel classification weights should be\n",
       "    [{0: 1, 1: 1}, {0: 1, 1: 5}, {0: 1, 1: 1}, {0: 1, 1: 1}] instead of\n",
       "    [{1:1}, {2:5}, {3:1}, {4:1}].\n",
       "\n",
       "    The \"balanced\" mode uses the values of y to automatically adjust\n",
       "    weights inversely proportional to class frequencies in the input data\n",
       "    as ``n_samples / (n_classes * np.bincount(y))``\n",
       "\n",
       "    For multi-output, the weights of each column of y will be multiplied.\n",
       "\n",
       "    Note that these weights will be multiplied with sample_weight (passed\n",
       "    through the fit method) if sample_weight is specified.\n",
       "\n",
       "presort : deprecated, default='deprecated'\n",
       "    This parameter is deprecated and will be removed in v0.24.\n",
       "\n",
       "    .. deprecated:: 0.22\n",
       "\n",
       "ccp_alpha : non-negative float, default=0.0\n",
       "    Complexity parameter used for Minimal Cost-Complexity Pruning. The\n",
       "    subtree with the largest cost complexity that is smaller than\n",
       "    ``ccp_alpha`` will be chosen. By default, no pruning is performed. See\n",
       "    :ref:`minimal_cost_complexity_pruning` for details.\n",
       "\n",
       "    .. versionadded:: 0.22\n",
       "\n",
       "Attributes\n",
       "----------\n",
       "classes_ : ndarray of shape (n_classes,) or list of ndarray\n",
       "    The classes labels (single output problem),\n",
       "    or a list of arrays of class labels (multi-output problem).\n",
       "\n",
       "feature_importances_ : ndarray of shape (n_features,)\n",
       "    The feature importances. The higher, the more important the\n",
       "    feature. The importance of a feature is computed as the (normalized)\n",
       "    total reduction of the criterion brought by that feature.  It is also\n",
       "    known as the Gini importance [4]_.\n",
       "\n",
       "max_features_ : int\n",
       "    The inferred value of max_features.\n",
       "\n",
       "n_classes_ : int or list of int\n",
       "    The number of classes (for single output problems),\n",
       "    or a list containing the number of classes for each\n",
       "    output (for multi-output problems).\n",
       "\n",
       "n_features_ : int\n",
       "    The number of features when ``fit`` is performed.\n",
       "\n",
       "n_outputs_ : int\n",
       "    The number of outputs when ``fit`` is performed.\n",
       "\n",
       "tree_ : Tree\n",
       "    The underlying Tree object. Please refer to\n",
       "    ``help(sklearn.tree._tree.Tree)`` for attributes of Tree object and\n",
       "    :ref:`sphx_glr_auto_examples_tree_plot_unveil_tree_structure.py`\n",
       "    for basic usage of these attributes.\n",
       "\n",
       "See Also\n",
       "--------\n",
       "DecisionTreeRegressor : A decision tree regressor.\n",
       "\n",
       "Notes\n",
       "-----\n",
       "The default values for the parameters controlling the size of the trees\n",
       "(e.g. ``max_depth``, ``min_samples_leaf``, etc.) lead to fully grown and\n",
       "unpruned trees which can potentially be very large on some data sets. To\n",
       "reduce memory consumption, the complexity and size of the trees should be\n",
       "controlled by setting those parameter values.\n",
       "\n",
       "The features are always randomly permuted at each split. Therefore,\n",
       "the best found split may vary, even with the same training data and\n",
       "``max_features=n_features``, if the improvement of the criterion is\n",
       "identical for several splits enumerated during the search of the best\n",
       "split. To obtain a deterministic behaviour during fitting,\n",
       "``random_state`` has to be fixed.\n",
       "\n",
       "References\n",
       "----------\n",
       "\n",
       ".. [1] https://en.wikipedia.org/wiki/Decision_tree_learning\n",
       "\n",
       ".. [2] L. Breiman, J. Friedman, R. Olshen, and C. Stone, \"Classification\n",
       "       and Regression Trees\", Wadsworth, Belmont, CA, 1984.\n",
       "\n",
       ".. [3] T. Hastie, R. Tibshirani and J. Friedman. \"Elements of Statistical\n",
       "       Learning\", Springer, 2009.\n",
       "\n",
       ".. [4] L. Breiman, and A. Cutler, \"Random Forests\",\n",
       "       https://www.stat.berkeley.edu/~breiman/RandomForests/cc_home.htm\n",
       "\n",
       "Examples\n",
       "--------\n",
       ">>> from sklearn.datasets import load_iris\n",
       ">>> from sklearn.model_selection import cross_val_score\n",
       ">>> from sklearn.tree import DecisionTreeClassifier\n",
       ">>> clf = DecisionTreeClassifier(random_state=0)\n",
       ">>> iris = load_iris()\n",
       ">>> cross_val_score(clf, iris.data, iris.target, cv=10)\n",
       "...                             # doctest: +SKIP\n",
       "...\n",
       "array([ 1.     ,  0.93...,  0.86...,  0.93...,  0.93...,\n",
       "        0.93...,  0.93...,  1.     ,  0.93...,  1.      ])\n"
      ]
     },
     "metadata": {},
     "output_type": "display_data"
    }
   ],
   "source": [
    "?cart_model"
   ]
  },
  {
   "cell_type": "code",
   "execution_count": 110,
   "metadata": {},
   "outputs": [],
   "source": [
    "cart_grid = {\"max_depth\": range(1,10),\n",
    "            \"min_samples_split\" : list(range(2,50)) }"
   ]
  },
  {
   "cell_type": "code",
   "execution_count": 111,
   "metadata": {},
   "outputs": [
    {
     "name": "stdout",
     "output_type": "stream",
     "text": [
      "Fitting 10 folds for each of 432 candidates, totalling 4320 fits\n"
     ]
    },
    {
     "name": "stderr",
     "output_type": "stream",
     "text": [
      "[Parallel(n_jobs=-1)]: Using backend LokyBackend with 4 concurrent workers.\n",
      "[Parallel(n_jobs=-1)]: Done  34 tasks      | elapsed:    3.5s\n",
      "[Parallel(n_jobs=-1)]: Done 3152 tasks      | elapsed:   11.5s\n",
      "[Parallel(n_jobs=-1)]: Done 4320 out of 4320 | elapsed:   13.5s finished\n"
     ]
    }
   ],
   "source": [
    "cart = tree.DecisionTreeClassifier()\n",
    "cart_cv = GridSearchCV(cart, cart_grid, cv = 10, n_jobs = -1, verbose = 2)\n",
    "cart_cv_model = cart_cv.fit(X_train, y_train)"
   ]
  },
  {
   "cell_type": "code",
   "execution_count": 112,
   "metadata": {},
   "outputs": [
    {
     "name": "stdout",
     "output_type": "stream",
     "text": [
      "Best Parameters: {'max_depth': 5, 'min_samples_split': 19}\n"
     ]
    }
   ],
   "source": [
    "print(\"Best Parameters: \" + str(cart_cv_model.best_params_))"
   ]
  },
  {
   "cell_type": "code",
   "execution_count": 113,
   "metadata": {},
   "outputs": [],
   "source": [
    "cart = tree.DecisionTreeClassifier(max_depth = 5, min_samples_split = 19)\n",
    "cart_tuned = cart.fit(X_train, y_train)"
   ]
  },
  {
   "cell_type": "code",
   "execution_count": 114,
   "metadata": {},
   "outputs": [
    {
     "data": {
      "text/plain": [
       "0.7532467532467533"
      ]
     },
     "execution_count": 114,
     "metadata": {},
     "output_type": "execute_result"
    }
   ],
   "source": [
    "y_pred = cart_tuned.predict(X_test)\n",
    "accuracy_score(y_test, y_pred)"
   ]
  },
  {
   "cell_type": "markdown",
   "metadata": {},
   "source": [
    "# Random Forests"
   ]
  },
  {
   "cell_type": "code",
   "execution_count": 115,
   "metadata": {},
   "outputs": [],
   "source": [
    "df = diabetes.copy()\n",
    "df = df.dropna()\n",
    "y = df[\"Outcome\"]\n",
    "X = df.drop(['Outcome'], axis=1)\n",
    "#X = df[\"Pregnancies\"]\n",
    "X = pd.DataFrame(X)\n",
    "X_train, X_test, y_train, y_test = train_test_split(X, y, \n",
    "                                                    test_size=0.30, \n",
    "                                                    random_state=42)"
   ]
  },
  {
   "cell_type": "code",
   "execution_count": 116,
   "metadata": {},
   "outputs": [],
   "source": [
    "from sklearn.ensemble import RandomForestClassifier"
   ]
  },
  {
   "cell_type": "code",
   "execution_count": 117,
   "metadata": {},
   "outputs": [],
   "source": [
    "rf_model = RandomForestClassifier().fit(X_train, y_train)"
   ]
  },
  {
   "cell_type": "code",
   "execution_count": 118,
   "metadata": {},
   "outputs": [
    {
     "data": {
      "text/plain": [
       "RandomForestClassifier(bootstrap=True, ccp_alpha=0.0, class_weight=None,\n",
       "                       criterion='gini', max_depth=None, max_features='auto',\n",
       "                       max_leaf_nodes=None, max_samples=None,\n",
       "                       min_impurity_decrease=0.0, min_impurity_split=None,\n",
       "                       min_samples_leaf=1, min_samples_split=2,\n",
       "                       min_weight_fraction_leaf=0.0, n_estimators=100,\n",
       "                       n_jobs=None, oob_score=False, random_state=None,\n",
       "                       verbose=0, warm_start=False)"
      ]
     },
     "execution_count": 118,
     "metadata": {},
     "output_type": "execute_result"
    }
   ],
   "source": [
    "rf_model"
   ]
  },
  {
   "cell_type": "code",
   "execution_count": 119,
   "metadata": {},
   "outputs": [
    {
     "data": {
      "text/plain": [
       "0.7402597402597403"
      ]
     },
     "execution_count": 119,
     "metadata": {},
     "output_type": "execute_result"
    }
   ],
   "source": [
    "y_pred = rf_model.predict(X_test)\n",
    "accuracy_score(y_test, y_pred)"
   ]
  },
  {
   "cell_type": "markdown",
   "metadata": {},
   "source": [
    "## Model Tuning"
   ]
  },
  {
   "cell_type": "code",
   "execution_count": 120,
   "metadata": {},
   "outputs": [
    {
     "data": {
      "text/plain": [
       "RandomForestClassifier(bootstrap=True, ccp_alpha=0.0, class_weight=None,\n",
       "                       criterion='gini', max_depth=None, max_features='auto',\n",
       "                       max_leaf_nodes=None, max_samples=None,\n",
       "                       min_impurity_decrease=0.0, min_impurity_split=None,\n",
       "                       min_samples_leaf=1, min_samples_split=2,\n",
       "                       min_weight_fraction_leaf=0.0, n_estimators=100,\n",
       "                       n_jobs=None, oob_score=False, random_state=None,\n",
       "                       verbose=0, warm_start=False)"
      ]
     },
     "execution_count": 120,
     "metadata": {},
     "output_type": "execute_result"
    }
   ],
   "source": [
    "rf_model"
   ]
  },
  {
   "cell_type": "code",
   "execution_count": 121,
   "metadata": {
    "collapsed": true,
    "jupyter": {
     "outputs_hidden": true
    }
   },
   "outputs": [
    {
     "data": {
      "text/plain": [
       "\u001b[0;31mType:\u001b[0m        RandomForestClassifier\n",
       "\u001b[0;31mString form:\u001b[0m\n",
       "RandomForestClassifier(bootstrap=True, ccp_alpha=0.0, class_weight=None,\n",
       "           c <...> obs=None, oob_score=False, random_state=None,\n",
       "           verbose=0, warm_start=False)\n",
       "\u001b[0;31mLength:\u001b[0m      100\n",
       "\u001b[0;31mFile:\u001b[0m        /opt/anaconda3/lib/python3.7/site-packages/sklearn/ensemble/_forest.py\n",
       "\u001b[0;31mDocstring:\u001b[0m  \n",
       "A random forest classifier.\n",
       "\n",
       "A random forest is a meta estimator that fits a number of decision tree\n",
       "classifiers on various sub-samples of the dataset and uses averaging to\n",
       "improve the predictive accuracy and control over-fitting.\n",
       "The sub-sample size is always the same as the original\n",
       "input sample size but the samples are drawn with replacement if\n",
       "`bootstrap=True` (default).\n",
       "\n",
       "Read more in the :ref:`User Guide <forest>`.\n",
       "\n",
       "Parameters\n",
       "----------\n",
       "n_estimators : integer, optional (default=100)\n",
       "    The number of trees in the forest.\n",
       "\n",
       "    .. versionchanged:: 0.22\n",
       "       The default value of ``n_estimators`` changed from 10 to 100\n",
       "       in 0.22.\n",
       "\n",
       "criterion : string, optional (default=\"gini\")\n",
       "    The function to measure the quality of a split. Supported criteria are\n",
       "    \"gini\" for the Gini impurity and \"entropy\" for the information gain.\n",
       "    Note: this parameter is tree-specific.\n",
       "\n",
       "max_depth : integer or None, optional (default=None)\n",
       "    The maximum depth of the tree. If None, then nodes are expanded until\n",
       "    all leaves are pure or until all leaves contain less than\n",
       "    min_samples_split samples.\n",
       "\n",
       "min_samples_split : int, float, optional (default=2)\n",
       "    The minimum number of samples required to split an internal node:\n",
       "\n",
       "    - If int, then consider `min_samples_split` as the minimum number.\n",
       "    - If float, then `min_samples_split` is a fraction and\n",
       "      `ceil(min_samples_split * n_samples)` are the minimum\n",
       "      number of samples for each split.\n",
       "\n",
       "    .. versionchanged:: 0.18\n",
       "       Added float values for fractions.\n",
       "\n",
       "min_samples_leaf : int, float, optional (default=1)\n",
       "    The minimum number of samples required to be at a leaf node.\n",
       "    A split point at any depth will only be considered if it leaves at\n",
       "    least ``min_samples_leaf`` training samples in each of the left and\n",
       "    right branches.  This may have the effect of smoothing the model,\n",
       "    especially in regression.\n",
       "\n",
       "    - If int, then consider `min_samples_leaf` as the minimum number.\n",
       "    - If float, then `min_samples_leaf` is a fraction and\n",
       "      `ceil(min_samples_leaf * n_samples)` are the minimum\n",
       "      number of samples for each node.\n",
       "\n",
       "    .. versionchanged:: 0.18\n",
       "       Added float values for fractions.\n",
       "\n",
       "min_weight_fraction_leaf : float, optional (default=0.)\n",
       "    The minimum weighted fraction of the sum total of weights (of all\n",
       "    the input samples) required to be at a leaf node. Samples have\n",
       "    equal weight when sample_weight is not provided.\n",
       "\n",
       "max_features : int, float, string or None, optional (default=\"auto\")\n",
       "    The number of features to consider when looking for the best split:\n",
       "\n",
       "    - If int, then consider `max_features` features at each split.\n",
       "    - If float, then `max_features` is a fraction and\n",
       "      `int(max_features * n_features)` features are considered at each\n",
       "      split.\n",
       "    - If \"auto\", then `max_features=sqrt(n_features)`.\n",
       "    - If \"sqrt\", then `max_features=sqrt(n_features)` (same as \"auto\").\n",
       "    - If \"log2\", then `max_features=log2(n_features)`.\n",
       "    - If None, then `max_features=n_features`.\n",
       "\n",
       "    Note: the search for a split does not stop until at least one\n",
       "    valid partition of the node samples is found, even if it requires to\n",
       "    effectively inspect more than ``max_features`` features.\n",
       "\n",
       "max_leaf_nodes : int or None, optional (default=None)\n",
       "    Grow trees with ``max_leaf_nodes`` in best-first fashion.\n",
       "    Best nodes are defined as relative reduction in impurity.\n",
       "    If None then unlimited number of leaf nodes.\n",
       "\n",
       "min_impurity_decrease : float, optional (default=0.)\n",
       "    A node will be split if this split induces a decrease of the impurity\n",
       "    greater than or equal to this value.\n",
       "\n",
       "    The weighted impurity decrease equation is the following::\n",
       "\n",
       "        N_t / N * (impurity - N_t_R / N_t * right_impurity\n",
       "                            - N_t_L / N_t * left_impurity)\n",
       "\n",
       "    where ``N`` is the total number of samples, ``N_t`` is the number of\n",
       "    samples at the current node, ``N_t_L`` is the number of samples in the\n",
       "    left child, and ``N_t_R`` is the number of samples in the right child.\n",
       "\n",
       "    ``N``, ``N_t``, ``N_t_R`` and ``N_t_L`` all refer to the weighted sum,\n",
       "    if ``sample_weight`` is passed.\n",
       "\n",
       "    .. versionadded:: 0.19\n",
       "\n",
       "min_impurity_split : float, (default=1e-7)\n",
       "    Threshold for early stopping in tree growth. A node will split\n",
       "    if its impurity is above the threshold, otherwise it is a leaf.\n",
       "\n",
       "    .. deprecated:: 0.19\n",
       "       ``min_impurity_split`` has been deprecated in favor of\n",
       "       ``min_impurity_decrease`` in 0.19. The default value of\n",
       "       ``min_impurity_split`` will change from 1e-7 to 0 in 0.23 and it\n",
       "       will be removed in 0.25. Use ``min_impurity_decrease`` instead.\n",
       "\n",
       "\n",
       "bootstrap : boolean, optional (default=True)\n",
       "    Whether bootstrap samples are used when building trees. If False, the\n",
       "    whole datset is used to build each tree.\n",
       "\n",
       "oob_score : bool (default=False)\n",
       "    Whether to use out-of-bag samples to estimate\n",
       "    the generalization accuracy.\n",
       "\n",
       "n_jobs : int or None, optional (default=None)\n",
       "    The number of jobs to run in parallel. :meth:`fit`, :meth:`predict`,\n",
       "    :meth:`decision_path` and :meth:`apply` are all parallelized over the\n",
       "    trees. ``None`` means 1 unless in a :obj:`joblib.parallel_backend`\n",
       "    context. ``-1`` means using all processors. See :term:`Glossary\n",
       "    <n_jobs>` for more details.\n",
       "\n",
       "random_state : int, RandomState instance or None, optional (default=None)\n",
       "    Controls both the randomness of the bootstrapping of the samples used\n",
       "    when building trees (if ``bootstrap=True``) and the sampling of the\n",
       "    features to consider when looking for the best split at each node\n",
       "    (if ``max_features < n_features``).\n",
       "    See :term:`Glossary <random_state>` for details.\n",
       "\n",
       "verbose : int, optional (default=0)\n",
       "    Controls the verbosity when fitting and predicting.\n",
       "\n",
       "warm_start : bool, optional (default=False)\n",
       "    When set to ``True``, reuse the solution of the previous call to fit\n",
       "    and add more estimators to the ensemble, otherwise, just fit a whole\n",
       "    new forest. See :term:`the Glossary <warm_start>`.\n",
       "\n",
       "class_weight : dict, list of dicts, \"balanced\", \"balanced_subsample\" or     None, optional (default=None)\n",
       "    Weights associated with classes in the form ``{class_label: weight}``.\n",
       "    If not given, all classes are supposed to have weight one. For\n",
       "    multi-output problems, a list of dicts can be provided in the same\n",
       "    order as the columns of y.\n",
       "\n",
       "    Note that for multioutput (including multilabel) weights should be\n",
       "    defined for each class of every column in its own dict. For example,\n",
       "    for four-class multilabel classification weights should be\n",
       "    [{0: 1, 1: 1}, {0: 1, 1: 5}, {0: 1, 1: 1}, {0: 1, 1: 1}] instead of\n",
       "    [{1:1}, {2:5}, {3:1}, {4:1}].\n",
       "\n",
       "    The \"balanced\" mode uses the values of y to automatically adjust\n",
       "    weights inversely proportional to class frequencies in the input data\n",
       "    as ``n_samples / (n_classes * np.bincount(y))``\n",
       "\n",
       "    The \"balanced_subsample\" mode is the same as \"balanced\" except that\n",
       "    weights are computed based on the bootstrap sample for every tree\n",
       "    grown.\n",
       "\n",
       "    For multi-output, the weights of each column of y will be multiplied.\n",
       "\n",
       "    Note that these weights will be multiplied with sample_weight (passed\n",
       "    through the fit method) if sample_weight is specified.\n",
       "\n",
       "ccp_alpha : non-negative float, optional (default=0.0)\n",
       "    Complexity parameter used for Minimal Cost-Complexity Pruning. The\n",
       "    subtree with the largest cost complexity that is smaller than\n",
       "    ``ccp_alpha`` will be chosen. By default, no pruning is performed. See\n",
       "    :ref:`minimal_cost_complexity_pruning` for details.\n",
       "\n",
       "    .. versionadded:: 0.22\n",
       "\n",
       "max_samples : int or float, default=None\n",
       "    If bootstrap is True, the number of samples to draw from X\n",
       "    to train each base estimator.\n",
       "\n",
       "    - If None (default), then draw `X.shape[0]` samples.\n",
       "    - If int, then draw `max_samples` samples.\n",
       "    - If float, then draw `max_samples * X.shape[0]` samples. Thus,\n",
       "      `max_samples` should be in the interval `(0, 1)`.\n",
       "\n",
       "    .. versionadded:: 0.22\n",
       "\n",
       "Attributes\n",
       "----------\n",
       "base_estimator_ : DecisionTreeClassifier\n",
       "    The child estimator template used to create the collection of fitted\n",
       "    sub-estimators.\n",
       "\n",
       "estimators_ : list of DecisionTreeClassifier\n",
       "    The collection of fitted sub-estimators.\n",
       "\n",
       "classes_ : array of shape (n_classes,) or a list of such arrays\n",
       "    The classes labels (single output problem), or a list of arrays of\n",
       "    class labels (multi-output problem).\n",
       "\n",
       "n_classes_ : int or list\n",
       "    The number of classes (single output problem), or a list containing the\n",
       "    number of classes for each output (multi-output problem).\n",
       "\n",
       "n_features_ : int\n",
       "    The number of features when ``fit`` is performed.\n",
       "\n",
       "n_outputs_ : int\n",
       "    The number of outputs when ``fit`` is performed.\n",
       "\n",
       "feature_importances_ : ndarray of shape (n_features,)\n",
       "    The feature importances (the higher, the more important the feature).\n",
       "\n",
       "oob_score_ : float\n",
       "    Score of the training dataset obtained using an out-of-bag estimate.\n",
       "    This attribute exists only when ``oob_score`` is True.\n",
       "\n",
       "oob_decision_function_ : array of shape (n_samples, n_classes)\n",
       "    Decision function computed with out-of-bag estimate on the training\n",
       "    set. If n_estimators is small it might be possible that a data point\n",
       "    was never left out during the bootstrap. In this case,\n",
       "    `oob_decision_function_` might contain NaN. This attribute exists\n",
       "    only when ``oob_score`` is True.\n",
       "\n",
       "Examples\n",
       "--------\n",
       ">>> from sklearn.ensemble import RandomForestClassifier\n",
       ">>> from sklearn.datasets import make_classification\n",
       "\n",
       ">>> X, y = make_classification(n_samples=1000, n_features=4,\n",
       "...                            n_informative=2, n_redundant=0,\n",
       "...                            random_state=0, shuffle=False)\n",
       ">>> clf = RandomForestClassifier(max_depth=2, random_state=0)\n",
       ">>> clf.fit(X, y)\n",
       "RandomForestClassifier(max_depth=2, random_state=0)\n",
       ">>> print(clf.feature_importances_)\n",
       "[0.14205973 0.76664038 0.0282433  0.06305659]\n",
       ">>> print(clf.predict([[0, 0, 0, 0]]))\n",
       "[1]\n",
       "\n",
       "Notes\n",
       "-----\n",
       "The default values for the parameters controlling the size of the trees\n",
       "(e.g. ``max_depth``, ``min_samples_leaf``, etc.) lead to fully grown and\n",
       "unpruned trees which can potentially be very large on some data sets. To\n",
       "reduce memory consumption, the complexity and size of the trees should be\n",
       "controlled by setting those parameter values.\n",
       "\n",
       "The features are always randomly permuted at each split. Therefore,\n",
       "the best found split may vary, even with the same training data,\n",
       "``max_features=n_features`` and ``bootstrap=False``, if the improvement\n",
       "of the criterion is identical for several splits enumerated during the\n",
       "search of the best split. To obtain a deterministic behaviour during\n",
       "fitting, ``random_state`` has to be fixed.\n",
       "\n",
       "References\n",
       "----------\n",
       "\n",
       ".. [1] L. Breiman, \"Random Forests\", Machine Learning, 45(1), 5-32, 2001.\n",
       "\n",
       "See Also\n",
       "--------\n",
       "DecisionTreeClassifier, ExtraTreesClassifier\n"
      ]
     },
     "metadata": {},
     "output_type": "display_data"
    }
   ],
   "source": [
    "?rf_model"
   ]
  },
  {
   "cell_type": "code",
   "execution_count": 122,
   "metadata": {},
   "outputs": [],
   "source": [
    "rf_params = {\"max_depth\": [2,5,8,10],\n",
    "            \"max_features\": [2,5,8],\n",
    "            \"n_estimators\": [10,500,1000],\n",
    "            \"min_samples_split\": [2,5,10]}"
   ]
  },
  {
   "cell_type": "code",
   "execution_count": 123,
   "metadata": {},
   "outputs": [],
   "source": [
    "rf_model = RandomForestClassifier()\n",
    "\n",
    "rf_cv_model = GridSearchCV(rf_model, \n",
    "                           rf_params, \n",
    "                           cv = 10, \n",
    "                           n_jobs = -1, \n",
    "                           verbose = 2) "
   ]
  },
  {
   "cell_type": "code",
   "execution_count": 124,
   "metadata": {},
   "outputs": [
    {
     "name": "stdout",
     "output_type": "stream",
     "text": [
      "Fitting 10 folds for each of 108 candidates, totalling 1080 fits\n"
     ]
    },
    {
     "name": "stderr",
     "output_type": "stream",
     "text": [
      "[Parallel(n_jobs=-1)]: Using backend LokyBackend with 4 concurrent workers.\n",
      "[Parallel(n_jobs=-1)]: Done  44 tasks      | elapsed:   12.9s\n",
      "[Parallel(n_jobs=-1)]: Done 166 tasks      | elapsed:  1.1min\n",
      "[Parallel(n_jobs=-1)]: Done 369 tasks      | elapsed:  2.6min\n",
      "[Parallel(n_jobs=-1)]: Done 652 tasks      | elapsed:  4.9min\n",
      "[Parallel(n_jobs=-1)]: Done 1017 tasks      | elapsed:  8.3min\n",
      "[Parallel(n_jobs=-1)]: Done 1080 out of 1080 | elapsed:  9.0min finished\n"
     ]
    },
    {
     "data": {
      "text/plain": [
       "GridSearchCV(cv=10, error_score=nan,\n",
       "             estimator=RandomForestClassifier(bootstrap=True, ccp_alpha=0.0,\n",
       "                                              class_weight=None,\n",
       "                                              criterion='gini', max_depth=None,\n",
       "                                              max_features='auto',\n",
       "                                              max_leaf_nodes=None,\n",
       "                                              max_samples=None,\n",
       "                                              min_impurity_decrease=0.0,\n",
       "                                              min_impurity_split=None,\n",
       "                                              min_samples_leaf=1,\n",
       "                                              min_samples_split=2,\n",
       "                                              min_weight_fraction_leaf=0.0,\n",
       "                                              n_estimators=100, n_jobs=None,\n",
       "                                              oob_score=False,\n",
       "                                              random_state=None, verbose=0,\n",
       "                                              warm_start=False),\n",
       "             iid='deprecated', n_jobs=-1,\n",
       "             param_grid={'max_depth': [2, 5, 8, 10], 'max_features': [2, 5, 8],\n",
       "                         'min_samples_split': [2, 5, 10],\n",
       "                         'n_estimators': [10, 500, 1000]},\n",
       "             pre_dispatch='2*n_jobs', refit=True, return_train_score=False,\n",
       "             scoring=None, verbose=2)"
      ]
     },
     "execution_count": 124,
     "metadata": {},
     "output_type": "execute_result"
    }
   ],
   "source": [
    "rf_cv_model.fit(X_train, y_train)"
   ]
  },
  {
   "cell_type": "code",
   "execution_count": 125,
   "metadata": {},
   "outputs": [
    {
     "name": "stdout",
     "output_type": "stream",
     "text": [
      "Best Parameters: {'max_depth': 8, 'max_features': 8, 'min_samples_split': 2, 'n_estimators': 1000}\n"
     ]
    }
   ],
   "source": [
    "print(\"Best Parameters: \" + str(rf_cv_model.best_params_))"
   ]
  },
  {
   "cell_type": "code",
   "execution_count": 126,
   "metadata": {},
   "outputs": [
    {
     "data": {
      "text/plain": [
       "RandomForestClassifier(bootstrap=True, ccp_alpha=0.0, class_weight=None,\n",
       "                       criterion='gini', max_depth=8, max_features=8,\n",
       "                       max_leaf_nodes=None, max_samples=None,\n",
       "                       min_impurity_decrease=0.0, min_impurity_split=None,\n",
       "                       min_samples_leaf=1, min_samples_split=2,\n",
       "                       min_weight_fraction_leaf=0.0, n_estimators=1000,\n",
       "                       n_jobs=None, oob_score=False, random_state=None,\n",
       "                       verbose=0, warm_start=False)"
      ]
     },
     "execution_count": 126,
     "metadata": {},
     "output_type": "execute_result"
    }
   ],
   "source": [
    "rf_tuned = RandomForestClassifier(max_depth = 8, \n",
    "                                  max_features = 8, \n",
    "                                  min_samples_split = 2,\n",
    "                                  n_estimators = 1000)\n",
    "\n",
    "rf_tuned.fit(X_train, y_train)"
   ]
  },
  {
   "cell_type": "code",
   "execution_count": 127,
   "metadata": {},
   "outputs": [
    {
     "data": {
      "text/plain": [
       "0.7489177489177489"
      ]
     },
     "execution_count": 127,
     "metadata": {},
     "output_type": "execute_result"
    }
   ],
   "source": [
    "y_pred = rf_tuned.predict(X_test)\n",
    "accuracy_score(y_test, y_pred)"
   ]
  },
  {
   "cell_type": "code",
   "execution_count": 128,
   "metadata": {},
   "outputs": [],
   "source": [
    "Importance = pd.DataFrame({\"Importance\": rf_tuned.feature_importances_*100},\n",
    "                         index = X_train.columns)"
   ]
  },
  {
   "cell_type": "code",
   "execution_count": 129,
   "metadata": {},
   "outputs": [
    {
     "data": {
      "text/plain": [
       "Text(0.5, 0, 'Importance Level')"
      ]
     },
     "execution_count": 129,
     "metadata": {},
     "output_type": "execute_result"
    },
    {
     "data": {
      "image/png": "[encoded data removed]",
      "text/plain": [
       "<Figure size 432x288 with 1 Axes>"
      ]
     },
     "metadata": {
      "needs_background": "light"
     },
     "output_type": "display_data"
    }
   ],
   "source": [
    "Importance.sort_values(by = \"Importance\", \n",
    "                       axis = 0, \n",
    "                       ascending = True).plot(kind =\"barh\", color = \"r\")\n",
    "\n",
    "plt.xlabel(\"Importance Level\")"
   ]
  },
  {
   "cell_type": "markdown",
   "metadata": {},
   "source": [
    "# Gradient Boosting Machines"
   ]
  },
  {
   "cell_type": "code",
   "execution_count": 130,
   "metadata": {},
   "outputs": [],
   "source": [
    "df = diabetes.copy()\n",
    "df = df.dropna()\n",
    "y = df[\"Outcome\"]\n",
    "X = df.drop(['Outcome'], axis=1)\n",
    "#X = df[\"Pregnancies\"]\n",
    "X = pd.DataFrame(X)\n",
    "X_train, X_test, y_train, y_test = train_test_split(X, y, \n",
    "                                                    test_size=0.30, \n",
    "                                                    random_state=42)"
   ]
  },
  {
   "cell_type": "code",
   "execution_count": 131,
   "metadata": {},
   "outputs": [],
   "source": [
    "from sklearn.ensemble import GradientBoostingClassifier"
   ]
  },
  {
   "cell_type": "code",
   "execution_count": 132,
   "metadata": {},
   "outputs": [],
   "source": [
    "gbm_model = GradientBoostingClassifier().fit(X_train, y_train)"
   ]
  },
  {
   "cell_type": "code",
   "execution_count": 134,
   "metadata": {},
   "outputs": [
    {
     "data": {
      "text/plain": [
       "0.7532467532467533"
      ]
     },
     "execution_count": 134,
     "metadata": {},
     "output_type": "execute_result"
    }
   ],
   "source": [
    "y_pred = gbm_model.predict(X_test)\n",
    "accuracy_score(y_test, y_pred)"
   ]
  },
  {
   "cell_type": "markdown",
   "metadata": {},
   "source": [
    "## Model Tuning"
   ]
  },
  {
   "cell_type": "code",
   "execution_count": 135,
   "metadata": {},
   "outputs": [
    {
     "data": {
      "text/plain": [
       "GradientBoostingClassifier(ccp_alpha=0.0, criterion='friedman_mse', init=None,\n",
       "                           learning_rate=0.1, loss='deviance', max_depth=3,\n",
       "                           max_features=None, max_leaf_nodes=None,\n",
       "                           min_impurity_decrease=0.0, min_impurity_split=None,\n",
       "                           min_samples_leaf=1, min_samples_split=2,\n",
       "                           min_weight_fraction_leaf=0.0, n_estimators=100,\n",
       "                           n_iter_no_change=None, presort='deprecated',\n",
       "                           random_state=None, subsample=1.0, tol=0.0001,\n",
       "                           validation_fraction=0.1, verbose=0,\n",
       "                           warm_start=False)"
      ]
     },
     "execution_count": 135,
     "metadata": {},
     "output_type": "execute_result"
    }
   ],
   "source": [
    "gbm_model"
   ]
  },
  {
   "cell_type": "code",
   "execution_count": 136,
   "metadata": {
    "collapsed": true,
    "jupyter": {
     "outputs_hidden": true
    }
   },
   "outputs": [
    {
     "data": {
      "text/plain": [
       "\u001b[0;31mType:\u001b[0m        GradientBoostingClassifier\n",
       "\u001b[0;31mString form:\u001b[0m\n",
       "GradientBoostingClassifier(ccp_alpha=0.0, criterion='friedman_mse', init=None,\n",
       "           <...>                  validation_fraction=0.1, verbose=0,\n",
       "           warm_start=False)\n",
       "\u001b[0;31mLength:\u001b[0m      100\n",
       "\u001b[0;31mFile:\u001b[0m        /opt/anaconda3/lib/python3.7/site-packages/sklearn/ensemble/_gb.py\n",
       "\u001b[0;31mDocstring:\u001b[0m  \n",
       "Gradient Boosting for classification.\n",
       "\n",
       "GB builds an additive model in a\n",
       "forward stage-wise fashion; it allows for the optimization of\n",
       "arbitrary differentiable loss functions. In each stage ``n_classes_``\n",
       "regression trees are fit on the negative gradient of the\n",
       "binomial or multinomial deviance loss function. Binary classification\n",
       "is a special case where only a single regression tree is induced.\n",
       "\n",
       "Read more in the :ref:`User Guide <gradient_boosting>`.\n",
       "\n",
       "Parameters\n",
       "----------\n",
       "loss : {'deviance', 'exponential'}, optional (default='deviance')\n",
       "    loss function to be optimized. 'deviance' refers to\n",
       "    deviance (= logistic regression) for classification\n",
       "    with probabilistic outputs. For loss 'exponential' gradient\n",
       "    boosting recovers the AdaBoost algorithm.\n",
       "\n",
       "learning_rate : float, optional (default=0.1)\n",
       "    learning rate shrinks the contribution of each tree by `learning_rate`.\n",
       "    There is a trade-off between learning_rate and n_estimators.\n",
       "\n",
       "n_estimators : int (default=100)\n",
       "    The number of boosting stages to perform. Gradient boosting\n",
       "    is fairly robust to over-fitting so a large number usually\n",
       "    results in better performance.\n",
       "\n",
       "subsample : float, optional (default=1.0)\n",
       "    The fraction of samples to be used for fitting the individual base\n",
       "    learners. If smaller than 1.0 this results in Stochastic Gradient\n",
       "    Boosting. `subsample` interacts with the parameter `n_estimators`.\n",
       "    Choosing `subsample < 1.0` leads to a reduction of variance\n",
       "    and an increase in bias.\n",
       "\n",
       "criterion : string, optional (default=\"friedman_mse\")\n",
       "    The function to measure the quality of a split. Supported criteria\n",
       "    are \"friedman_mse\" for the mean squared error with improvement\n",
       "    score by Friedman, \"mse\" for mean squared error, and \"mae\" for\n",
       "    the mean absolute error. The default value of \"friedman_mse\" is\n",
       "    generally the best as it can provide a better approximation in\n",
       "    some cases.\n",
       "\n",
       "    .. versionadded:: 0.18\n",
       "\n",
       "min_samples_split : int, float, optional (default=2)\n",
       "    The minimum number of samples required to split an internal node:\n",
       "\n",
       "    - If int, then consider `min_samples_split` as the minimum number.\n",
       "    - If float, then `min_samples_split` is a fraction and\n",
       "      `ceil(min_samples_split * n_samples)` are the minimum\n",
       "      number of samples for each split.\n",
       "\n",
       "    .. versionchanged:: 0.18\n",
       "       Added float values for fractions.\n",
       "\n",
       "min_samples_leaf : int, float, optional (default=1)\n",
       "    The minimum number of samples required to be at a leaf node.\n",
       "    A split point at any depth will only be considered if it leaves at\n",
       "    least ``min_samples_leaf`` training samples in each of the left and\n",
       "    right branches.  This may have the effect of smoothing the model,\n",
       "    especially in regression.\n",
       "\n",
       "    - If int, then consider `min_samples_leaf` as the minimum number.\n",
       "    - If float, then `min_samples_leaf` is a fraction and\n",
       "      `ceil(min_samples_leaf * n_samples)` are the minimum\n",
       "      number of samples for each node.\n",
       "\n",
       "    .. versionchanged:: 0.18\n",
       "       Added float values for fractions.\n",
       "\n",
       "min_weight_fraction_leaf : float, optional (default=0.)\n",
       "    The minimum weighted fraction of the sum total of weights (of all\n",
       "    the input samples) required to be at a leaf node. Samples have\n",
       "    equal weight when sample_weight is not provided.\n",
       "\n",
       "max_depth : integer, optional (default=3)\n",
       "    maximum depth of the individual regression estimators. The maximum\n",
       "    depth limits the number of nodes in the tree. Tune this parameter\n",
       "    for best performance; the best value depends on the interaction\n",
       "    of the input variables.\n",
       "\n",
       "min_impurity_decrease : float, optional (default=0.)\n",
       "    A node will be split if this split induces a decrease of the impurity\n",
       "    greater than or equal to this value.\n",
       "\n",
       "    The weighted impurity decrease equation is the following::\n",
       "\n",
       "        N_t / N * (impurity - N_t_R / N_t * right_impurity\n",
       "                            - N_t_L / N_t * left_impurity)\n",
       "\n",
       "    where ``N`` is the total number of samples, ``N_t`` is the number of\n",
       "    samples at the current node, ``N_t_L`` is the number of samples in the\n",
       "    left child, and ``N_t_R`` is the number of samples in the right child.\n",
       "\n",
       "    ``N``, ``N_t``, ``N_t_R`` and ``N_t_L`` all refer to the weighted sum,\n",
       "    if ``sample_weight`` is passed.\n",
       "\n",
       "    .. versionadded:: 0.19\n",
       "\n",
       "min_impurity_split : float, (default=1e-7)\n",
       "    Threshold for early stopping in tree growth. A node will split\n",
       "    if its impurity is above the threshold, otherwise it is a leaf.\n",
       "\n",
       "    .. deprecated:: 0.19\n",
       "       ``min_impurity_split`` has been deprecated in favor of\n",
       "       ``min_impurity_decrease`` in 0.19. The default value of\n",
       "       ``min_impurity_split`` will change from 1e-7 to 0 in 0.23 and it\n",
       "       will be removed in 0.25. Use ``min_impurity_decrease`` instead.\n",
       "\n",
       "init : estimator or 'zero', optional (default=None)\n",
       "    An estimator object that is used to compute the initial predictions.\n",
       "    ``init`` has to provide :meth:`fit` and :meth:`predict_proba`. If\n",
       "    'zero', the initial raw predictions are set to zero. By default, a\n",
       "    ``DummyEstimator`` predicting the classes priors is used.\n",
       "\n",
       "random_state : int, RandomState instance or None, optional (default=None)\n",
       "    If int, random_state is the seed used by the random number generator;\n",
       "    If RandomState instance, random_state is the random number generator;\n",
       "    If None, the random number generator is the RandomState instance used\n",
       "    by `np.random`.\n",
       "\n",
       "max_features : int, float, string or None, optional (default=None)\n",
       "    The number of features to consider when looking for the best split:\n",
       "\n",
       "    - If int, then consider `max_features` features at each split.\n",
       "    - If float, then `max_features` is a fraction and\n",
       "      `int(max_features * n_features)` features are considered at each\n",
       "      split.\n",
       "    - If \"auto\", then `max_features=sqrt(n_features)`.\n",
       "    - If \"sqrt\", then `max_features=sqrt(n_features)`.\n",
       "    - If \"log2\", then `max_features=log2(n_features)`.\n",
       "    - If None, then `max_features=n_features`.\n",
       "\n",
       "    Choosing `max_features < n_features` leads to a reduction of variance\n",
       "    and an increase in bias.\n",
       "\n",
       "    Note: the search for a split does not stop until at least one\n",
       "    valid partition of the node samples is found, even if it requires to\n",
       "    effectively inspect more than ``max_features`` features.\n",
       "\n",
       "verbose : int, default: 0\n",
       "    Enable verbose output. If 1 then it prints progress and performance\n",
       "    once in a while (the more trees the lower the frequency). If greater\n",
       "    than 1 then it prints progress and performance for every tree.\n",
       "\n",
       "max_leaf_nodes : int or None, optional (default=None)\n",
       "    Grow trees with ``max_leaf_nodes`` in best-first fashion.\n",
       "    Best nodes are defined as relative reduction in impurity.\n",
       "    If None then unlimited number of leaf nodes.\n",
       "\n",
       "warm_start : bool, default: False\n",
       "    When set to ``True``, reuse the solution of the previous call to fit\n",
       "    and add more estimators to the ensemble, otherwise, just erase the\n",
       "    previous solution. See :term:`the Glossary <warm_start>`.\n",
       "\n",
       "presort : deprecated, default='deprecated'\n",
       "    This parameter is deprecated and will be removed in v0.24.\n",
       "\n",
       "    .. deprecated :: 0.22\n",
       "\n",
       "validation_fraction : float, optional, default 0.1\n",
       "    The proportion of training data to set aside as validation set for\n",
       "    early stopping. Must be between 0 and 1.\n",
       "    Only used if ``n_iter_no_change`` is set to an integer.\n",
       "\n",
       "    .. versionadded:: 0.20\n",
       "\n",
       "n_iter_no_change : int, default None\n",
       "    ``n_iter_no_change`` is used to decide if early stopping will be used\n",
       "    to terminate training when validation score is not improving. By\n",
       "    default it is set to None to disable early stopping. If set to a\n",
       "    number, it will set aside ``validation_fraction`` size of the training\n",
       "    data as validation and terminate training when validation score is not\n",
       "    improving in all of the previous ``n_iter_no_change`` numbers of\n",
       "    iterations. The split is stratified.\n",
       "\n",
       "    .. versionadded:: 0.20\n",
       "\n",
       "tol : float, optional, default 1e-4\n",
       "    Tolerance for the early stopping. When the loss is not improving\n",
       "    by at least tol for ``n_iter_no_change`` iterations (if set to a\n",
       "    number), the training stops.\n",
       "\n",
       "    .. versionadded:: 0.20\n",
       "\n",
       "ccp_alpha : non-negative float, optional (default=0.0)\n",
       "    Complexity parameter used for Minimal Cost-Complexity Pruning. The\n",
       "    subtree with the largest cost complexity that is smaller than\n",
       "    ``ccp_alpha`` will be chosen. By default, no pruning is performed. See\n",
       "    :ref:`minimal_cost_complexity_pruning` for details.\n",
       "\n",
       "    .. versionadded:: 0.22\n",
       "\n",
       "Attributes\n",
       "----------\n",
       "n_estimators_ : int\n",
       "    The number of estimators as selected by early stopping (if\n",
       "    ``n_iter_no_change`` is specified). Otherwise it is set to\n",
       "    ``n_estimators``.\n",
       "\n",
       "    .. versionadded:: 0.20\n",
       "\n",
       "feature_importances_ : array, shape (n_features,)\n",
       "    The feature importances (the higher, the more important the feature).\n",
       "\n",
       "oob_improvement_ : array, shape (n_estimators,)\n",
       "    The improvement in loss (= deviance) on the out-of-bag samples\n",
       "    relative to the previous iteration.\n",
       "    ``oob_improvement_[0]`` is the improvement in\n",
       "    loss of the first stage over the ``init`` estimator.\n",
       "    Only available if ``subsample < 1.0``\n",
       "\n",
       "train_score_ : array, shape (n_estimators,)\n",
       "    The i-th score ``train_score_[i]`` is the deviance (= loss) of the\n",
       "    model at iteration ``i`` on the in-bag sample.\n",
       "    If ``subsample == 1`` this is the deviance on the training data.\n",
       "\n",
       "loss_ : LossFunction\n",
       "    The concrete ``LossFunction`` object.\n",
       "\n",
       "init_ : estimator\n",
       "    The estimator that provides the initial predictions.\n",
       "    Set via the ``init`` argument or ``loss.init_estimator``.\n",
       "\n",
       "estimators_ : ndarray of DecisionTreeRegressor,shape (n_estimators, ``loss_.K``)\n",
       "    The collection of fitted sub-estimators. ``loss_.K`` is 1 for binary\n",
       "    classification, otherwise n_classes.\n",
       "\n",
       "classes_ : array of shape (n_classes,)\n",
       "    The classes labels.\n",
       "\n",
       "Notes\n",
       "-----\n",
       "The features are always randomly permuted at each split. Therefore,\n",
       "the best found split may vary, even with the same training data and\n",
       "``max_features=n_features``, if the improvement of the criterion is\n",
       "identical for several splits enumerated during the search of the best\n",
       "split. To obtain a deterministic behaviour during fitting,\n",
       "``random_state`` has to be fixed.\n",
       "\n",
       "See also\n",
       "--------\n",
       "sklearn.ensemble.HistGradientBoostingClassifier,\n",
       "sklearn.tree.DecisionTreeClassifier, RandomForestClassifier\n",
       "AdaBoostClassifier\n",
       "\n",
       "References\n",
       "----------\n",
       "J. Friedman, Greedy Function Approximation: A Gradient Boosting\n",
       "Machine, The Annals of Statistics, Vol. 29, No. 5, 2001.\n",
       "\n",
       "J. Friedman, Stochastic Gradient Boosting, 1999\n",
       "\n",
       "T. Hastie, R. Tibshirani and J. Friedman.\n",
       "Elements of Statistical Learning Ed. 2, Springer, 2009.\n"
      ]
     },
     "metadata": {},
     "output_type": "display_data"
    }
   ],
   "source": [
    "?gbm_model"
   ]
  },
  {
   "cell_type": "code",
   "execution_count": 137,
   "metadata": {},
   "outputs": [],
   "source": [
    "gbm_params = {\"learning_rate\" : [0.001, 0.01, 0.1, 0.05],\n",
    "             \"n_estimators\": [100,500,100],\n",
    "             \"max_depth\": [3,5,10],\n",
    "             \"min_samples_split\": [2,5,10]}"
   ]
  },
  {
   "cell_type": "code",
   "execution_count": 138,
   "metadata": {},
   "outputs": [],
   "source": [
    "gbm = GradientBoostingClassifier()\n",
    "\n",
    "gbm_cv = GridSearchCV(gbm, gbm_params, cv = 10, n_jobs = -1, verbose = 2)"
   ]
  },
  {
   "cell_type": "code",
   "execution_count": 139,
   "metadata": {},
   "outputs": [
    {
     "name": "stdout",
     "output_type": "stream",
     "text": [
      "Fitting 10 folds for each of 108 candidates, totalling 1080 fits\n"
     ]
    },
    {
     "name": "stderr",
     "output_type": "stream",
     "text": [
      "[Parallel(n_jobs=-1)]: Using backend LokyBackend with 4 concurrent workers.\n",
      "[Parallel(n_jobs=-1)]: Done  33 tasks      | elapsed:    6.6s\n",
      "[Parallel(n_jobs=-1)]: Done 154 tasks      | elapsed:   26.0s\n",
      "[Parallel(n_jobs=-1)]: Done 357 tasks      | elapsed:  1.3min\n",
      "[Parallel(n_jobs=-1)]: Done 640 tasks      | elapsed:  2.7min\n",
      "[Parallel(n_jobs=-1)]: Done 1005 tasks      | elapsed:  3.8min\n",
      "[Parallel(n_jobs=-1)]: Done 1080 out of 1080 | elapsed:  4.2min finished\n"
     ]
    },
    {
     "data": {
      "text/plain": [
       "GridSearchCV(cv=10, error_score=nan,\n",
       "             estimator=GradientBoostingClassifier(ccp_alpha=0.0,\n",
       "                                                  criterion='friedman_mse',\n",
       "                                                  init=None, learning_rate=0.1,\n",
       "                                                  loss='deviance', max_depth=3,\n",
       "                                                  max_features=None,\n",
       "                                                  max_leaf_nodes=None,\n",
       "                                                  min_impurity_decrease=0.0,\n",
       "                                                  min_impurity_split=None,\n",
       "                                                  min_samples_leaf=1,\n",
       "                                                  min_samples_split=2,\n",
       "                                                  min_weight_fraction_leaf=0.0,\n",
       "                                                  n_estimators=100,\n",
       "                                                  n_iter_no_...\n",
       "                                                  presort='deprecated',\n",
       "                                                  random_state=None,\n",
       "                                                  subsample=1.0, tol=0.0001,\n",
       "                                                  validation_fraction=0.1,\n",
       "                                                  verbose=0, warm_start=False),\n",
       "             iid='deprecated', n_jobs=-1,\n",
       "             param_grid={'learning_rate': [0.001, 0.01, 0.1, 0.05],\n",
       "                         'max_depth': [3, 5, 10],\n",
       "                         'min_samples_split': [2, 5, 10],\n",
       "                         'n_estimators': [100, 500, 100]},\n",
       "             pre_dispatch='2*n_jobs', refit=True, return_train_score=False,\n",
       "             scoring=None, verbose=2)"
      ]
     },
     "execution_count": 139,
     "metadata": {},
     "output_type": "execute_result"
    }
   ],
   "source": [
    "gbm_cv.fit(X_train, y_train)"
   ]
  },
  {
   "cell_type": "code",
   "execution_count": 140,
   "metadata": {},
   "outputs": [
    {
     "name": "stdout",
     "output_type": "stream",
     "text": [
      "Best Parameters: {'learning_rate': 0.05, 'max_depth': 5, 'min_samples_split': 10, 'n_estimators': 100}\n"
     ]
    }
   ],
   "source": [
    "print(\"Best Parameters: \" + str(gbm_cv.best_params_))"
   ]
  },
  {
   "cell_type": "code",
   "execution_count": 141,
   "metadata": {},
   "outputs": [],
   "source": [
    "gbm = GradientBoostingClassifier(learning_rate = 0.05, \n",
    "                                 max_depth = 5,\n",
    "                                min_samples_split = 10,\n",
    "                                n_estimators = 100)"
   ]
  },
  {
   "cell_type": "code",
   "execution_count": 142,
   "metadata": {},
   "outputs": [],
   "source": [
    "gbm_tuned =  gbm.fit(X_train,y_train)"
   ]
  },
  {
   "cell_type": "code",
   "execution_count": 143,
   "metadata": {},
   "outputs": [
    {
     "data": {
      "text/plain": [
       "0.7186147186147186"
      ]
     },
     "execution_count": 143,
     "metadata": {},
     "output_type": "execute_result"
    }
   ],
   "source": [
    "y_pred = gbm_tuned.predict(X_test)\n",
    "accuracy_score(y_test, y_pred)"
   ]
  },
  {
   "cell_type": "markdown",
   "metadata": {},
   "source": [
    "# XGBoost"
   ]
  },
  {
   "cell_type": "code",
   "execution_count": 144,
   "metadata": {},
   "outputs": [],
   "source": [
    "df = diabetes.copy()\n",
    "df = df.dropna()\n",
    "y = df[\"Outcome\"]\n",
    "X = df.drop(['Outcome'], axis=1)\n",
    "#X = df[\"Pregnancies\"]\n",
    "X = pd.DataFrame(X)\n",
    "X_train, X_test, y_train, y_test = train_test_split(X, y, \n",
    "                                                    test_size=0.30, \n",
    "                                                    random_state=42)"
   ]
  },
  {
   "cell_type": "code",
   "execution_count": 145,
   "metadata": {},
   "outputs": [],
   "source": [
    "xgb_model = XGBClassifier().fit(X_train, y_train)"
   ]
  },
  {
   "cell_type": "code",
   "execution_count": 146,
   "metadata": {},
   "outputs": [
    {
     "data": {
      "text/plain": [
       "XGBClassifier(base_score=0.5, booster='gbtree', colsample_bylevel=1,\n",
       "              colsample_bynode=1, colsample_bytree=1, gamma=0,\n",
       "              learning_rate=0.1, max_delta_step=0, max_depth=3,\n",
       "              min_child_weight=1, missing=None, n_estimators=100, n_jobs=1,\n",
       "              nthread=None, objective='binary:logistic', random_state=0,\n",
       "              reg_alpha=0, reg_lambda=1, scale_pos_weight=1, seed=None,\n",
       "              silent=None, subsample=1, verbosity=1)"
      ]
     },
     "execution_count": 146,
     "metadata": {},
     "output_type": "execute_result"
    }
   ],
   "source": [
    "xgb_model"
   ]
  },
  {
   "cell_type": "code",
   "execution_count": 147,
   "metadata": {},
   "outputs": [
    {
     "data": {
      "text/plain": [
       "0.7489177489177489"
      ]
     },
     "execution_count": 147,
     "metadata": {},
     "output_type": "execute_result"
    }
   ],
   "source": [
    "y_pred = xgb_model.predict(X_test)\n",
    "accuracy_score(y_test, y_pred)"
   ]
  },
  {
   "cell_type": "markdown",
   "metadata": {},
   "source": [
    "## Model Tuning"
   ]
  },
  {
   "cell_type": "code",
   "execution_count": 148,
   "metadata": {},
   "outputs": [
    {
     "data": {
      "text/plain": [
       "XGBClassifier(base_score=0.5, booster='gbtree', colsample_bylevel=1,\n",
       "              colsample_bynode=1, colsample_bytree=1, gamma=0,\n",
       "              learning_rate=0.1, max_delta_step=0, max_depth=3,\n",
       "              min_child_weight=1, missing=None, n_estimators=100, n_jobs=1,\n",
       "              nthread=None, objective='binary:logistic', random_state=0,\n",
       "              reg_alpha=0, reg_lambda=1, scale_pos_weight=1, seed=None,\n",
       "              silent=None, subsample=1, verbosity=1)"
      ]
     },
     "execution_count": 148,
     "metadata": {},
     "output_type": "execute_result"
    }
   ],
   "source": [
    "xgb_model"
   ]
  },
  {
   "cell_type": "code",
   "execution_count": 149,
   "metadata": {
    "collapsed": true,
    "jupyter": {
     "outputs_hidden": true
    }
   },
   "outputs": [
    {
     "data": {
      "text/plain": [
       "\u001b[0;31mType:\u001b[0m        XGBClassifier\n",
       "\u001b[0;31mString form:\u001b[0m\n",
       "XGBClassifier(base_score=0.5, booster='gbtree', colsample_bylevel=1,\n",
       "           colsample_byno <...> reg_lambda=1, scale_pos_weight=1, seed=None,\n",
       "           silent=None, subsample=1, verbosity=1)\n",
       "\u001b[0;31mFile:\u001b[0m        /opt/anaconda3/lib/python3.7/site-packages/xgboost/sklearn.py\n",
       "\u001b[0;31mDocstring:\u001b[0m  \n",
       "Implementation of the scikit-learn API for XGBoost classification.\n",
       "\n",
       "Parameters\n",
       "----------\n",
       "max_depth : int\n",
       "    Maximum tree depth for base learners.\n",
       "learning_rate : float\n",
       "    Boosting learning rate (xgb's \"eta\")\n",
       "n_estimators : int\n",
       "    Number of trees to fit.\n",
       "verbosity : int\n",
       "    The degree of verbosity. Valid values are 0 (silent) - 3 (debug).\n",
       "silent : boolean\n",
       "    Whether to print messages while running boosting. Deprecated. Use verbosity instead.\n",
       "objective : string or callable\n",
       "    Specify the learning task and the corresponding learning objective or\n",
       "    a custom objective function to be used (see note below).\n",
       "booster: string\n",
       "    Specify which booster to use: gbtree, gblinear or dart.\n",
       "nthread : int\n",
       "    Number of parallel threads used to run xgboost.  (Deprecated, please use ``n_jobs``)\n",
       "n_jobs : int\n",
       "    Number of parallel threads used to run xgboost.  (replaces ``nthread``)\n",
       "gamma : float\n",
       "    Minimum loss reduction required to make a further partition on a leaf node of the tree.\n",
       "min_child_weight : int\n",
       "    Minimum sum of instance weight(hessian) needed in a child.\n",
       "max_delta_step : int\n",
       "    Maximum delta step we allow each tree's weight estimation to be.\n",
       "subsample : float\n",
       "    Subsample ratio of the training instance.\n",
       "colsample_bytree : float\n",
       "    Subsample ratio of columns when constructing each tree.\n",
       "colsample_bylevel : float\n",
       "    Subsample ratio of columns for each level.\n",
       "colsample_bynode : float\n",
       "    Subsample ratio of columns for each split.\n",
       "reg_alpha : float (xgb's alpha)\n",
       "    L1 regularization term on weights\n",
       "reg_lambda : float (xgb's lambda)\n",
       "    L2 regularization term on weights\n",
       "scale_pos_weight : float\n",
       "    Balancing of positive and negative weights.\n",
       "base_score:\n",
       "    The initial prediction score of all instances, global bias.\n",
       "seed : int\n",
       "    Random number seed.  (Deprecated, please use random_state)\n",
       "random_state : int\n",
       "    Random number seed.  (replaces seed)\n",
       "missing : float, optional\n",
       "    Value in the data which needs to be present as a missing value. If\n",
       "    None, defaults to np.nan.\n",
       "importance_type: string, default \"gain\"\n",
       "    The feature importance type for the feature_importances_ property: either \"gain\",\n",
       "    \"weight\", \"cover\", \"total_gain\" or \"total_cover\".\n",
       "\\*\\*kwargs : dict, optional\n",
       "    Keyword arguments for XGBoost Booster object.  Full documentation of parameters can\n",
       "    be found here: https://github.com/dmlc/xgboost/blob/master/doc/parameter.rst.\n",
       "    Attempting to set a parameter via the constructor args and \\*\\*kwargs dict simultaneously\n",
       "    will result in a TypeError.\n",
       "\n",
       "    .. note:: \\*\\*kwargs unsupported by scikit-learn\n",
       "\n",
       "        \\*\\*kwargs is unsupported by scikit-learn.  We do not guarantee that parameters\n",
       "        passed via this argument will interact properly with scikit-learn.\n",
       "\n",
       "Note\n",
       "----\n",
       "A custom objective function can be provided for the ``objective``\n",
       "parameter. In this case, it should have the signature\n",
       "``objective(y_true, y_pred) -> grad, hess``:\n",
       "\n",
       "y_true: array_like of shape [n_samples]\n",
       "    The target values\n",
       "y_pred: array_like of shape [n_samples]\n",
       "    The predicted values\n",
       "\n",
       "grad: array_like of shape [n_samples]\n",
       "    The value of the gradient for each sample point.\n",
       "hess: array_like of shape [n_samples]\n",
       "    The value of the second derivative for each sample point\n"
      ]
     },
     "metadata": {},
     "output_type": "display_data"
    }
   ],
   "source": [
    "?xgb_model"
   ]
  },
  {
   "cell_type": "code",
   "execution_count": 150,
   "metadata": {},
   "outputs": [],
   "source": [
    "xgb_params = {\n",
    "        'n_estimators': [100, 500, 1000, 2000],\n",
    "        'subsample': [0.6, 0.8, 1.0],\n",
    "        'max_depth': [3, 4, 5,6],\n",
    "        'learning_rate': [0.1,0.01,0.02,0.05],\n",
    "        \"min_samples_split\": [2,5,10]}"
   ]
  },
  {
   "cell_type": "code",
   "execution_count": 151,
   "metadata": {},
   "outputs": [],
   "source": [
    "xgb = XGBClassifier()\n",
    "\n",
    "xgb_cv_model = GridSearchCV(xgb, xgb_params, cv = 10, n_jobs = -1, verbose = 2)"
   ]
  },
  {
   "cell_type": "code",
   "execution_count": 152,
   "metadata": {},
   "outputs": [
    {
     "name": "stdout",
     "output_type": "stream",
     "text": [
      "Fitting 10 folds for each of 576 candidates, totalling 5760 fits\n"
     ]
    },
    {
     "name": "stderr",
     "output_type": "stream",
     "text": [
      "[Parallel(n_jobs=-1)]: Using backend LokyBackend with 4 concurrent workers.\n",
      "[Parallel(n_jobs=-1)]: Done  58 tasks      | elapsed:    4.5s\n",
      "[Parallel(n_jobs=-1)]: Done 190 tasks      | elapsed:   30.1s\n",
      "[Parallel(n_jobs=-1)]: Done 393 tasks      | elapsed:  1.2min\n",
      "[Parallel(n_jobs=-1)]: Done 676 tasks      | elapsed:  2.0min\n",
      "[Parallel(n_jobs=-1)]: Done 1041 tasks      | elapsed:  3.4min\n",
      "[Parallel(n_jobs=-1)]: Done 1486 tasks      | elapsed:  5.2min\n",
      "[Parallel(n_jobs=-1)]: Done 2013 tasks      | elapsed:  7.2min\n",
      "[Parallel(n_jobs=-1)]: Done 2620 tasks      | elapsed: 10.0min\n",
      "[Parallel(n_jobs=-1)]: Done 3309 tasks      | elapsed: 13.1min\n",
      "[Parallel(n_jobs=-1)]: Done 4078 tasks      | elapsed: 17.4min\n",
      "[Parallel(n_jobs=-1)]: Done 4929 tasks      | elapsed: 20.9min\n",
      "[Parallel(n_jobs=-1)]: Done 5760 out of 5760 | elapsed: 25.0min finished\n"
     ]
    },
    {
     "data": {
      "text/plain": [
       "GridSearchCV(cv=10, error_score=nan,\n",
       "             estimator=XGBClassifier(base_score=0.5, booster='gbtree',\n",
       "                                     colsample_bylevel=1, colsample_bynode=1,\n",
       "                                     colsample_bytree=1, gamma=0,\n",
       "                                     learning_rate=0.1, max_delta_step=0,\n",
       "                                     max_depth=3, min_child_weight=1,\n",
       "                                     missing=None, n_estimators=100, n_jobs=1,\n",
       "                                     nthread=None, objective='binary:logistic',\n",
       "                                     random_state=0, reg_alpha=0, reg_lambda=1,\n",
       "                                     scale_pos_weight=1, seed=None, silent=None,\n",
       "                                     subsample=1, verbosity=1),\n",
       "             iid='deprecated', n_jobs=-1,\n",
       "             param_grid={'learning_rate': [0.1, 0.01, 0.02, 0.05],\n",
       "                         'max_depth': [3, 4, 5, 6],\n",
       "                         'min_samples_split': [2, 5, 10],\n",
       "                         'n_estimators': [100, 500, 1000, 2000],\n",
       "                         'subsample': [0.6, 0.8, 1.0]},\n",
       "             pre_dispatch='2*n_jobs', refit=True, return_train_score=False,\n",
       "             scoring=None, verbose=2)"
      ]
     },
     "execution_count": 152,
     "metadata": {},
     "output_type": "execute_result"
    }
   ],
   "source": [
    "xgb_cv_model.fit(X_train, y_train)"
   ]
  },
  {
   "cell_type": "code",
   "execution_count": 153,
   "metadata": {},
   "outputs": [
    {
     "data": {
      "text/plain": [
       "{'learning_rate': 0.02,\n",
       " 'max_depth': 3,\n",
       " 'min_samples_split': 2,\n",
       " 'n_estimators': 100,\n",
       " 'subsample': 0.6}"
      ]
     },
     "execution_count": 153,
     "metadata": {},
     "output_type": "execute_result"
    }
   ],
   "source": [
    "xgb_cv_model.best_params_"
   ]
  },
  {
   "cell_type": "code",
   "execution_count": 154,
   "metadata": {},
   "outputs": [],
   "source": [
    "xgb = XGBClassifier(learning_rate = 0.02, \n",
    "                    max_depth = 3,\n",
    "                    min_samples_split = 2,\n",
    "                    n_estimators = 100,\n",
    "                    subsample = 0.6)"
   ]
  },
  {
   "cell_type": "code",
   "execution_count": 155,
   "metadata": {},
   "outputs": [],
   "source": [
    "xgb_tuned =  xgb.fit(X_train,y_train)"
   ]
  },
  {
   "cell_type": "code",
   "execution_count": 156,
   "metadata": {},
   "outputs": [
    {
     "data": {
      "text/plain": [
       "0.7575757575757576"
      ]
     },
     "execution_count": 156,
     "metadata": {},
     "output_type": "execute_result"
    }
   ],
   "source": [
    "y_pred = xgb_tuned.predict(X_test)\n",
    "accuracy_score(y_test, y_pred)"
   ]
  },
  {
   "cell_type": "markdown",
   "metadata": {},
   "source": [
    "# LightGBM"
   ]
  },
  {
   "cell_type": "code",
   "execution_count": 157,
   "metadata": {},
   "outputs": [],
   "source": [
    "df = diabetes.copy()\n",
    "df = df.dropna()\n",
    "y = df[\"Outcome\"]\n",
    "X = df.drop(['Outcome'], axis=1)\n",
    "#X = df[\"Pregnancies\"]\n",
    "X = pd.DataFrame(X)\n",
    "X_train, X_test, y_train, y_test = train_test_split(X, y, \n",
    "                                                    test_size=0.30, \n",
    "                                                    random_state=42)"
   ]
  },
  {
   "cell_type": "code",
   "execution_count": 158,
   "metadata": {},
   "outputs": [],
   "source": [
    "lgbm_model = LGBMClassifier().fit(X_train, y_train)"
   ]
  },
  {
   "cell_type": "code",
   "execution_count": 159,
   "metadata": {},
   "outputs": [
    {
     "data": {
      "text/plain": [
       "0.7272727272727273"
      ]
     },
     "execution_count": 159,
     "metadata": {},
     "output_type": "execute_result"
    }
   ],
   "source": [
    "y_pred = lgbm_model.predict(X_test)\n",
    "accuracy_score(y_test, y_pred)"
   ]
  },
  {
   "cell_type": "markdown",
   "metadata": {},
   "source": [
    "## Model Tuning"
   ]
  },
  {
   "cell_type": "code",
   "execution_count": 160,
   "metadata": {},
   "outputs": [
    {
     "data": {
      "text/plain": [
       "LGBMClassifier(boosting_type='gbdt', class_weight=None, colsample_bytree=1.0,\n",
       "               importance_type='split', learning_rate=0.1, max_depth=-1,\n",
       "               min_child_samples=20, min_child_weight=0.001, min_split_gain=0.0,\n",
       "               n_estimators=100, n_jobs=-1, num_leaves=31, objective=None,\n",
       "               random_state=None, reg_alpha=0.0, reg_lambda=0.0, silent=True,\n",
       "               subsample=1.0, subsample_for_bin=200000, subsample_freq=0)"
      ]
     },
     "execution_count": 160,
     "metadata": {},
     "output_type": "execute_result"
    }
   ],
   "source": [
    "lgbm_model"
   ]
  },
  {
   "cell_type": "code",
   "execution_count": 161,
   "metadata": {
    "collapsed": true,
    "jupyter": {
     "outputs_hidden": true
    }
   },
   "outputs": [
    {
     "data": {
      "text/plain": [
       "\u001b[0;31mType:\u001b[0m           LGBMClassifier\n",
       "\u001b[0;31mString form:\u001b[0m   \n",
       "LGBMClassifier(boosting_type='gbdt', class_weight=None, colsample_bytree=1.0,\n",
       "           impo <...> ambda=0.0, silent=True,\n",
       "           subsample=1.0, subsample_for_bin=200000, subsample_freq=0)\n",
       "\u001b[0;31mFile:\u001b[0m           /opt/anaconda3/lib/python3.7/site-packages/lightgbm/sklearn.py\n",
       "\u001b[0;31mDocstring:\u001b[0m      LightGBM classifier.\n",
       "\u001b[0;31mInit docstring:\u001b[0m\n",
       "Construct a gradient boosting model.\n",
       "\n",
       "Parameters\n",
       "----------\n",
       "boosting_type : string, optional (default='gbdt')\n",
       "    'gbdt', traditional Gradient Boosting Decision Tree.\n",
       "    'dart', Dropouts meet Multiple Additive Regression Trees.\n",
       "    'goss', Gradient-based One-Side Sampling.\n",
       "    'rf', Random Forest.\n",
       "num_leaves : int, optional (default=31)\n",
       "    Maximum tree leaves for base learners.\n",
       "max_depth : int, optional (default=-1)\n",
       "    Maximum tree depth for base learners, <=0 means no limit.\n",
       "learning_rate : float, optional (default=0.1)\n",
       "    Boosting learning rate.\n",
       "    You can use ``callbacks`` parameter of ``fit`` method to shrink/adapt learning rate\n",
       "    in training using ``reset_parameter`` callback.\n",
       "    Note, that this will ignore the ``learning_rate`` argument in training.\n",
       "n_estimators : int, optional (default=100)\n",
       "    Number of boosted trees to fit.\n",
       "subsample_for_bin : int, optional (default=200000)\n",
       "    Number of samples for constructing bins.\n",
       "objective : string, callable or None, optional (default=None)\n",
       "    Specify the learning task and the corresponding learning objective or\n",
       "    a custom objective function to be used (see note below).\n",
       "    Default: 'regression' for LGBMRegressor, 'binary' or 'multiclass' for LGBMClassifier, 'lambdarank' for LGBMRanker.\n",
       "class_weight : dict, 'balanced' or None, optional (default=None)\n",
       "    Weights associated with classes in the form ``{class_label: weight}``.\n",
       "    Use this parameter only for multi-class classification task;\n",
       "    for binary classification task you may use ``is_unbalance`` or ``scale_pos_weight`` parameters.\n",
       "    Note, that the usage of all these parameters will result in poor estimates of the individual class probabilities.\n",
       "    You may want to consider performing probability calibration\n",
       "    (https://scikit-learn.org/stable/modules/calibration.html) of your model.\n",
       "    The 'balanced' mode uses the values of y to automatically adjust weights\n",
       "    inversely proportional to class frequencies in the input data as ``n_samples / (n_classes * np.bincount(y))``.\n",
       "    If None, all classes are supposed to have weight one.\n",
       "    Note, that these weights will be multiplied with ``sample_weight`` (passed through the ``fit`` method)\n",
       "    if ``sample_weight`` is specified.\n",
       "min_split_gain : float, optional (default=0.)\n",
       "    Minimum loss reduction required to make a further partition on a leaf node of the tree.\n",
       "min_child_weight : float, optional (default=1e-3)\n",
       "    Minimum sum of instance weight (hessian) needed in a child (leaf).\n",
       "min_child_samples : int, optional (default=20)\n",
       "    Minimum number of data needed in a child (leaf).\n",
       "subsample : float, optional (default=1.)\n",
       "    Subsample ratio of the training instance.\n",
       "subsample_freq : int, optional (default=0)\n",
       "    Frequence of subsample, <=0 means no enable.\n",
       "colsample_bytree : float, optional (default=1.)\n",
       "    Subsample ratio of columns when constructing each tree.\n",
       "reg_alpha : float, optional (default=0.)\n",
       "    L1 regularization term on weights.\n",
       "reg_lambda : float, optional (default=0.)\n",
       "    L2 regularization term on weights.\n",
       "random_state : int or None, optional (default=None)\n",
       "    Random number seed.\n",
       "    If None, default seeds in C++ code will be used.\n",
       "n_jobs : int, optional (default=-1)\n",
       "    Number of parallel threads.\n",
       "silent : bool, optional (default=True)\n",
       "    Whether to print messages while running boosting.\n",
       "importance_type : string, optional (default='split')\n",
       "    The type of feature importance to be filled into ``feature_importances_``.\n",
       "    If 'split', result contains numbers of times the feature is used in a model.\n",
       "    If 'gain', result contains total gains of splits which use the feature.\n",
       "**kwargs\n",
       "    Other parameters for the model.\n",
       "    Check http://lightgbm.readthedocs.io/en/latest/Parameters.html for more parameters.\n",
       "\n",
       "    .. warning::\n",
       "\n",
       "        \\*\\*kwargs is not supported in sklearn, it may cause unexpected issues.\n",
       "\n",
       "Attributes\n",
       "----------\n",
       "n_features_ : int\n",
       "    The number of features of fitted model.\n",
       "classes_ : array of shape = [n_classes]\n",
       "    The class label array (only for classification problem).\n",
       "n_classes_ : int\n",
       "    The number of classes (only for classification problem).\n",
       "best_score_ : dict or None\n",
       "    The best score of fitted model.\n",
       "best_iteration_ : int or None\n",
       "    The best iteration of fitted model if ``early_stopping_rounds`` has been specified.\n",
       "objective_ : string or callable\n",
       "    The concrete objective used while fitting this model.\n",
       "booster_ : Booster\n",
       "    The underlying Booster of this model.\n",
       "evals_result_ : dict or None\n",
       "    The evaluation results if ``early_stopping_rounds`` has been specified.\n",
       "feature_importances_ : array of shape = [n_features]\n",
       "    The feature importances (the higher, the more important the feature).\n",
       "\n",
       "Note\n",
       "----\n",
       "A custom objective function can be provided for the ``objective`` parameter.\n",
       "In this case, it should have the signature\n",
       "``objective(y_true, y_pred) -> grad, hess`` or\n",
       "``objective(y_true, y_pred, group) -> grad, hess``:\n",
       "\n",
       "    y_true : array-like of shape = [n_samples]\n",
       "        The target values.\n",
       "    y_pred : array-like of shape = [n_samples] or shape = [n_samples * n_classes] (for multi-class task)\n",
       "        The predicted values.\n",
       "    group : array-like\n",
       "        Group/query data, used for ranking task.\n",
       "    grad : array-like of shape = [n_samples] or shape = [n_samples * n_classes] (for multi-class task)\n",
       "        The value of the first order derivative (gradient) for each sample point.\n",
       "    hess : array-like of shape = [n_samples] or shape = [n_samples * n_classes] (for multi-class task)\n",
       "        The value of the second order derivative (Hessian) for each sample point.\n",
       "\n",
       "For multi-class task, the y_pred is group by class_id first, then group by row_id.\n",
       "If you want to get i-th row y_pred in j-th class, the access way is y_pred[j * num_data + i]\n",
       "and you should group grad and hess in this way as well.\n"
      ]
     },
     "metadata": {},
     "output_type": "display_data"
    }
   ],
   "source": [
    "?lgbm_model"
   ]
  },
  {
   "cell_type": "code",
   "execution_count": 162,
   "metadata": {},
   "outputs": [],
   "source": [
    "lgbm_params = {\n",
    "        'n_estimators': [100, 500, 1000, 2000],\n",
    "        'subsample': [0.6, 0.8, 1.0],\n",
    "        'max_depth': [3, 4, 5,6],\n",
    "        'learning_rate': [0.1,0.01,0.02,0.05],\n",
    "        \"min_child_samples\": [5,10,20]}"
   ]
  },
  {
   "cell_type": "code",
   "execution_count": 163,
   "metadata": {},
   "outputs": [],
   "source": [
    "lgbm = LGBMClassifier()\n",
    "\n",
    "lgbm_cv_model = GridSearchCV(lgbm, lgbm_params, \n",
    "                             cv = 10, \n",
    "                             n_jobs = -1, \n",
    "                             verbose = 2)\n",
    "\n",
    "\n"
   ]
  },
  {
   "cell_type": "code",
   "execution_count": 164,
   "metadata": {},
   "outputs": [
    {
     "name": "stdout",
     "output_type": "stream",
     "text": [
      "Fitting 10 folds for each of 576 candidates, totalling 5760 fits\n"
     ]
    },
    {
     "name": "stderr",
     "output_type": "stream",
     "text": [
      "[Parallel(n_jobs=-1)]: Using backend LokyBackend with 4 concurrent workers.\n",
      "[Parallel(n_jobs=-1)]: Done  33 tasks      | elapsed:    4.6s\n",
      "[Parallel(n_jobs=-1)]: Done 250 tasks      | elapsed:   26.8s\n",
      "[Parallel(n_jobs=-1)]: Done 453 tasks      | elapsed:   48.2s\n",
      "[Parallel(n_jobs=-1)]: Done 824 tasks      | elapsed:  1.6min\n",
      "[Parallel(n_jobs=-1)]: Done 1189 tasks      | elapsed:  2.7min\n",
      "[Parallel(n_jobs=-1)]: Done 1634 tasks      | elapsed:  3.7min\n",
      "[Parallel(n_jobs=-1)]: Done 2181 tasks      | elapsed:  5.1min\n",
      "[Parallel(n_jobs=-1)]: Done 2788 tasks      | elapsed:  7.5min\n",
      "[Parallel(n_jobs=-1)]: Done 3561 tasks      | elapsed:  9.2min\n",
      "[Parallel(n_jobs=-1)]: Done 4330 tasks      | elapsed: 11.8min\n",
      "[Parallel(n_jobs=-1)]: Done 5289 tasks      | elapsed: 14.2min\n",
      "[Parallel(n_jobs=-1)]: Done 5760 out of 5760 | elapsed: 15.7min finished\n"
     ]
    },
    {
     "data": {
      "text/plain": [
       "GridSearchCV(cv=10, error_score=nan,\n",
       "             estimator=LGBMClassifier(boosting_type='gbdt', class_weight=None,\n",
       "                                      colsample_bytree=1.0,\n",
       "                                      importance_type='split',\n",
       "                                      learning_rate=0.1, max_depth=-1,\n",
       "                                      min_child_samples=20,\n",
       "                                      min_child_weight=0.001,\n",
       "                                      min_split_gain=0.0, n_estimators=100,\n",
       "                                      n_jobs=-1, num_leaves=31, objective=None,\n",
       "                                      random_state=None, reg_alpha=0.0,\n",
       "                                      reg_lambda=0.0, silent=True,\n",
       "                                      subsample=1.0, subsample_for_bin=200000,\n",
       "                                      subsample_freq=0),\n",
       "             iid='deprecated', n_jobs=-1,\n",
       "             param_grid={'learning_rate': [0.1, 0.01, 0.02, 0.05],\n",
       "                         'max_depth': [3, 4, 5, 6],\n",
       "                         'min_child_samples': [5, 10, 20],\n",
       "                         'n_estimators': [100, 500, 1000, 2000],\n",
       "                         'subsample': [0.6, 0.8, 1.0]},\n",
       "             pre_dispatch='2*n_jobs', refit=True, return_train_score=False,\n",
       "             scoring=None, verbose=2)"
      ]
     },
     "execution_count": 164,
     "metadata": {},
     "output_type": "execute_result"
    }
   ],
   "source": [
    "lgbm_cv_model.fit(X_train, y_train)"
   ]
  },
  {
   "cell_type": "code",
   "execution_count": 165,
   "metadata": {},
   "outputs": [
    {
     "data": {
      "text/plain": [
       "{'learning_rate': 0.01,\n",
       " 'max_depth': 3,\n",
       " 'min_child_samples': 20,\n",
       " 'n_estimators': 500,\n",
       " 'subsample': 0.6}"
      ]
     },
     "execution_count": 165,
     "metadata": {},
     "output_type": "execute_result"
    }
   ],
   "source": [
    "lgbm_cv_model.best_params_"
   ]
  },
  {
   "cell_type": "code",
   "execution_count": 166,
   "metadata": {},
   "outputs": [],
   "source": [
    "lgbm = LGBMClassifier(learning_rate = 0.01, \n",
    "                       max_depth = 3,\n",
    "                       subsample = 0.6,\n",
    "                       n_estimators = 500,\n",
    "                       min_child_samples = 20)"
   ]
  },
  {
   "cell_type": "code",
   "execution_count": 167,
   "metadata": {},
   "outputs": [],
   "source": [
    "lgbm_tuned = lgbm.fit(X_train,y_train)"
   ]
  },
  {
   "cell_type": "code",
   "execution_count": 168,
   "metadata": {},
   "outputs": [
    {
     "data": {
      "text/plain": [
       "0.7445887445887446"
      ]
     },
     "execution_count": 168,
     "metadata": {},
     "output_type": "execute_result"
    }
   ],
   "source": [
    "y_pred = lgbm_tuned.predict(X_test)\n",
    "accuracy_score(y_test, y_pred)\n"
   ]
  },
  {
   "cell_type": "markdown",
   "metadata": {},
   "source": [
    "# CatBoost"
   ]
  },
  {
   "cell_type": "markdown",
   "metadata": {},
   "source": [
    "## Model & Prediction"
   ]
  },
  {
   "cell_type": "code",
   "execution_count": 169,
   "metadata": {},
   "outputs": [],
   "source": [
    "df = diabetes.copy()\n",
    "df = df.dropna()\n",
    "y = df[\"Outcome\"]\n",
    "X = df.drop(['Outcome'], axis=1)\n",
    "#X = df[\"Pregnancies\"]\n",
    "X = pd.DataFrame(X)\n",
    "X_train, X_test, y_train, y_test = train_test_split(X, y, \n",
    "                                                    test_size=0.30, \n",
    "                                                    random_state=42)"
   ]
  },
  {
   "cell_type": "code",
   "execution_count": 170,
   "metadata": {},
   "outputs": [],
   "source": [
    "#!pip install catboost\n",
    "from catboost import CatBoostClassifier"
   ]
  },
  {
   "cell_type": "code",
   "execution_count": 171,
   "metadata": {
    "collapsed": true,
    "jupyter": {
     "outputs_hidden": true
    }
   },
   "outputs": [
    {
     "name": "stdout",
     "output_type": "stream",
     "text": [
      "Learning rate set to 0.0079\n",
      "0:\tlearn: 0.6879822\ttotal: 58.1ms\tremaining: 58s\n",
      "1:\tlearn: 0.6843544\ttotal: 60.2ms\tremaining: 30s\n",
      "2:\tlearn: 0.6805937\ttotal: 61.8ms\tremaining: 20.5s\n",
      "3:\tlearn: 0.6766011\ttotal: 63.7ms\tremaining: 15.9s\n",
      "4:\tlearn: 0.6721103\ttotal: 65.4ms\tremaining: 13s\n",
      "5:\tlearn: 0.6681927\ttotal: 67.2ms\tremaining: 11.1s\n",
      "6:\tlearn: 0.6642263\ttotal: 68.7ms\tremaining: 9.74s\n",
      "7:\tlearn: 0.6603263\ttotal: 70.1ms\tremaining: 8.7s\n",
      "8:\tlearn: 0.6563030\ttotal: 71.6ms\tremaining: 7.89s\n",
      "9:\tlearn: 0.6528911\ttotal: 73.1ms\tremaining: 7.24s\n",
      "10:\tlearn: 0.6488276\ttotal: 74.9ms\tremaining: 6.73s\n",
      "11:\tlearn: 0.6455457\ttotal: 76.3ms\tremaining: 6.28s\n",
      "12:\tlearn: 0.6419444\ttotal: 77.8ms\tremaining: 5.91s\n",
      "13:\tlearn: 0.6374939\ttotal: 79.3ms\tremaining: 5.58s\n",
      "14:\tlearn: 0.6340194\ttotal: 80.7ms\tremaining: 5.3s\n",
      "15:\tlearn: 0.6304776\ttotal: 82.2ms\tremaining: 5.06s\n",
      "16:\tlearn: 0.6267531\ttotal: 84ms\tremaining: 4.86s\n",
      "17:\tlearn: 0.6238199\ttotal: 85.5ms\tremaining: 4.67s\n",
      "18:\tlearn: 0.6204938\ttotal: 87ms\tremaining: 4.49s\n",
      "19:\tlearn: 0.6170669\ttotal: 88.6ms\tremaining: 4.34s\n",
      "20:\tlearn: 0.6133936\ttotal: 90.3ms\tremaining: 4.21s\n",
      "21:\tlearn: 0.6105467\ttotal: 91.9ms\tremaining: 4.08s\n",
      "22:\tlearn: 0.6070055\ttotal: 93.4ms\tremaining: 3.97s\n",
      "23:\tlearn: 0.6036988\ttotal: 95.2ms\tremaining: 3.87s\n",
      "24:\tlearn: 0.6005906\ttotal: 96.7ms\tremaining: 3.77s\n",
      "25:\tlearn: 0.5978029\ttotal: 98.3ms\tremaining: 3.68s\n",
      "26:\tlearn: 0.5948687\ttotal: 99.9ms\tremaining: 3.6s\n",
      "27:\tlearn: 0.5920321\ttotal: 102ms\tremaining: 3.52s\n",
      "28:\tlearn: 0.5885543\ttotal: 105ms\tremaining: 3.53s\n",
      "29:\tlearn: 0.5848739\ttotal: 107ms\tremaining: 3.45s\n",
      "30:\tlearn: 0.5814562\ttotal: 109ms\tremaining: 3.39s\n",
      "31:\tlearn: 0.5783158\ttotal: 110ms\tremaining: 3.33s\n",
      "32:\tlearn: 0.5754880\ttotal: 112ms\tremaining: 3.27s\n",
      "33:\tlearn: 0.5737960\ttotal: 113ms\tremaining: 3.22s\n",
      "34:\tlearn: 0.5713558\ttotal: 115ms\tremaining: 3.17s\n",
      "35:\tlearn: 0.5687880\ttotal: 117ms\tremaining: 3.13s\n",
      "36:\tlearn: 0.5660068\ttotal: 119ms\tremaining: 3.08s\n",
      "37:\tlearn: 0.5642053\ttotal: 120ms\tremaining: 3.04s\n",
      "38:\tlearn: 0.5618905\ttotal: 122ms\tremaining: 3s\n",
      "39:\tlearn: 0.5596534\ttotal: 123ms\tremaining: 2.96s\n",
      "40:\tlearn: 0.5576328\ttotal: 125ms\tremaining: 2.92s\n",
      "41:\tlearn: 0.5553185\ttotal: 127ms\tremaining: 2.89s\n",
      "42:\tlearn: 0.5531257\ttotal: 128ms\tremaining: 2.85s\n",
      "43:\tlearn: 0.5501080\ttotal: 130ms\tremaining: 2.82s\n",
      "44:\tlearn: 0.5479930\ttotal: 131ms\tremaining: 2.79s\n",
      "45:\tlearn: 0.5456177\ttotal: 133ms\tremaining: 2.76s\n",
      "46:\tlearn: 0.5438786\ttotal: 134ms\tremaining: 2.72s\n",
      "47:\tlearn: 0.5419967\ttotal: 137ms\tremaining: 2.71s\n",
      "48:\tlearn: 0.5394665\ttotal: 139ms\tremaining: 2.69s\n",
      "49:\tlearn: 0.5376058\ttotal: 140ms\tremaining: 2.67s\n",
      "50:\tlearn: 0.5352902\ttotal: 143ms\tremaining: 2.65s\n",
      "51:\tlearn: 0.5332041\ttotal: 144ms\tremaining: 2.62s\n",
      "52:\tlearn: 0.5306692\ttotal: 146ms\tremaining: 2.61s\n",
      "53:\tlearn: 0.5284961\ttotal: 149ms\tremaining: 2.61s\n",
      "54:\tlearn: 0.5266646\ttotal: 153ms\tremaining: 2.63s\n",
      "55:\tlearn: 0.5245416\ttotal: 157ms\tremaining: 2.64s\n",
      "56:\tlearn: 0.5225713\ttotal: 158ms\tremaining: 2.62s\n",
      "57:\tlearn: 0.5206087\ttotal: 160ms\tremaining: 2.6s\n",
      "58:\tlearn: 0.5182788\ttotal: 161ms\tremaining: 2.57s\n",
      "59:\tlearn: 0.5160537\ttotal: 163ms\tremaining: 2.55s\n",
      "60:\tlearn: 0.5146418\ttotal: 164ms\tremaining: 2.52s\n",
      "61:\tlearn: 0.5133434\ttotal: 165ms\tremaining: 2.5s\n",
      "62:\tlearn: 0.5120091\ttotal: 169ms\tremaining: 2.51s\n",
      "63:\tlearn: 0.5105931\ttotal: 171ms\tremaining: 2.51s\n",
      "64:\tlearn: 0.5082239\ttotal: 173ms\tremaining: 2.49s\n",
      "65:\tlearn: 0.5062303\ttotal: 174ms\tremaining: 2.47s\n",
      "66:\tlearn: 0.5046140\ttotal: 176ms\tremaining: 2.45s\n",
      "67:\tlearn: 0.5026774\ttotal: 178ms\tremaining: 2.44s\n",
      "68:\tlearn: 0.5014878\ttotal: 180ms\tremaining: 2.42s\n",
      "69:\tlearn: 0.5001072\ttotal: 182ms\tremaining: 2.41s\n",
      "70:\tlearn: 0.4986150\ttotal: 183ms\tremaining: 2.4s\n",
      "71:\tlearn: 0.4968047\ttotal: 185ms\tremaining: 2.39s\n",
      "72:\tlearn: 0.4953632\ttotal: 187ms\tremaining: 2.38s\n",
      "73:\tlearn: 0.4938498\ttotal: 189ms\tremaining: 2.36s\n",
      "74:\tlearn: 0.4922801\ttotal: 190ms\tremaining: 2.34s\n",
      "75:\tlearn: 0.4908261\ttotal: 191ms\tremaining: 2.33s\n",
      "76:\tlearn: 0.4892363\ttotal: 193ms\tremaining: 2.31s\n",
      "77:\tlearn: 0.4876098\ttotal: 194ms\tremaining: 2.3s\n",
      "78:\tlearn: 0.4862050\ttotal: 196ms\tremaining: 2.29s\n",
      "79:\tlearn: 0.4850063\ttotal: 199ms\tremaining: 2.28s\n",
      "80:\tlearn: 0.4839806\ttotal: 200ms\tremaining: 2.27s\n",
      "81:\tlearn: 0.4823197\ttotal: 202ms\tremaining: 2.26s\n",
      "82:\tlearn: 0.4806850\ttotal: 203ms\tremaining: 2.25s\n",
      "83:\tlearn: 0.4791040\ttotal: 204ms\tremaining: 2.23s\n",
      "84:\tlearn: 0.4776899\ttotal: 205ms\tremaining: 2.21s\n",
      "85:\tlearn: 0.4760505\ttotal: 207ms\tremaining: 2.19s\n",
      "86:\tlearn: 0.4750202\ttotal: 208ms\tremaining: 2.18s\n",
      "87:\tlearn: 0.4736074\ttotal: 209ms\tremaining: 2.16s\n",
      "88:\tlearn: 0.4721145\ttotal: 210ms\tremaining: 2.15s\n",
      "89:\tlearn: 0.4709314\ttotal: 212ms\tremaining: 2.14s\n",
      "90:\tlearn: 0.4693651\ttotal: 214ms\tremaining: 2.13s\n",
      "91:\tlearn: 0.4679810\ttotal: 215ms\tremaining: 2.12s\n",
      "92:\tlearn: 0.4665089\ttotal: 216ms\tremaining: 2.1s\n",
      "93:\tlearn: 0.4650662\ttotal: 217ms\tremaining: 2.09s\n",
      "94:\tlearn: 0.4638027\ttotal: 218ms\tremaining: 2.08s\n",
      "95:\tlearn: 0.4625580\ttotal: 219ms\tremaining: 2.06s\n",
      "96:\tlearn: 0.4611601\ttotal: 220ms\tremaining: 2.05s\n",
      "97:\tlearn: 0.4601908\ttotal: 221ms\tremaining: 2.04s\n",
      "98:\tlearn: 0.4589758\ttotal: 222ms\tremaining: 2.02s\n",
      "99:\tlearn: 0.4579517\ttotal: 224ms\tremaining: 2.01s\n",
      "100:\tlearn: 0.4568376\ttotal: 225ms\tremaining: 2s\n",
      "101:\tlearn: 0.4560033\ttotal: 226ms\tremaining: 1.99s\n",
      "102:\tlearn: 0.4550106\ttotal: 227ms\tremaining: 1.98s\n",
      "103:\tlearn: 0.4538100\ttotal: 228ms\tremaining: 1.97s\n",
      "104:\tlearn: 0.4525246\ttotal: 229ms\tremaining: 1.95s\n",
      "105:\tlearn: 0.4516290\ttotal: 230ms\tremaining: 1.94s\n",
      "106:\tlearn: 0.4505692\ttotal: 231ms\tremaining: 1.93s\n",
      "107:\tlearn: 0.4493491\ttotal: 232ms\tremaining: 1.92s\n",
      "108:\tlearn: 0.4484229\ttotal: 233ms\tremaining: 1.91s\n",
      "109:\tlearn: 0.4475237\ttotal: 234ms\tremaining: 1.9s\n",
      "110:\tlearn: 0.4462811\ttotal: 235ms\tremaining: 1.89s\n",
      "111:\tlearn: 0.4455498\ttotal: 236ms\tremaining: 1.87s\n",
      "112:\tlearn: 0.4447490\ttotal: 238ms\tremaining: 1.86s\n",
      "113:\tlearn: 0.4436312\ttotal: 239ms\tremaining: 1.85s\n",
      "114:\tlearn: 0.4426529\ttotal: 240ms\tremaining: 1.84s\n",
      "115:\tlearn: 0.4419532\ttotal: 241ms\tremaining: 1.83s\n",
      "116:\tlearn: 0.4408642\ttotal: 242ms\tremaining: 1.82s\n",
      "117:\tlearn: 0.4400705\ttotal: 243ms\tremaining: 1.82s\n",
      "118:\tlearn: 0.4392703\ttotal: 244ms\tremaining: 1.81s\n",
      "119:\tlearn: 0.4382235\ttotal: 245ms\tremaining: 1.8s\n",
      "120:\tlearn: 0.4373214\ttotal: 246ms\tremaining: 1.79s\n",
      "121:\tlearn: 0.4364590\ttotal: 247ms\tremaining: 1.78s\n",
      "122:\tlearn: 0.4358042\ttotal: 249ms\tremaining: 1.77s\n",
      "123:\tlearn: 0.4346576\ttotal: 250ms\tremaining: 1.76s\n",
      "124:\tlearn: 0.4334821\ttotal: 251ms\tremaining: 1.75s\n",
      "125:\tlearn: 0.4328019\ttotal: 252ms\tremaining: 1.75s\n",
      "126:\tlearn: 0.4319468\ttotal: 253ms\tremaining: 1.74s\n",
      "127:\tlearn: 0.4313707\ttotal: 254ms\tremaining: 1.73s\n",
      "128:\tlearn: 0.4305355\ttotal: 255ms\tremaining: 1.72s\n",
      "129:\tlearn: 0.4298462\ttotal: 256ms\tremaining: 1.71s\n",
      "130:\tlearn: 0.4292290\ttotal: 257ms\tremaining: 1.7s\n",
      "131:\tlearn: 0.4280695\ttotal: 258ms\tremaining: 1.7s\n",
      "132:\tlearn: 0.4270546\ttotal: 260ms\tremaining: 1.69s\n",
      "133:\tlearn: 0.4260827\ttotal: 262ms\tremaining: 1.69s\n",
      "134:\tlearn: 0.4253427\ttotal: 264ms\tremaining: 1.69s\n",
      "135:\tlearn: 0.4245101\ttotal: 265ms\tremaining: 1.68s\n",
      "136:\tlearn: 0.4237595\ttotal: 266ms\tremaining: 1.68s\n",
      "137:\tlearn: 0.4228898\ttotal: 267ms\tremaining: 1.67s\n",
      "138:\tlearn: 0.4221720\ttotal: 269ms\tremaining: 1.67s\n",
      "139:\tlearn: 0.4214328\ttotal: 270ms\tremaining: 1.66s\n",
      "140:\tlearn: 0.4206441\ttotal: 273ms\tremaining: 1.66s\n",
      "141:\tlearn: 0.4194387\ttotal: 274ms\tremaining: 1.65s\n",
      "142:\tlearn: 0.4190300\ttotal: 275ms\tremaining: 1.65s\n",
      "143:\tlearn: 0.4183890\ttotal: 277ms\tremaining: 1.64s\n",
      "144:\tlearn: 0.4178356\ttotal: 278ms\tremaining: 1.64s\n",
      "145:\tlearn: 0.4169107\ttotal: 279ms\tremaining: 1.63s\n",
      "146:\tlearn: 0.4165857\ttotal: 280ms\tremaining: 1.63s\n",
      "147:\tlearn: 0.4157928\ttotal: 281ms\tremaining: 1.62s\n",
      "148:\tlearn: 0.4151702\ttotal: 282ms\tremaining: 1.61s\n",
      "149:\tlearn: 0.4140647\ttotal: 289ms\tremaining: 1.64s\n",
      "150:\tlearn: 0.4134993\ttotal: 290ms\tremaining: 1.63s\n",
      "151:\tlearn: 0.4129717\ttotal: 291ms\tremaining: 1.62s\n",
      "152:\tlearn: 0.4118548\ttotal: 292ms\tremaining: 1.62s\n",
      "153:\tlearn: 0.4111608\ttotal: 294ms\tremaining: 1.61s\n",
      "154:\tlearn: 0.4104780\ttotal: 297ms\tremaining: 1.62s\n",
      "155:\tlearn: 0.4098930\ttotal: 299ms\tremaining: 1.62s\n",
      "156:\tlearn: 0.4089691\ttotal: 301ms\tremaining: 1.61s\n",
      "157:\tlearn: 0.4087054\ttotal: 302ms\tremaining: 1.61s\n",
      "158:\tlearn: 0.4077668\ttotal: 304ms\tremaining: 1.61s\n",
      "159:\tlearn: 0.4072638\ttotal: 305ms\tremaining: 1.6s\n",
      "160:\tlearn: 0.4067148\ttotal: 307ms\tremaining: 1.6s\n",
      "161:\tlearn: 0.4060385\ttotal: 308ms\tremaining: 1.59s\n",
      "162:\tlearn: 0.4055288\ttotal: 309ms\tremaining: 1.59s\n",
      "163:\tlearn: 0.4047306\ttotal: 311ms\tremaining: 1.58s\n",
      "164:\tlearn: 0.4037789\ttotal: 312ms\tremaining: 1.58s\n",
      "165:\tlearn: 0.4031834\ttotal: 314ms\tremaining: 1.57s\n",
      "166:\tlearn: 0.4026181\ttotal: 315ms\tremaining: 1.57s\n",
      "167:\tlearn: 0.4019249\ttotal: 316ms\tremaining: 1.56s\n",
      "168:\tlearn: 0.4011902\ttotal: 317ms\tremaining: 1.56s\n",
      "169:\tlearn: 0.4004675\ttotal: 318ms\tremaining: 1.55s\n",
      "170:\tlearn: 0.3998937\ttotal: 319ms\tremaining: 1.55s\n",
      "171:\tlearn: 0.3990494\ttotal: 320ms\tremaining: 1.54s\n",
      "172:\tlearn: 0.3984273\ttotal: 322ms\tremaining: 1.54s\n",
      "173:\tlearn: 0.3978255\ttotal: 323ms\tremaining: 1.53s\n",
      "174:\tlearn: 0.3969608\ttotal: 324ms\tremaining: 1.53s\n",
      "175:\tlearn: 0.3965716\ttotal: 325ms\tremaining: 1.52s\n",
      "176:\tlearn: 0.3958000\ttotal: 326ms\tremaining: 1.52s\n",
      "177:\tlearn: 0.3950526\ttotal: 327ms\tremaining: 1.51s\n",
      "178:\tlearn: 0.3943012\ttotal: 329ms\tremaining: 1.51s\n",
      "179:\tlearn: 0.3936510\ttotal: 330ms\tremaining: 1.5s\n",
      "180:\tlearn: 0.3931304\ttotal: 331ms\tremaining: 1.5s\n",
      "181:\tlearn: 0.3922809\ttotal: 332ms\tremaining: 1.49s\n",
      "182:\tlearn: 0.3916910\ttotal: 333ms\tremaining: 1.49s\n",
      "183:\tlearn: 0.3911177\ttotal: 335ms\tremaining: 1.48s\n",
      "184:\tlearn: 0.3902377\ttotal: 336ms\tremaining: 1.48s\n",
      "185:\tlearn: 0.3896318\ttotal: 337ms\tremaining: 1.47s\n",
      "186:\tlearn: 0.3889018\ttotal: 338ms\tremaining: 1.47s\n",
      "187:\tlearn: 0.3884345\ttotal: 339ms\tremaining: 1.46s\n",
      "188:\tlearn: 0.3880162\ttotal: 340ms\tremaining: 1.46s\n",
      "189:\tlearn: 0.3873354\ttotal: 341ms\tremaining: 1.45s\n",
      "190:\tlearn: 0.3865013\ttotal: 342ms\tremaining: 1.45s\n",
      "191:\tlearn: 0.3858420\ttotal: 343ms\tremaining: 1.45s\n",
      "192:\tlearn: 0.3851892\ttotal: 344ms\tremaining: 1.44s\n",
      "193:\tlearn: 0.3846598\ttotal: 345ms\tremaining: 1.44s\n",
      "194:\tlearn: 0.3840737\ttotal: 347ms\tremaining: 1.43s\n",
      "195:\tlearn: 0.3837046\ttotal: 349ms\tremaining: 1.43s\n",
      "196:\tlearn: 0.3832085\ttotal: 350ms\tremaining: 1.43s\n",
      "197:\tlearn: 0.3827921\ttotal: 351ms\tremaining: 1.42s\n",
      "198:\tlearn: 0.3823105\ttotal: 371ms\tremaining: 1.49s\n",
      "199:\tlearn: 0.3818350\ttotal: 373ms\tremaining: 1.49s\n",
      "200:\tlearn: 0.3815497\ttotal: 374ms\tremaining: 1.49s\n",
      "201:\tlearn: 0.3809861\ttotal: 375ms\tremaining: 1.48s\n",
      "202:\tlearn: 0.3805201\ttotal: 377ms\tremaining: 1.48s\n",
      "203:\tlearn: 0.3800554\ttotal: 378ms\tremaining: 1.47s\n",
      "204:\tlearn: 0.3796176\ttotal: 379ms\tremaining: 1.47s\n",
      "205:\tlearn: 0.3791170\ttotal: 380ms\tremaining: 1.46s\n",
      "206:\tlearn: 0.3783718\ttotal: 381ms\tremaining: 1.46s\n",
      "207:\tlearn: 0.3780501\ttotal: 383ms\tremaining: 1.46s\n",
      "208:\tlearn: 0.3773893\ttotal: 385ms\tremaining: 1.46s\n",
      "209:\tlearn: 0.3766736\ttotal: 386ms\tremaining: 1.45s\n",
      "210:\tlearn: 0.3762009\ttotal: 387ms\tremaining: 1.45s\n",
      "211:\tlearn: 0.3754611\ttotal: 388ms\tremaining: 1.44s\n",
      "212:\tlearn: 0.3750611\ttotal: 389ms\tremaining: 1.44s\n",
      "213:\tlearn: 0.3744271\ttotal: 390ms\tremaining: 1.43s\n",
      "214:\tlearn: 0.3738456\ttotal: 391ms\tremaining: 1.43s\n",
      "215:\tlearn: 0.3730705\ttotal: 393ms\tremaining: 1.42s\n",
      "216:\tlearn: 0.3725167\ttotal: 394ms\tremaining: 1.42s\n",
      "217:\tlearn: 0.3718862\ttotal: 395ms\tremaining: 1.42s\n",
      "218:\tlearn: 0.3714487\ttotal: 396ms\tremaining: 1.41s\n",
      "219:\tlearn: 0.3709871\ttotal: 397ms\tremaining: 1.41s\n",
      "220:\tlearn: 0.3707378\ttotal: 398ms\tremaining: 1.4s\n",
      "221:\tlearn: 0.3704158\ttotal: 399ms\tremaining: 1.4s\n",
      "222:\tlearn: 0.3699811\ttotal: 401ms\tremaining: 1.4s\n",
      "223:\tlearn: 0.3695598\ttotal: 402ms\tremaining: 1.39s\n",
      "224:\tlearn: 0.3689447\ttotal: 403ms\tremaining: 1.39s\n",
      "225:\tlearn: 0.3685225\ttotal: 404ms\tremaining: 1.38s\n",
      "226:\tlearn: 0.3680421\ttotal: 405ms\tremaining: 1.38s\n",
      "227:\tlearn: 0.3676042\ttotal: 407ms\tremaining: 1.38s\n",
      "228:\tlearn: 0.3671906\ttotal: 408ms\tremaining: 1.38s\n",
      "229:\tlearn: 0.3668212\ttotal: 410ms\tremaining: 1.37s\n",
      "230:\tlearn: 0.3663692\ttotal: 411ms\tremaining: 1.37s\n",
      "231:\tlearn: 0.3659467\ttotal: 412ms\tremaining: 1.36s\n",
      "232:\tlearn: 0.3655393\ttotal: 413ms\tremaining: 1.36s\n",
      "233:\tlearn: 0.3651726\ttotal: 414ms\tremaining: 1.35s\n",
      "234:\tlearn: 0.3647837\ttotal: 415ms\tremaining: 1.35s\n",
      "235:\tlearn: 0.3641776\ttotal: 416ms\tremaining: 1.35s\n",
      "236:\tlearn: 0.3638442\ttotal: 417ms\tremaining: 1.34s\n",
      "237:\tlearn: 0.3635195\ttotal: 418ms\tremaining: 1.34s\n",
      "238:\tlearn: 0.3631796\ttotal: 419ms\tremaining: 1.33s\n",
      "239:\tlearn: 0.3626676\ttotal: 420ms\tremaining: 1.33s\n",
      "240:\tlearn: 0.3622121\ttotal: 421ms\tremaining: 1.33s\n",
      "241:\tlearn: 0.3619048\ttotal: 422ms\tremaining: 1.32s\n",
      "242:\tlearn: 0.3615063\ttotal: 423ms\tremaining: 1.32s\n",
      "243:\tlearn: 0.3612841\ttotal: 424ms\tremaining: 1.31s\n",
      "244:\tlearn: 0.3609073\ttotal: 425ms\tremaining: 1.31s\n",
      "245:\tlearn: 0.3604078\ttotal: 427ms\tremaining: 1.31s\n",
      "246:\tlearn: 0.3599520\ttotal: 428ms\tremaining: 1.3s\n",
      "247:\tlearn: 0.3595811\ttotal: 430ms\tremaining: 1.3s\n",
      "248:\tlearn: 0.3591317\ttotal: 431ms\tremaining: 1.3s\n",
      "249:\tlearn: 0.3588479\ttotal: 432ms\tremaining: 1.29s\n",
      "250:\tlearn: 0.3583543\ttotal: 433ms\tremaining: 1.29s\n",
      "251:\tlearn: 0.3581791\ttotal: 434ms\tremaining: 1.29s\n",
      "252:\tlearn: 0.3578163\ttotal: 435ms\tremaining: 1.28s\n",
      "253:\tlearn: 0.3575379\ttotal: 436ms\tremaining: 1.28s\n",
      "254:\tlearn: 0.3572027\ttotal: 438ms\tremaining: 1.28s\n",
      "255:\tlearn: 0.3567982\ttotal: 439ms\tremaining: 1.27s\n",
      "256:\tlearn: 0.3562229\ttotal: 440ms\tremaining: 1.27s\n",
      "257:\tlearn: 0.3558689\ttotal: 441ms\tremaining: 1.27s\n",
      "258:\tlearn: 0.3551774\ttotal: 442ms\tremaining: 1.26s\n",
      "259:\tlearn: 0.3548640\ttotal: 444ms\tremaining: 1.26s\n",
      "260:\tlearn: 0.3544581\ttotal: 445ms\tremaining: 1.26s\n",
      "261:\tlearn: 0.3540613\ttotal: 478ms\tremaining: 1.35s\n",
      "262:\tlearn: 0.3538128\ttotal: 482ms\tremaining: 1.35s\n",
      "263:\tlearn: 0.3532543\ttotal: 483ms\tremaining: 1.35s\n",
      "264:\tlearn: 0.3528296\ttotal: 485ms\tremaining: 1.34s\n",
      "265:\tlearn: 0.3524755\ttotal: 486ms\tremaining: 1.34s\n",
      "266:\tlearn: 0.3521389\ttotal: 487ms\tremaining: 1.34s\n",
      "267:\tlearn: 0.3518051\ttotal: 488ms\tremaining: 1.33s\n",
      "268:\tlearn: 0.3513371\ttotal: 490ms\tremaining: 1.33s\n",
      "269:\tlearn: 0.3509465\ttotal: 492ms\tremaining: 1.33s\n",
      "270:\tlearn: 0.3506477\ttotal: 493ms\tremaining: 1.33s\n",
      "271:\tlearn: 0.3502686\ttotal: 494ms\tremaining: 1.32s\n",
      "272:\tlearn: 0.3499996\ttotal: 497ms\tremaining: 1.32s\n",
      "273:\tlearn: 0.3494654\ttotal: 498ms\tremaining: 1.32s\n",
      "274:\tlearn: 0.3490672\ttotal: 500ms\tremaining: 1.32s\n",
      "275:\tlearn: 0.3487140\ttotal: 501ms\tremaining: 1.31s\n",
      "276:\tlearn: 0.3483148\ttotal: 502ms\tremaining: 1.31s\n",
      "277:\tlearn: 0.3479376\ttotal: 504ms\tremaining: 1.31s\n",
      "278:\tlearn: 0.3476559\ttotal: 505ms\tremaining: 1.3s\n",
      "279:\tlearn: 0.3475056\ttotal: 505ms\tremaining: 1.3s\n",
      "280:\tlearn: 0.3470299\ttotal: 507ms\tremaining: 1.3s\n",
      "281:\tlearn: 0.3465974\ttotal: 508ms\tremaining: 1.29s\n",
      "282:\tlearn: 0.3457104\ttotal: 510ms\tremaining: 1.29s\n",
      "283:\tlearn: 0.3453699\ttotal: 511ms\tremaining: 1.29s\n",
      "284:\tlearn: 0.3449194\ttotal: 512ms\tremaining: 1.28s\n",
      "285:\tlearn: 0.3445781\ttotal: 513ms\tremaining: 1.28s\n",
      "286:\tlearn: 0.3442549\ttotal: 514ms\tremaining: 1.28s\n",
      "287:\tlearn: 0.3436732\ttotal: 515ms\tremaining: 1.27s\n",
      "288:\tlearn: 0.3431971\ttotal: 516ms\tremaining: 1.27s\n",
      "289:\tlearn: 0.3430385\ttotal: 518ms\tremaining: 1.27s\n",
      "290:\tlearn: 0.3426125\ttotal: 519ms\tremaining: 1.26s\n",
      "291:\tlearn: 0.3423901\ttotal: 521ms\tremaining: 1.26s\n",
      "292:\tlearn: 0.3418502\ttotal: 522ms\tremaining: 1.26s\n",
      "293:\tlearn: 0.3413629\ttotal: 523ms\tremaining: 1.25s\n",
      "294:\tlearn: 0.3410155\ttotal: 524ms\tremaining: 1.25s\n",
      "295:\tlearn: 0.3406270\ttotal: 525ms\tremaining: 1.25s\n",
      "296:\tlearn: 0.3403616\ttotal: 526ms\tremaining: 1.25s\n",
      "297:\tlearn: 0.3400305\ttotal: 527ms\tremaining: 1.24s\n",
      "298:\tlearn: 0.3397938\ttotal: 529ms\tremaining: 1.24s\n",
      "299:\tlearn: 0.3395162\ttotal: 531ms\tremaining: 1.24s\n",
      "300:\tlearn: 0.3391135\ttotal: 533ms\tremaining: 1.24s\n",
      "301:\tlearn: 0.3387590\ttotal: 534ms\tremaining: 1.23s\n",
      "302:\tlearn: 0.3383585\ttotal: 536ms\tremaining: 1.23s\n",
      "303:\tlearn: 0.3379814\ttotal: 537ms\tremaining: 1.23s\n",
      "304:\tlearn: 0.3375277\ttotal: 540ms\tremaining: 1.23s\n",
      "305:\tlearn: 0.3372477\ttotal: 541ms\tremaining: 1.23s\n",
      "306:\tlearn: 0.3369210\ttotal: 543ms\tremaining: 1.23s\n",
      "307:\tlearn: 0.3367762\ttotal: 544ms\tremaining: 1.22s\n",
      "308:\tlearn: 0.3363929\ttotal: 546ms\tremaining: 1.22s\n",
      "309:\tlearn: 0.3361404\ttotal: 548ms\tremaining: 1.22s\n",
      "310:\tlearn: 0.3358016\ttotal: 550ms\tremaining: 1.22s\n",
      "311:\tlearn: 0.3354371\ttotal: 552ms\tremaining: 1.22s\n",
      "312:\tlearn: 0.3351281\ttotal: 553ms\tremaining: 1.21s\n",
      "313:\tlearn: 0.3349342\ttotal: 554ms\tremaining: 1.21s\n",
      "314:\tlearn: 0.3345681\ttotal: 555ms\tremaining: 1.21s\n",
      "315:\tlearn: 0.3341835\ttotal: 556ms\tremaining: 1.2s\n",
      "316:\tlearn: 0.3339848\ttotal: 558ms\tremaining: 1.2s\n",
      "317:\tlearn: 0.3334631\ttotal: 559ms\tremaining: 1.2s\n",
      "318:\tlearn: 0.3333090\ttotal: 561ms\tremaining: 1.2s\n",
      "319:\tlearn: 0.3331853\ttotal: 563ms\tremaining: 1.2s\n",
      "320:\tlearn: 0.3329144\ttotal: 564ms\tremaining: 1.19s\n",
      "321:\tlearn: 0.3325655\ttotal: 565ms\tremaining: 1.19s\n",
      "322:\tlearn: 0.3323911\ttotal: 567ms\tremaining: 1.19s\n",
      "323:\tlearn: 0.3321008\ttotal: 569ms\tremaining: 1.19s\n",
      "324:\tlearn: 0.3318429\ttotal: 570ms\tremaining: 1.18s\n",
      "325:\tlearn: 0.3313364\ttotal: 571ms\tremaining: 1.18s\n",
      "326:\tlearn: 0.3311141\ttotal: 572ms\tremaining: 1.18s\n",
      "327:\tlearn: 0.3306946\ttotal: 573ms\tremaining: 1.17s\n",
      "328:\tlearn: 0.3303195\ttotal: 574ms\tremaining: 1.17s\n",
      "329:\tlearn: 0.3299492\ttotal: 575ms\tremaining: 1.17s\n",
      "330:\tlearn: 0.3296295\ttotal: 578ms\tremaining: 1.17s\n",
      "331:\tlearn: 0.3292299\ttotal: 579ms\tremaining: 1.16s\n",
      "332:\tlearn: 0.3288012\ttotal: 580ms\tremaining: 1.16s\n",
      "333:\tlearn: 0.3284230\ttotal: 581ms\tremaining: 1.16s\n",
      "334:\tlearn: 0.3281356\ttotal: 582ms\tremaining: 1.16s\n",
      "335:\tlearn: 0.3278105\ttotal: 583ms\tremaining: 1.15s\n",
      "336:\tlearn: 0.3275766\ttotal: 584ms\tremaining: 1.15s\n",
      "337:\tlearn: 0.3272361\ttotal: 586ms\tremaining: 1.15s\n",
      "338:\tlearn: 0.3271448\ttotal: 588ms\tremaining: 1.15s\n",
      "339:\tlearn: 0.3270027\ttotal: 588ms\tremaining: 1.14s\n",
      "340:\tlearn: 0.3264515\ttotal: 590ms\tremaining: 1.14s\n",
      "341:\tlearn: 0.3261568\ttotal: 591ms\tremaining: 1.14s\n",
      "342:\tlearn: 0.3259076\ttotal: 592ms\tremaining: 1.13s\n",
      "343:\tlearn: 0.3257816\ttotal: 593ms\tremaining: 1.13s\n",
      "344:\tlearn: 0.3253372\ttotal: 594ms\tremaining: 1.13s\n",
      "345:\tlearn: 0.3249546\ttotal: 596ms\tremaining: 1.13s\n",
      "346:\tlearn: 0.3247155\ttotal: 598ms\tremaining: 1.13s\n",
      "347:\tlearn: 0.3242784\ttotal: 599ms\tremaining: 1.12s\n",
      "348:\tlearn: 0.3240593\ttotal: 600ms\tremaining: 1.12s\n",
      "349:\tlearn: 0.3236125\ttotal: 601ms\tremaining: 1.12s\n",
      "350:\tlearn: 0.3233139\ttotal: 603ms\tremaining: 1.11s\n",
      "351:\tlearn: 0.3230584\ttotal: 604ms\tremaining: 1.11s\n",
      "352:\tlearn: 0.3227589\ttotal: 605ms\tremaining: 1.11s\n",
      "353:\tlearn: 0.3226484\ttotal: 606ms\tremaining: 1.1s\n",
      "354:\tlearn: 0.3224708\ttotal: 608ms\tremaining: 1.1s\n",
      "355:\tlearn: 0.3222481\ttotal: 609ms\tremaining: 1.1s\n",
      "356:\tlearn: 0.3220751\ttotal: 610ms\tremaining: 1.1s\n",
      "357:\tlearn: 0.3217743\ttotal: 611ms\tremaining: 1.09s\n",
      "358:\tlearn: 0.3215696\ttotal: 612ms\tremaining: 1.09s\n",
      "359:\tlearn: 0.3213855\ttotal: 614ms\tremaining: 1.09s\n",
      "360:\tlearn: 0.3210040\ttotal: 615ms\tremaining: 1.09s\n",
      "361:\tlearn: 0.3206377\ttotal: 616ms\tremaining: 1.08s\n",
      "362:\tlearn: 0.3203844\ttotal: 618ms\tremaining: 1.08s\n",
      "363:\tlearn: 0.3199615\ttotal: 619ms\tremaining: 1.08s\n",
      "364:\tlearn: 0.3196000\ttotal: 620ms\tremaining: 1.08s\n",
      "365:\tlearn: 0.3192366\ttotal: 621ms\tremaining: 1.08s\n",
      "366:\tlearn: 0.3189433\ttotal: 622ms\tremaining: 1.07s\n",
      "367:\tlearn: 0.3187596\ttotal: 624ms\tremaining: 1.07s\n",
      "368:\tlearn: 0.3183334\ttotal: 625ms\tremaining: 1.07s\n",
      "369:\tlearn: 0.3181075\ttotal: 626ms\tremaining: 1.06s\n",
      "370:\tlearn: 0.3179868\ttotal: 628ms\tremaining: 1.06s\n",
      "371:\tlearn: 0.3177287\ttotal: 630ms\tremaining: 1.06s\n",
      "372:\tlearn: 0.3174213\ttotal: 631ms\tremaining: 1.06s\n",
      "373:\tlearn: 0.3173105\ttotal: 632ms\tremaining: 1.06s\n",
      "374:\tlearn: 0.3169930\ttotal: 633ms\tremaining: 1.05s\n",
      "375:\tlearn: 0.3167770\ttotal: 634ms\tremaining: 1.05s\n",
      "376:\tlearn: 0.3164586\ttotal: 635ms\tremaining: 1.05s\n",
      "377:\tlearn: 0.3162964\ttotal: 636ms\tremaining: 1.05s\n",
      "378:\tlearn: 0.3157005\ttotal: 638ms\tremaining: 1.04s\n",
      "379:\tlearn: 0.3154507\ttotal: 639ms\tremaining: 1.04s\n",
      "380:\tlearn: 0.3150930\ttotal: 640ms\tremaining: 1.04s\n",
      "381:\tlearn: 0.3147706\ttotal: 641ms\tremaining: 1.04s\n",
      "382:\tlearn: 0.3143755\ttotal: 642ms\tremaining: 1.03s\n",
      "383:\tlearn: 0.3139819\ttotal: 644ms\tremaining: 1.03s\n",
      "384:\tlearn: 0.3136702\ttotal: 645ms\tremaining: 1.03s\n",
      "385:\tlearn: 0.3134343\ttotal: 646ms\tremaining: 1.03s\n",
      "386:\tlearn: 0.3133741\ttotal: 647ms\tremaining: 1.02s\n",
      "387:\tlearn: 0.3130709\ttotal: 649ms\tremaining: 1.02s\n",
      "388:\tlearn: 0.3128360\ttotal: 650ms\tremaining: 1.02s\n",
      "389:\tlearn: 0.3124279\ttotal: 651ms\tremaining: 1.02s\n",
      "390:\tlearn: 0.3121571\ttotal: 652ms\tremaining: 1.01s\n",
      "391:\tlearn: 0.3118727\ttotal: 653ms\tremaining: 1.01s\n",
      "392:\tlearn: 0.3117433\ttotal: 654ms\tremaining: 1.01s\n",
      "393:\tlearn: 0.3113093\ttotal: 655ms\tremaining: 1.01s\n",
      "394:\tlearn: 0.3111498\ttotal: 657ms\tremaining: 1s\n",
      "395:\tlearn: 0.3108884\ttotal: 659ms\tremaining: 1s\n",
      "396:\tlearn: 0.3106935\ttotal: 660ms\tremaining: 1s\n",
      "397:\tlearn: 0.3104544\ttotal: 661ms\tremaining: 1000ms\n",
      "398:\tlearn: 0.3100203\ttotal: 662ms\tremaining: 998ms\n",
      "399:\tlearn: 0.3097922\ttotal: 663ms\tremaining: 995ms\n",
      "400:\tlearn: 0.3093006\ttotal: 664ms\tremaining: 992ms\n",
      "401:\tlearn: 0.3090082\ttotal: 666ms\tremaining: 990ms\n",
      "402:\tlearn: 0.3086350\ttotal: 667ms\tremaining: 988ms\n",
      "403:\tlearn: 0.3085525\ttotal: 669ms\tremaining: 986ms\n",
      "404:\tlearn: 0.3082926\ttotal: 670ms\tremaining: 984ms\n",
      "405:\tlearn: 0.3079534\ttotal: 671ms\tremaining: 981ms\n",
      "406:\tlearn: 0.3077615\ttotal: 672ms\tremaining: 979ms\n",
      "407:\tlearn: 0.3076204\ttotal: 673ms\tremaining: 977ms\n",
      "408:\tlearn: 0.3073705\ttotal: 674ms\tremaining: 974ms\n",
      "409:\tlearn: 0.3072051\ttotal: 675ms\tremaining: 972ms\n",
      "410:\tlearn: 0.3069296\ttotal: 676ms\tremaining: 969ms\n",
      "411:\tlearn: 0.3067305\ttotal: 678ms\tremaining: 968ms\n",
      "412:\tlearn: 0.3064667\ttotal: 680ms\tremaining: 966ms\n",
      "413:\tlearn: 0.3062177\ttotal: 681ms\tremaining: 964ms\n",
      "414:\tlearn: 0.3059366\ttotal: 682ms\tremaining: 961ms\n",
      "415:\tlearn: 0.3057826\ttotal: 683ms\tremaining: 959ms\n",
      "416:\tlearn: 0.3053670\ttotal: 684ms\tremaining: 956ms\n",
      "417:\tlearn: 0.3052102\ttotal: 685ms\tremaining: 954ms\n",
      "418:\tlearn: 0.3048241\ttotal: 686ms\tremaining: 951ms\n",
      "419:\tlearn: 0.3043941\ttotal: 687ms\tremaining: 949ms\n",
      "420:\tlearn: 0.3042906\ttotal: 689ms\tremaining: 948ms\n",
      "421:\tlearn: 0.3042106\ttotal: 690ms\tremaining: 946ms\n",
      "422:\tlearn: 0.3039127\ttotal: 692ms\tremaining: 943ms\n",
      "423:\tlearn: 0.3036822\ttotal: 693ms\tremaining: 941ms\n",
      "424:\tlearn: 0.3032348\ttotal: 694ms\tremaining: 939ms\n",
      "425:\tlearn: 0.3030739\ttotal: 695ms\tremaining: 936ms\n",
      "426:\tlearn: 0.3027756\ttotal: 696ms\tremaining: 934ms\n",
      "427:\tlearn: 0.3025508\ttotal: 697ms\tremaining: 932ms\n",
      "428:\tlearn: 0.3022920\ttotal: 700ms\tremaining: 931ms\n",
      "429:\tlearn: 0.3020336\ttotal: 701ms\tremaining: 929ms\n",
      "430:\tlearn: 0.3018311\ttotal: 702ms\tremaining: 927ms\n",
      "431:\tlearn: 0.3016490\ttotal: 703ms\tremaining: 924ms\n",
      "432:\tlearn: 0.3014655\ttotal: 704ms\tremaining: 922ms\n",
      "433:\tlearn: 0.3011402\ttotal: 705ms\tremaining: 919ms\n",
      "434:\tlearn: 0.3008430\ttotal: 706ms\tremaining: 917ms\n",
      "435:\tlearn: 0.3005948\ttotal: 712ms\tremaining: 921ms\n",
      "436:\tlearn: 0.3003246\ttotal: 713ms\tremaining: 919ms\n",
      "437:\tlearn: 0.2998332\ttotal: 717ms\tremaining: 920ms\n",
      "438:\tlearn: 0.2995628\ttotal: 721ms\tremaining: 922ms\n",
      "439:\tlearn: 0.2993476\ttotal: 736ms\tremaining: 937ms\n",
      "440:\tlearn: 0.2992118\ttotal: 737ms\tremaining: 935ms\n",
      "441:\tlearn: 0.2989786\ttotal: 738ms\tremaining: 932ms\n",
      "442:\tlearn: 0.2987332\ttotal: 740ms\tremaining: 930ms\n",
      "443:\tlearn: 0.2983521\ttotal: 742ms\tremaining: 929ms\n",
      "444:\tlearn: 0.2981144\ttotal: 743ms\tremaining: 927ms\n",
      "445:\tlearn: 0.2979409\ttotal: 745ms\tremaining: 925ms\n",
      "446:\tlearn: 0.2976007\ttotal: 746ms\tremaining: 923ms\n",
      "447:\tlearn: 0.2974376\ttotal: 747ms\tremaining: 921ms\n",
      "448:\tlearn: 0.2971482\ttotal: 749ms\tremaining: 919ms\n",
      "449:\tlearn: 0.2970532\ttotal: 750ms\tremaining: 917ms\n",
      "450:\tlearn: 0.2968756\ttotal: 751ms\tremaining: 915ms\n",
      "451:\tlearn: 0.2966521\ttotal: 752ms\tremaining: 912ms\n",
      "452:\tlearn: 0.2963392\ttotal: 754ms\tremaining: 911ms\n",
      "453:\tlearn: 0.2962526\ttotal: 756ms\tremaining: 909ms\n",
      "454:\tlearn: 0.2959383\ttotal: 758ms\tremaining: 908ms\n",
      "455:\tlearn: 0.2957414\ttotal: 759ms\tremaining: 906ms\n",
      "456:\tlearn: 0.2954628\ttotal: 760ms\tremaining: 903ms\n",
      "457:\tlearn: 0.2951344\ttotal: 762ms\tremaining: 901ms\n",
      "458:\tlearn: 0.2949065\ttotal: 763ms\tremaining: 899ms\n",
      "459:\tlearn: 0.2948312\ttotal: 764ms\tremaining: 897ms\n",
      "460:\tlearn: 0.2946606\ttotal: 766ms\tremaining: 895ms\n",
      "461:\tlearn: 0.2944450\ttotal: 767ms\tremaining: 893ms\n",
      "462:\tlearn: 0.2942192\ttotal: 768ms\tremaining: 891ms\n",
      "463:\tlearn: 0.2940629\ttotal: 770ms\tremaining: 889ms\n",
      "464:\tlearn: 0.2936862\ttotal: 771ms\tremaining: 887ms\n",
      "465:\tlearn: 0.2934564\ttotal: 773ms\tremaining: 885ms\n",
      "466:\tlearn: 0.2931260\ttotal: 774ms\tremaining: 883ms\n",
      "467:\tlearn: 0.2927964\ttotal: 775ms\tremaining: 881ms\n",
      "468:\tlearn: 0.2926018\ttotal: 777ms\tremaining: 879ms\n",
      "469:\tlearn: 0.2923854\ttotal: 778ms\tremaining: 877ms\n",
      "470:\tlearn: 0.2921834\ttotal: 779ms\tremaining: 875ms\n",
      "471:\tlearn: 0.2919782\ttotal: 781ms\tremaining: 873ms\n",
      "472:\tlearn: 0.2917113\ttotal: 782ms\tremaining: 872ms\n",
      "473:\tlearn: 0.2912696\ttotal: 784ms\tremaining: 870ms\n",
      "474:\tlearn: 0.2910249\ttotal: 785ms\tremaining: 867ms\n",
      "475:\tlearn: 0.2907673\ttotal: 786ms\tremaining: 865ms\n",
      "476:\tlearn: 0.2904237\ttotal: 787ms\tremaining: 863ms\n",
      "477:\tlearn: 0.2902551\ttotal: 789ms\tremaining: 861ms\n",
      "478:\tlearn: 0.2899177\ttotal: 790ms\tremaining: 860ms\n",
      "479:\tlearn: 0.2897175\ttotal: 792ms\tremaining: 858ms\n",
      "480:\tlearn: 0.2896110\ttotal: 793ms\tremaining: 856ms\n",
      "481:\tlearn: 0.2892980\ttotal: 794ms\tremaining: 854ms\n",
      "482:\tlearn: 0.2889870\ttotal: 796ms\tremaining: 852ms\n",
      "483:\tlearn: 0.2887236\ttotal: 797ms\tremaining: 850ms\n",
      "484:\tlearn: 0.2885040\ttotal: 800ms\tremaining: 849ms\n",
      "485:\tlearn: 0.2881886\ttotal: 801ms\tremaining: 848ms\n",
      "486:\tlearn: 0.2880321\ttotal: 803ms\tremaining: 845ms\n",
      "487:\tlearn: 0.2877498\ttotal: 804ms\tremaining: 843ms\n",
      "488:\tlearn: 0.2874975\ttotal: 805ms\tremaining: 841ms\n",
      "489:\tlearn: 0.2870005\ttotal: 807ms\tremaining: 840ms\n",
      "490:\tlearn: 0.2867773\ttotal: 809ms\tremaining: 839ms\n",
      "491:\tlearn: 0.2866602\ttotal: 810ms\tremaining: 837ms\n",
      "492:\tlearn: 0.2864573\ttotal: 812ms\tremaining: 835ms\n",
      "493:\tlearn: 0.2862369\ttotal: 813ms\tremaining: 833ms\n",
      "494:\tlearn: 0.2860048\ttotal: 815ms\tremaining: 831ms\n",
      "495:\tlearn: 0.2858847\ttotal: 817ms\tremaining: 830ms\n",
      "496:\tlearn: 0.2856706\ttotal: 819ms\tremaining: 829ms\n",
      "497:\tlearn: 0.2853657\ttotal: 820ms\tremaining: 827ms\n",
      "498:\tlearn: 0.2851930\ttotal: 822ms\tremaining: 825ms\n",
      "499:\tlearn: 0.2848883\ttotal: 823ms\tremaining: 823ms\n",
      "500:\tlearn: 0.2847668\ttotal: 824ms\tremaining: 821ms\n",
      "501:\tlearn: 0.2846362\ttotal: 826ms\tremaining: 820ms\n",
      "502:\tlearn: 0.2843093\ttotal: 828ms\tremaining: 818ms\n",
      "503:\tlearn: 0.2841273\ttotal: 830ms\tremaining: 817ms\n",
      "504:\tlearn: 0.2839508\ttotal: 831ms\tremaining: 815ms\n",
      "505:\tlearn: 0.2838791\ttotal: 833ms\tremaining: 813ms\n",
      "506:\tlearn: 0.2835382\ttotal: 834ms\tremaining: 811ms\n",
      "507:\tlearn: 0.2832336\ttotal: 837ms\tremaining: 810ms\n",
      "508:\tlearn: 0.2830058\ttotal: 838ms\tremaining: 808ms\n",
      "509:\tlearn: 0.2828549\ttotal: 839ms\tremaining: 806ms\n",
      "510:\tlearn: 0.2826536\ttotal: 841ms\tremaining: 804ms\n",
      "511:\tlearn: 0.2821348\ttotal: 842ms\tremaining: 803ms\n",
      "512:\tlearn: 0.2817643\ttotal: 843ms\tremaining: 801ms\n",
      "513:\tlearn: 0.2817056\ttotal: 844ms\tremaining: 798ms\n",
      "514:\tlearn: 0.2815301\ttotal: 847ms\tremaining: 798ms\n",
      "515:\tlearn: 0.2812127\ttotal: 849ms\tremaining: 796ms\n",
      "516:\tlearn: 0.2811157\ttotal: 850ms\tremaining: 794ms\n",
      "517:\tlearn: 0.2810220\ttotal: 851ms\tremaining: 792ms\n",
      "518:\tlearn: 0.2808123\ttotal: 853ms\tremaining: 791ms\n",
      "519:\tlearn: 0.2804794\ttotal: 855ms\tremaining: 789ms\n",
      "520:\tlearn: 0.2802338\ttotal: 857ms\tremaining: 788ms\n",
      "521:\tlearn: 0.2800138\ttotal: 858ms\tremaining: 786ms\n",
      "522:\tlearn: 0.2798458\ttotal: 861ms\tremaining: 785ms\n",
      "523:\tlearn: 0.2795009\ttotal: 862ms\tremaining: 783ms\n",
      "524:\tlearn: 0.2792134\ttotal: 865ms\tremaining: 782ms\n",
      "525:\tlearn: 0.2789277\ttotal: 866ms\tremaining: 781ms\n",
      "526:\tlearn: 0.2787092\ttotal: 869ms\tremaining: 780ms\n",
      "527:\tlearn: 0.2785171\ttotal: 871ms\tremaining: 778ms\n",
      "528:\tlearn: 0.2782431\ttotal: 873ms\tremaining: 778ms\n",
      "529:\tlearn: 0.2780792\ttotal: 875ms\tremaining: 776ms\n",
      "530:\tlearn: 0.2778468\ttotal: 876ms\tremaining: 774ms\n",
      "531:\tlearn: 0.2776214\ttotal: 878ms\tremaining: 772ms\n",
      "532:\tlearn: 0.2775225\ttotal: 879ms\tremaining: 770ms\n",
      "533:\tlearn: 0.2772761\ttotal: 880ms\tremaining: 768ms\n",
      "534:\tlearn: 0.2770526\ttotal: 881ms\tremaining: 766ms\n",
      "535:\tlearn: 0.2768688\ttotal: 882ms\tremaining: 764ms\n",
      "536:\tlearn: 0.2767198\ttotal: 885ms\tremaining: 763ms\n",
      "537:\tlearn: 0.2763635\ttotal: 887ms\tremaining: 762ms\n",
      "538:\tlearn: 0.2761839\ttotal: 889ms\tremaining: 760ms\n",
      "539:\tlearn: 0.2760329\ttotal: 890ms\tremaining: 759ms\n",
      "540:\tlearn: 0.2758814\ttotal: 892ms\tremaining: 757ms\n",
      "541:\tlearn: 0.2756554\ttotal: 894ms\tremaining: 756ms\n",
      "542:\tlearn: 0.2753469\ttotal: 896ms\tremaining: 754ms\n",
      "543:\tlearn: 0.2751437\ttotal: 897ms\tremaining: 752ms\n",
      "544:\tlearn: 0.2749836\ttotal: 899ms\tremaining: 750ms\n",
      "545:\tlearn: 0.2748715\ttotal: 900ms\tremaining: 749ms\n",
      "546:\tlearn: 0.2748156\ttotal: 903ms\tremaining: 748ms\n",
      "547:\tlearn: 0.2746396\ttotal: 904ms\tremaining: 746ms\n",
      "548:\tlearn: 0.2742751\ttotal: 906ms\tremaining: 744ms\n",
      "549:\tlearn: 0.2740222\ttotal: 908ms\tremaining: 743ms\n",
      "550:\tlearn: 0.2737643\ttotal: 910ms\tremaining: 742ms\n",
      "551:\tlearn: 0.2735570\ttotal: 912ms\tremaining: 740ms\n",
      "552:\tlearn: 0.2732473\ttotal: 914ms\tremaining: 739ms\n",
      "553:\tlearn: 0.2730397\ttotal: 915ms\tremaining: 737ms\n",
      "554:\tlearn: 0.2726986\ttotal: 916ms\tremaining: 734ms\n",
      "555:\tlearn: 0.2726207\ttotal: 917ms\tremaining: 733ms\n",
      "556:\tlearn: 0.2724192\ttotal: 918ms\tremaining: 731ms\n",
      "557:\tlearn: 0.2722507\ttotal: 920ms\tremaining: 728ms\n",
      "558:\tlearn: 0.2718974\ttotal: 922ms\tremaining: 727ms\n",
      "559:\tlearn: 0.2717007\ttotal: 923ms\tremaining: 725ms\n",
      "560:\tlearn: 0.2714049\ttotal: 924ms\tremaining: 723ms\n",
      "561:\tlearn: 0.2712418\ttotal: 925ms\tremaining: 721ms\n",
      "562:\tlearn: 0.2709507\ttotal: 927ms\tremaining: 719ms\n",
      "563:\tlearn: 0.2707628\ttotal: 928ms\tremaining: 718ms\n",
      "564:\tlearn: 0.2705255\ttotal: 930ms\tremaining: 716ms\n",
      "565:\tlearn: 0.2703786\ttotal: 931ms\tremaining: 714ms\n",
      "566:\tlearn: 0.2702270\ttotal: 933ms\tremaining: 712ms\n",
      "567:\tlearn: 0.2699564\ttotal: 934ms\tremaining: 710ms\n",
      "568:\tlearn: 0.2697149\ttotal: 935ms\tremaining: 708ms\n",
      "569:\tlearn: 0.2695101\ttotal: 936ms\tremaining: 706ms\n",
      "570:\tlearn: 0.2693226\ttotal: 937ms\tremaining: 704ms\n",
      "571:\tlearn: 0.2692401\ttotal: 938ms\tremaining: 702ms\n",
      "572:\tlearn: 0.2690312\ttotal: 940ms\tremaining: 700ms\n",
      "573:\tlearn: 0.2688283\ttotal: 942ms\tremaining: 699ms\n",
      "574:\tlearn: 0.2685991\ttotal: 943ms\tremaining: 697ms\n",
      "575:\tlearn: 0.2684519\ttotal: 944ms\tremaining: 695ms\n",
      "576:\tlearn: 0.2681852\ttotal: 946ms\tremaining: 693ms\n",
      "577:\tlearn: 0.2679966\ttotal: 947ms\tremaining: 691ms\n",
      "578:\tlearn: 0.2678214\ttotal: 948ms\tremaining: 689ms\n",
      "579:\tlearn: 0.2675508\ttotal: 949ms\tremaining: 687ms\n",
      "580:\tlearn: 0.2672992\ttotal: 950ms\tremaining: 685ms\n",
      "581:\tlearn: 0.2671163\ttotal: 953ms\tremaining: 684ms\n",
      "582:\tlearn: 0.2669239\ttotal: 954ms\tremaining: 682ms\n",
      "583:\tlearn: 0.2667451\ttotal: 955ms\tremaining: 680ms\n",
      "584:\tlearn: 0.2665639\ttotal: 956ms\tremaining: 678ms\n",
      "585:\tlearn: 0.2662928\ttotal: 957ms\tremaining: 676ms\n",
      "586:\tlearn: 0.2659768\ttotal: 958ms\tremaining: 674ms\n",
      "587:\tlearn: 0.2657706\ttotal: 959ms\tremaining: 672ms\n",
      "588:\tlearn: 0.2656701\ttotal: 960ms\tremaining: 670ms\n",
      "589:\tlearn: 0.2653913\ttotal: 962ms\tremaining: 669ms\n",
      "590:\tlearn: 0.2652461\ttotal: 964ms\tremaining: 667ms\n",
      "591:\tlearn: 0.2650850\ttotal: 965ms\tremaining: 665ms\n",
      "592:\tlearn: 0.2649887\ttotal: 966ms\tremaining: 663ms\n",
      "593:\tlearn: 0.2649084\ttotal: 967ms\tremaining: 661ms\n",
      "594:\tlearn: 0.2647971\ttotal: 968ms\tremaining: 659ms\n",
      "595:\tlearn: 0.2646760\ttotal: 969ms\tremaining: 657ms\n",
      "596:\tlearn: 0.2643129\ttotal: 970ms\tremaining: 655ms\n",
      "597:\tlearn: 0.2641118\ttotal: 971ms\tremaining: 653ms\n",
      "598:\tlearn: 0.2638480\ttotal: 974ms\tremaining: 652ms\n",
      "599:\tlearn: 0.2636756\ttotal: 975ms\tremaining: 650ms\n",
      "600:\tlearn: 0.2634917\ttotal: 976ms\tremaining: 648ms\n",
      "601:\tlearn: 0.2632788\ttotal: 977ms\tremaining: 646ms\n",
      "602:\tlearn: 0.2630358\ttotal: 978ms\tremaining: 644ms\n",
      "603:\tlearn: 0.2627907\ttotal: 979ms\tremaining: 642ms\n",
      "604:\tlearn: 0.2626487\ttotal: 980ms\tremaining: 640ms\n",
      "605:\tlearn: 0.2623086\ttotal: 981ms\tremaining: 638ms\n",
      "606:\tlearn: 0.2622148\ttotal: 983ms\tremaining: 636ms\n",
      "607:\tlearn: 0.2619977\ttotal: 984ms\tremaining: 635ms\n",
      "608:\tlearn: 0.2618683\ttotal: 985ms\tremaining: 633ms\n",
      "609:\tlearn: 0.2617262\ttotal: 986ms\tremaining: 631ms\n",
      "610:\tlearn: 0.2614272\ttotal: 987ms\tremaining: 629ms\n",
      "611:\tlearn: 0.2612679\ttotal: 989ms\tremaining: 627ms\n",
      "612:\tlearn: 0.2610038\ttotal: 990ms\tremaining: 625ms\n",
      "613:\tlearn: 0.2607667\ttotal: 991ms\tremaining: 623ms\n",
      "614:\tlearn: 0.2605145\ttotal: 993ms\tremaining: 621ms\n",
      "615:\tlearn: 0.2602892\ttotal: 994ms\tremaining: 620ms\n",
      "616:\tlearn: 0.2599984\ttotal: 995ms\tremaining: 618ms\n",
      "617:\tlearn: 0.2598193\ttotal: 996ms\tremaining: 616ms\n",
      "618:\tlearn: 0.2596203\ttotal: 997ms\tremaining: 614ms\n",
      "619:\tlearn: 0.2594357\ttotal: 998ms\tremaining: 612ms\n",
      "620:\tlearn: 0.2590858\ttotal: 999ms\tremaining: 610ms\n",
      "621:\tlearn: 0.2589773\ttotal: 1s\tremaining: 608ms\n",
      "622:\tlearn: 0.2585929\ttotal: 1s\tremaining: 607ms\n",
      "623:\tlearn: 0.2581706\ttotal: 1s\tremaining: 605ms\n",
      "624:\tlearn: 0.2578699\ttotal: 1s\tremaining: 603ms\n",
      "625:\tlearn: 0.2576291\ttotal: 1s\tremaining: 601ms\n",
      "626:\tlearn: 0.2574157\ttotal: 1.01s\tremaining: 599ms\n",
      "627:\tlearn: 0.2569596\ttotal: 1.01s\tremaining: 597ms\n",
      "628:\tlearn: 0.2566992\ttotal: 1.01s\tremaining: 595ms\n",
      "629:\tlearn: 0.2564773\ttotal: 1.01s\tremaining: 593ms\n",
      "630:\tlearn: 0.2563904\ttotal: 1.01s\tremaining: 592ms\n",
      "631:\tlearn: 0.2562541\ttotal: 1.01s\tremaining: 590ms\n",
      "632:\tlearn: 0.2560905\ttotal: 1.01s\tremaining: 588ms\n",
      "633:\tlearn: 0.2559196\ttotal: 1.01s\tremaining: 586ms\n",
      "634:\tlearn: 0.2556727\ttotal: 1.01s\tremaining: 584ms\n",
      "635:\tlearn: 0.2554610\ttotal: 1.02s\tremaining: 582ms\n",
      "636:\tlearn: 0.2553226\ttotal: 1.02s\tremaining: 580ms\n",
      "637:\tlearn: 0.2551740\ttotal: 1.02s\tremaining: 578ms\n",
      "638:\tlearn: 0.2549789\ttotal: 1.02s\tremaining: 576ms\n",
      "639:\tlearn: 0.2547121\ttotal: 1.02s\tremaining: 575ms\n",
      "640:\tlearn: 0.2546132\ttotal: 1.02s\tremaining: 574ms\n",
      "641:\tlearn: 0.2543087\ttotal: 1.02s\tremaining: 572ms\n",
      "642:\tlearn: 0.2541042\ttotal: 1.03s\tremaining: 570ms\n",
      "643:\tlearn: 0.2538693\ttotal: 1.03s\tremaining: 568ms\n",
      "644:\tlearn: 0.2535917\ttotal: 1.03s\tremaining: 566ms\n",
      "645:\tlearn: 0.2533902\ttotal: 1.03s\tremaining: 564ms\n",
      "646:\tlearn: 0.2532326\ttotal: 1.03s\tremaining: 562ms\n",
      "647:\tlearn: 0.2530459\ttotal: 1.03s\tremaining: 561ms\n",
      "648:\tlearn: 0.2528119\ttotal: 1.03s\tremaining: 559ms\n",
      "649:\tlearn: 0.2525547\ttotal: 1.03s\tremaining: 557ms\n",
      "650:\tlearn: 0.2524567\ttotal: 1.04s\tremaining: 556ms\n",
      "651:\tlearn: 0.2521524\ttotal: 1.04s\tremaining: 554ms\n",
      "652:\tlearn: 0.2518746\ttotal: 1.04s\tremaining: 552ms\n",
      "653:\tlearn: 0.2515442\ttotal: 1.04s\tremaining: 550ms\n",
      "654:\tlearn: 0.2513742\ttotal: 1.04s\tremaining: 548ms\n",
      "655:\tlearn: 0.2511759\ttotal: 1.04s\tremaining: 546ms\n",
      "656:\tlearn: 0.2508741\ttotal: 1.04s\tremaining: 545ms\n",
      "657:\tlearn: 0.2507077\ttotal: 1.04s\tremaining: 543ms\n",
      "658:\tlearn: 0.2505781\ttotal: 1.04s\tremaining: 541ms\n",
      "659:\tlearn: 0.2505100\ttotal: 1.05s\tremaining: 539ms\n",
      "660:\tlearn: 0.2501853\ttotal: 1.05s\tremaining: 537ms\n",
      "661:\tlearn: 0.2500339\ttotal: 1.05s\tremaining: 535ms\n",
      "662:\tlearn: 0.2498808\ttotal: 1.05s\tremaining: 533ms\n",
      "663:\tlearn: 0.2496646\ttotal: 1.05s\tremaining: 532ms\n",
      "664:\tlearn: 0.2493293\ttotal: 1.05s\tremaining: 530ms\n",
      "665:\tlearn: 0.2491573\ttotal: 1.05s\tremaining: 528ms\n",
      "666:\tlearn: 0.2489233\ttotal: 1.05s\tremaining: 526ms\n",
      "667:\tlearn: 0.2488568\ttotal: 1.05s\tremaining: 524ms\n",
      "668:\tlearn: 0.2486144\ttotal: 1.06s\tremaining: 523ms\n",
      "669:\tlearn: 0.2483773\ttotal: 1.06s\tremaining: 521ms\n",
      "670:\tlearn: 0.2482201\ttotal: 1.06s\tremaining: 519ms\n",
      "671:\tlearn: 0.2481445\ttotal: 1.06s\tremaining: 517ms\n",
      "672:\tlearn: 0.2480453\ttotal: 1.06s\tremaining: 515ms\n",
      "673:\tlearn: 0.2478585\ttotal: 1.06s\tremaining: 513ms\n",
      "674:\tlearn: 0.2477204\ttotal: 1.06s\tremaining: 512ms\n",
      "675:\tlearn: 0.2476415\ttotal: 1.06s\tremaining: 510ms\n",
      "676:\tlearn: 0.2473815\ttotal: 1.07s\tremaining: 509ms\n",
      "677:\tlearn: 0.2471798\ttotal: 1.07s\tremaining: 507ms\n",
      "678:\tlearn: 0.2470178\ttotal: 1.07s\tremaining: 505ms\n",
      "679:\tlearn: 0.2468595\ttotal: 1.07s\tremaining: 504ms\n",
      "680:\tlearn: 0.2465018\ttotal: 1.07s\tremaining: 502ms\n",
      "681:\tlearn: 0.2463322\ttotal: 1.07s\tremaining: 500ms\n",
      "682:\tlearn: 0.2461881\ttotal: 1.07s\tremaining: 499ms\n",
      "683:\tlearn: 0.2460320\ttotal: 1.07s\tremaining: 497ms\n",
      "684:\tlearn: 0.2459155\ttotal: 1.08s\tremaining: 495ms\n",
      "685:\tlearn: 0.2457787\ttotal: 1.08s\tremaining: 494ms\n",
      "686:\tlearn: 0.2455912\ttotal: 1.08s\tremaining: 492ms\n",
      "687:\tlearn: 0.2453303\ttotal: 1.08s\tremaining: 491ms\n",
      "688:\tlearn: 0.2451950\ttotal: 1.08s\tremaining: 489ms\n",
      "689:\tlearn: 0.2450738\ttotal: 1.08s\tremaining: 487ms\n",
      "690:\tlearn: 0.2448890\ttotal: 1.08s\tremaining: 486ms\n",
      "691:\tlearn: 0.2445965\ttotal: 1.09s\tremaining: 484ms\n",
      "692:\tlearn: 0.2444868\ttotal: 1.09s\tremaining: 482ms\n",
      "693:\tlearn: 0.2443674\ttotal: 1.09s\tremaining: 481ms\n",
      "694:\tlearn: 0.2442138\ttotal: 1.09s\tremaining: 479ms\n",
      "695:\tlearn: 0.2439370\ttotal: 1.09s\tremaining: 477ms\n",
      "696:\tlearn: 0.2438278\ttotal: 1.09s\tremaining: 475ms\n",
      "697:\tlearn: 0.2435801\ttotal: 1.09s\tremaining: 474ms\n",
      "698:\tlearn: 0.2434457\ttotal: 1.09s\tremaining: 472ms\n",
      "699:\tlearn: 0.2432475\ttotal: 1.1s\tremaining: 470ms\n",
      "700:\tlearn: 0.2428014\ttotal: 1.1s\tremaining: 468ms\n",
      "701:\tlearn: 0.2424086\ttotal: 1.1s\tremaining: 466ms\n",
      "702:\tlearn: 0.2423574\ttotal: 1.1s\tremaining: 465ms\n",
      "703:\tlearn: 0.2422899\ttotal: 1.1s\tremaining: 463ms\n",
      "704:\tlearn: 0.2420831\ttotal: 1.1s\tremaining: 461ms\n",
      "705:\tlearn: 0.2418675\ttotal: 1.1s\tremaining: 460ms\n",
      "706:\tlearn: 0.2417139\ttotal: 1.1s\tremaining: 458ms\n",
      "707:\tlearn: 0.2416066\ttotal: 1.11s\tremaining: 456ms\n",
      "708:\tlearn: 0.2413955\ttotal: 1.11s\tremaining: 455ms\n",
      "709:\tlearn: 0.2412798\ttotal: 1.11s\tremaining: 453ms\n",
      "710:\tlearn: 0.2409843\ttotal: 1.11s\tremaining: 451ms\n",
      "711:\tlearn: 0.2405534\ttotal: 1.11s\tremaining: 450ms\n",
      "712:\tlearn: 0.2403035\ttotal: 1.11s\tremaining: 448ms\n",
      "713:\tlearn: 0.2401702\ttotal: 1.11s\tremaining: 446ms\n",
      "714:\tlearn: 0.2399140\ttotal: 1.11s\tremaining: 445ms\n",
      "715:\tlearn: 0.2397337\ttotal: 1.12s\tremaining: 443ms\n",
      "716:\tlearn: 0.2396964\ttotal: 1.12s\tremaining: 441ms\n",
      "717:\tlearn: 0.2395390\ttotal: 1.12s\tremaining: 440ms\n",
      "718:\tlearn: 0.2392122\ttotal: 1.12s\tremaining: 438ms\n",
      "719:\tlearn: 0.2390619\ttotal: 1.12s\tremaining: 436ms\n",
      "720:\tlearn: 0.2389439\ttotal: 1.12s\tremaining: 435ms\n",
      "721:\tlearn: 0.2385429\ttotal: 1.12s\tremaining: 433ms\n",
      "722:\tlearn: 0.2383707\ttotal: 1.12s\tremaining: 431ms\n",
      "723:\tlearn: 0.2382535\ttotal: 1.13s\tremaining: 429ms\n",
      "724:\tlearn: 0.2381393\ttotal: 1.13s\tremaining: 428ms\n",
      "725:\tlearn: 0.2379856\ttotal: 1.13s\tremaining: 426ms\n",
      "726:\tlearn: 0.2377765\ttotal: 1.13s\tremaining: 424ms\n",
      "727:\tlearn: 0.2376745\ttotal: 1.13s\tremaining: 422ms\n",
      "728:\tlearn: 0.2375429\ttotal: 1.13s\tremaining: 421ms\n",
      "729:\tlearn: 0.2373491\ttotal: 1.13s\tremaining: 419ms\n",
      "730:\tlearn: 0.2370027\ttotal: 1.13s\tremaining: 417ms\n",
      "731:\tlearn: 0.2368848\ttotal: 1.14s\tremaining: 416ms\n",
      "732:\tlearn: 0.2367762\ttotal: 1.14s\tremaining: 414ms\n",
      "733:\tlearn: 0.2366998\ttotal: 1.14s\tremaining: 412ms\n",
      "734:\tlearn: 0.2364429\ttotal: 1.14s\tremaining: 411ms\n",
      "735:\tlearn: 0.2363494\ttotal: 1.14s\tremaining: 409ms\n",
      "736:\tlearn: 0.2361932\ttotal: 1.14s\tremaining: 408ms\n",
      "737:\tlearn: 0.2358759\ttotal: 1.14s\tremaining: 406ms\n",
      "738:\tlearn: 0.2356413\ttotal: 1.15s\tremaining: 404ms\n",
      "739:\tlearn: 0.2354374\ttotal: 1.15s\tremaining: 403ms\n",
      "740:\tlearn: 0.2353556\ttotal: 1.15s\tremaining: 401ms\n",
      "741:\tlearn: 0.2352407\ttotal: 1.15s\tremaining: 400ms\n",
      "742:\tlearn: 0.2350888\ttotal: 1.15s\tremaining: 398ms\n",
      "743:\tlearn: 0.2348339\ttotal: 1.15s\tremaining: 396ms\n",
      "744:\tlearn: 0.2344997\ttotal: 1.15s\tremaining: 395ms\n",
      "745:\tlearn: 0.2343514\ttotal: 1.15s\tremaining: 393ms\n",
      "746:\tlearn: 0.2341343\ttotal: 1.15s\tremaining: 391ms\n",
      "747:\tlearn: 0.2337582\ttotal: 1.16s\tremaining: 389ms\n",
      "748:\tlearn: 0.2335933\ttotal: 1.16s\tremaining: 388ms\n",
      "749:\tlearn: 0.2334627\ttotal: 1.16s\tremaining: 386ms\n",
      "750:\tlearn: 0.2332623\ttotal: 1.16s\tremaining: 384ms\n",
      "751:\tlearn: 0.2331015\ttotal: 1.16s\tremaining: 383ms\n",
      "752:\tlearn: 0.2330066\ttotal: 1.16s\tremaining: 381ms\n",
      "753:\tlearn: 0.2328590\ttotal: 1.16s\tremaining: 379ms\n",
      "754:\tlearn: 0.2327142\ttotal: 1.16s\tremaining: 378ms\n",
      "755:\tlearn: 0.2323644\ttotal: 1.17s\tremaining: 376ms\n",
      "756:\tlearn: 0.2320818\ttotal: 1.17s\tremaining: 374ms\n",
      "757:\tlearn: 0.2319190\ttotal: 1.17s\tremaining: 373ms\n",
      "758:\tlearn: 0.2315921\ttotal: 1.17s\tremaining: 371ms\n",
      "759:\tlearn: 0.2314518\ttotal: 1.17s\tremaining: 369ms\n",
      "760:\tlearn: 0.2312555\ttotal: 1.17s\tremaining: 368ms\n",
      "761:\tlearn: 0.2310545\ttotal: 1.17s\tremaining: 366ms\n",
      "762:\tlearn: 0.2309143\ttotal: 1.17s\tremaining: 364ms\n",
      "763:\tlearn: 0.2307787\ttotal: 1.17s\tremaining: 363ms\n",
      "764:\tlearn: 0.2303175\ttotal: 1.18s\tremaining: 361ms\n",
      "765:\tlearn: 0.2300101\ttotal: 1.18s\tremaining: 359ms\n",
      "766:\tlearn: 0.2298963\ttotal: 1.18s\tremaining: 358ms\n",
      "767:\tlearn: 0.2296899\ttotal: 1.18s\tremaining: 356ms\n",
      "768:\tlearn: 0.2295813\ttotal: 1.18s\tremaining: 354ms\n",
      "769:\tlearn: 0.2292246\ttotal: 1.18s\tremaining: 353ms\n",
      "770:\tlearn: 0.2290453\ttotal: 1.18s\tremaining: 351ms\n",
      "771:\tlearn: 0.2289676\ttotal: 1.18s\tremaining: 349ms\n",
      "772:\tlearn: 0.2286484\ttotal: 1.18s\tremaining: 348ms\n",
      "773:\tlearn: 0.2284585\ttotal: 1.18s\tremaining: 346ms\n",
      "774:\tlearn: 0.2282500\ttotal: 1.19s\tremaining: 344ms\n",
      "775:\tlearn: 0.2281407\ttotal: 1.19s\tremaining: 343ms\n",
      "776:\tlearn: 0.2279219\ttotal: 1.19s\tremaining: 341ms\n",
      "777:\tlearn: 0.2276128\ttotal: 1.19s\tremaining: 339ms\n",
      "778:\tlearn: 0.2274184\ttotal: 1.19s\tremaining: 338ms\n",
      "779:\tlearn: 0.2271612\ttotal: 1.19s\tremaining: 336ms\n",
      "780:\tlearn: 0.2269394\ttotal: 1.19s\tremaining: 334ms\n",
      "781:\tlearn: 0.2268496\ttotal: 1.19s\tremaining: 333ms\n",
      "782:\tlearn: 0.2267682\ttotal: 1.19s\tremaining: 331ms\n",
      "783:\tlearn: 0.2266919\ttotal: 1.2s\tremaining: 329ms\n",
      "784:\tlearn: 0.2264667\ttotal: 1.2s\tremaining: 328ms\n",
      "785:\tlearn: 0.2261897\ttotal: 1.2s\tremaining: 326ms\n",
      "786:\tlearn: 0.2261238\ttotal: 1.2s\tremaining: 325ms\n",
      "787:\tlearn: 0.2260221\ttotal: 1.2s\tremaining: 323ms\n",
      "788:\tlearn: 0.2259542\ttotal: 1.2s\tremaining: 321ms\n",
      "789:\tlearn: 0.2257492\ttotal: 1.2s\tremaining: 320ms\n",
      "790:\tlearn: 0.2255727\ttotal: 1.2s\tremaining: 318ms\n",
      "791:\tlearn: 0.2254361\ttotal: 1.2s\tremaining: 316ms\n",
      "792:\tlearn: 0.2251975\ttotal: 1.21s\tremaining: 315ms\n",
      "793:\tlearn: 0.2251099\ttotal: 1.21s\tremaining: 313ms\n",
      "794:\tlearn: 0.2250267\ttotal: 1.21s\tremaining: 311ms\n",
      "795:\tlearn: 0.2249045\ttotal: 1.21s\tremaining: 310ms\n",
      "796:\tlearn: 0.2246708\ttotal: 1.21s\tremaining: 308ms\n",
      "797:\tlearn: 0.2244320\ttotal: 1.21s\tremaining: 307ms\n",
      "798:\tlearn: 0.2242313\ttotal: 1.21s\tremaining: 305ms\n",
      "799:\tlearn: 0.2238984\ttotal: 1.21s\tremaining: 303ms\n",
      "800:\tlearn: 0.2234516\ttotal: 1.21s\tremaining: 302ms\n",
      "801:\tlearn: 0.2233933\ttotal: 1.22s\tremaining: 300ms\n",
      "802:\tlearn: 0.2232868\ttotal: 1.22s\tremaining: 298ms\n",
      "803:\tlearn: 0.2230518\ttotal: 1.22s\tremaining: 297ms\n",
      "804:\tlearn: 0.2228824\ttotal: 1.22s\tremaining: 295ms\n",
      "805:\tlearn: 0.2226697\ttotal: 1.22s\tremaining: 294ms\n",
      "806:\tlearn: 0.2225086\ttotal: 1.22s\tremaining: 292ms\n",
      "807:\tlearn: 0.2223386\ttotal: 1.22s\tremaining: 290ms\n",
      "808:\tlearn: 0.2221959\ttotal: 1.22s\tremaining: 289ms\n",
      "809:\tlearn: 0.2219787\ttotal: 1.22s\tremaining: 287ms\n",
      "810:\tlearn: 0.2216724\ttotal: 1.22s\tremaining: 285ms\n",
      "811:\tlearn: 0.2214549\ttotal: 1.23s\tremaining: 284ms\n",
      "812:\tlearn: 0.2211909\ttotal: 1.23s\tremaining: 282ms\n",
      "813:\tlearn: 0.2208207\ttotal: 1.23s\tremaining: 281ms\n",
      "814:\tlearn: 0.2206241\ttotal: 1.23s\tremaining: 279ms\n",
      "815:\tlearn: 0.2204944\ttotal: 1.23s\tremaining: 277ms\n",
      "816:\tlearn: 0.2203338\ttotal: 1.23s\tremaining: 276ms\n",
      "817:\tlearn: 0.2202234\ttotal: 1.23s\tremaining: 274ms\n",
      "818:\tlearn: 0.2199347\ttotal: 1.23s\tremaining: 273ms\n",
      "819:\tlearn: 0.2197637\ttotal: 1.23s\tremaining: 271ms\n",
      "820:\tlearn: 0.2196321\ttotal: 1.24s\tremaining: 269ms\n",
      "821:\tlearn: 0.2195166\ttotal: 1.24s\tremaining: 268ms\n",
      "822:\tlearn: 0.2193558\ttotal: 1.25s\tremaining: 269ms\n",
      "823:\tlearn: 0.2192363\ttotal: 1.25s\tremaining: 267ms\n",
      "824:\tlearn: 0.2190681\ttotal: 1.25s\tremaining: 266ms\n",
      "825:\tlearn: 0.2188877\ttotal: 1.25s\tremaining: 264ms\n",
      "826:\tlearn: 0.2188229\ttotal: 1.26s\tremaining: 263ms\n",
      "827:\tlearn: 0.2187377\ttotal: 1.26s\tremaining: 261ms\n",
      "828:\tlearn: 0.2185021\ttotal: 1.26s\tremaining: 260ms\n",
      "829:\tlearn: 0.2184467\ttotal: 1.26s\tremaining: 258ms\n",
      "830:\tlearn: 0.2182458\ttotal: 1.26s\tremaining: 257ms\n",
      "831:\tlearn: 0.2179170\ttotal: 1.26s\tremaining: 255ms\n",
      "832:\tlearn: 0.2177744\ttotal: 1.26s\tremaining: 254ms\n",
      "833:\tlearn: 0.2176498\ttotal: 1.27s\tremaining: 252ms\n",
      "834:\tlearn: 0.2174674\ttotal: 1.27s\tremaining: 251ms\n",
      "835:\tlearn: 0.2171573\ttotal: 1.27s\tremaining: 249ms\n",
      "836:\tlearn: 0.2170428\ttotal: 1.27s\tremaining: 247ms\n",
      "837:\tlearn: 0.2168558\ttotal: 1.27s\tremaining: 246ms\n",
      "838:\tlearn: 0.2167658\ttotal: 1.27s\tremaining: 244ms\n",
      "839:\tlearn: 0.2165640\ttotal: 1.27s\tremaining: 243ms\n",
      "840:\tlearn: 0.2164665\ttotal: 1.27s\tremaining: 241ms\n",
      "841:\tlearn: 0.2163036\ttotal: 1.28s\tremaining: 240ms\n",
      "842:\tlearn: 0.2161783\ttotal: 1.28s\tremaining: 238ms\n",
      "843:\tlearn: 0.2160460\ttotal: 1.28s\tremaining: 237ms\n",
      "844:\tlearn: 0.2159027\ttotal: 1.28s\tremaining: 235ms\n",
      "845:\tlearn: 0.2157109\ttotal: 1.28s\tremaining: 234ms\n",
      "846:\tlearn: 0.2156211\ttotal: 1.28s\tremaining: 232ms\n",
      "847:\tlearn: 0.2155515\ttotal: 1.28s\tremaining: 230ms\n",
      "848:\tlearn: 0.2154780\ttotal: 1.29s\tremaining: 229ms\n",
      "849:\tlearn: 0.2152790\ttotal: 1.29s\tremaining: 227ms\n",
      "850:\tlearn: 0.2151652\ttotal: 1.29s\tremaining: 226ms\n",
      "851:\tlearn: 0.2151018\ttotal: 1.29s\tremaining: 224ms\n",
      "852:\tlearn: 0.2149208\ttotal: 1.29s\tremaining: 223ms\n",
      "853:\tlearn: 0.2147438\ttotal: 1.29s\tremaining: 221ms\n",
      "854:\tlearn: 0.2145937\ttotal: 1.29s\tremaining: 219ms\n",
      "855:\tlearn: 0.2145381\ttotal: 1.29s\tremaining: 218ms\n",
      "856:\tlearn: 0.2144657\ttotal: 1.29s\tremaining: 216ms\n",
      "857:\tlearn: 0.2141945\ttotal: 1.3s\tremaining: 215ms\n",
      "858:\tlearn: 0.2141378\ttotal: 1.3s\tremaining: 213ms\n",
      "859:\tlearn: 0.2140764\ttotal: 1.3s\tremaining: 211ms\n",
      "860:\tlearn: 0.2139788\ttotal: 1.3s\tremaining: 210ms\n",
      "861:\tlearn: 0.2138364\ttotal: 1.3s\tremaining: 208ms\n",
      "862:\tlearn: 0.2136299\ttotal: 1.3s\tremaining: 207ms\n",
      "863:\tlearn: 0.2134113\ttotal: 1.3s\tremaining: 205ms\n",
      "864:\tlearn: 0.2132956\ttotal: 1.3s\tremaining: 204ms\n",
      "865:\tlearn: 0.2130691\ttotal: 1.3s\tremaining: 202ms\n",
      "866:\tlearn: 0.2128784\ttotal: 1.31s\tremaining: 200ms\n",
      "867:\tlearn: 0.2126727\ttotal: 1.31s\tremaining: 199ms\n",
      "868:\tlearn: 0.2125340\ttotal: 1.31s\tremaining: 197ms\n",
      "869:\tlearn: 0.2122840\ttotal: 1.31s\tremaining: 196ms\n",
      "870:\tlearn: 0.2120469\ttotal: 1.31s\tremaining: 194ms\n",
      "871:\tlearn: 0.2118639\ttotal: 1.31s\tremaining: 193ms\n",
      "872:\tlearn: 0.2117496\ttotal: 1.31s\tremaining: 191ms\n",
      "873:\tlearn: 0.2114516\ttotal: 1.31s\tremaining: 189ms\n",
      "874:\tlearn: 0.2111775\ttotal: 1.31s\tremaining: 188ms\n",
      "875:\tlearn: 0.2110101\ttotal: 1.31s\tremaining: 186ms\n",
      "876:\tlearn: 0.2107460\ttotal: 1.32s\tremaining: 185ms\n",
      "877:\tlearn: 0.2106560\ttotal: 1.32s\tremaining: 183ms\n",
      "878:\tlearn: 0.2104605\ttotal: 1.32s\tremaining: 182ms\n",
      "879:\tlearn: 0.2103590\ttotal: 1.32s\tremaining: 180ms\n",
      "880:\tlearn: 0.2103160\ttotal: 1.32s\tremaining: 178ms\n",
      "881:\tlearn: 0.2102141\ttotal: 1.32s\tremaining: 177ms\n",
      "882:\tlearn: 0.2098803\ttotal: 1.32s\tremaining: 175ms\n",
      "883:\tlearn: 0.2097233\ttotal: 1.32s\tremaining: 174ms\n",
      "884:\tlearn: 0.2095986\ttotal: 1.32s\tremaining: 172ms\n",
      "885:\tlearn: 0.2094989\ttotal: 1.33s\tremaining: 171ms\n",
      "886:\tlearn: 0.2092139\ttotal: 1.33s\tremaining: 169ms\n",
      "887:\tlearn: 0.2090122\ttotal: 1.33s\tremaining: 168ms\n",
      "888:\tlearn: 0.2088416\ttotal: 1.33s\tremaining: 166ms\n",
      "889:\tlearn: 0.2087120\ttotal: 1.33s\tremaining: 165ms\n",
      "890:\tlearn: 0.2085946\ttotal: 1.33s\tremaining: 163ms\n",
      "891:\tlearn: 0.2084567\ttotal: 1.33s\tremaining: 162ms\n",
      "892:\tlearn: 0.2083637\ttotal: 1.33s\tremaining: 160ms\n",
      "893:\tlearn: 0.2082819\ttotal: 1.34s\tremaining: 158ms\n",
      "894:\tlearn: 0.2081431\ttotal: 1.34s\tremaining: 157ms\n",
      "895:\tlearn: 0.2079990\ttotal: 1.34s\tremaining: 155ms\n",
      "896:\tlearn: 0.2078031\ttotal: 1.34s\tremaining: 154ms\n",
      "897:\tlearn: 0.2076147\ttotal: 1.34s\tremaining: 152ms\n",
      "898:\tlearn: 0.2074966\ttotal: 1.34s\tremaining: 151ms\n",
      "899:\tlearn: 0.2074233\ttotal: 1.34s\tremaining: 149ms\n",
      "900:\tlearn: 0.2073176\ttotal: 1.35s\tremaining: 148ms\n",
      "901:\tlearn: 0.2071963\ttotal: 1.35s\tremaining: 146ms\n",
      "902:\tlearn: 0.2070281\ttotal: 1.35s\tremaining: 145ms\n",
      "903:\tlearn: 0.2068952\ttotal: 1.35s\tremaining: 143ms\n",
      "904:\tlearn: 0.2067909\ttotal: 1.35s\tremaining: 142ms\n",
      "905:\tlearn: 0.2065923\ttotal: 1.35s\tremaining: 140ms\n",
      "906:\tlearn: 0.2064879\ttotal: 1.35s\tremaining: 139ms\n",
      "907:\tlearn: 0.2062348\ttotal: 1.35s\tremaining: 137ms\n",
      "908:\tlearn: 0.2061212\ttotal: 1.35s\tremaining: 136ms\n",
      "909:\tlearn: 0.2059688\ttotal: 1.36s\tremaining: 134ms\n",
      "910:\tlearn: 0.2057464\ttotal: 1.36s\tremaining: 133ms\n",
      "911:\tlearn: 0.2056163\ttotal: 1.36s\tremaining: 131ms\n",
      "912:\tlearn: 0.2055138\ttotal: 1.36s\tremaining: 130ms\n",
      "913:\tlearn: 0.2054613\ttotal: 1.36s\tremaining: 128ms\n",
      "914:\tlearn: 0.2053515\ttotal: 1.36s\tremaining: 127ms\n",
      "915:\tlearn: 0.2052184\ttotal: 1.36s\tremaining: 125ms\n",
      "916:\tlearn: 0.2050330\ttotal: 1.36s\tremaining: 124ms\n",
      "917:\tlearn: 0.2049049\ttotal: 1.36s\tremaining: 122ms\n",
      "918:\tlearn: 0.2046657\ttotal: 1.37s\tremaining: 120ms\n",
      "919:\tlearn: 0.2043994\ttotal: 1.37s\tremaining: 119ms\n",
      "920:\tlearn: 0.2043421\ttotal: 1.37s\tremaining: 117ms\n",
      "921:\tlearn: 0.2040999\ttotal: 1.37s\tremaining: 116ms\n",
      "922:\tlearn: 0.2039345\ttotal: 1.37s\tremaining: 114ms\n",
      "923:\tlearn: 0.2037581\ttotal: 1.37s\tremaining: 113ms\n",
      "924:\tlearn: 0.2036368\ttotal: 1.37s\tremaining: 111ms\n",
      "925:\tlearn: 0.2035197\ttotal: 1.38s\tremaining: 110ms\n",
      "926:\tlearn: 0.2033980\ttotal: 1.38s\tremaining: 108ms\n",
      "927:\tlearn: 0.2032414\ttotal: 1.38s\tremaining: 107ms\n",
      "928:\tlearn: 0.2030566\ttotal: 1.38s\tremaining: 105ms\n",
      "929:\tlearn: 0.2027728\ttotal: 1.38s\tremaining: 104ms\n",
      "930:\tlearn: 0.2025859\ttotal: 1.38s\tremaining: 102ms\n",
      "931:\tlearn: 0.2025003\ttotal: 1.38s\tremaining: 101ms\n",
      "932:\tlearn: 0.2023148\ttotal: 1.38s\tremaining: 99.4ms\n",
      "933:\tlearn: 0.2022241\ttotal: 1.38s\tremaining: 97.9ms\n",
      "934:\tlearn: 0.2021301\ttotal: 1.39s\tremaining: 96.4ms\n",
      "935:\tlearn: 0.2020509\ttotal: 1.39s\tremaining: 94.8ms\n",
      "936:\tlearn: 0.2019055\ttotal: 1.39s\tremaining: 93.3ms\n",
      "937:\tlearn: 0.2018676\ttotal: 1.39s\tremaining: 91.8ms\n",
      "938:\tlearn: 0.2016924\ttotal: 1.39s\tremaining: 90.3ms\n",
      "939:\tlearn: 0.2016378\ttotal: 1.39s\tremaining: 88.8ms\n",
      "940:\tlearn: 0.2014014\ttotal: 1.39s\tremaining: 87.3ms\n",
      "941:\tlearn: 0.2012791\ttotal: 1.39s\tremaining: 85.8ms\n",
      "942:\tlearn: 0.2012014\ttotal: 1.39s\tremaining: 84.3ms\n",
      "943:\tlearn: 0.2010983\ttotal: 1.4s\tremaining: 82.8ms\n",
      "944:\tlearn: 0.2009464\ttotal: 1.4s\tremaining: 81.3ms\n",
      "945:\tlearn: 0.2008588\ttotal: 1.4s\tremaining: 79.8ms\n",
      "946:\tlearn: 0.2007579\ttotal: 1.4s\tremaining: 78.3ms\n",
      "947:\tlearn: 0.2006770\ttotal: 1.4s\tremaining: 76.8ms\n",
      "948:\tlearn: 0.2005245\ttotal: 1.4s\tremaining: 75.3ms\n",
      "949:\tlearn: 0.2004856\ttotal: 1.4s\tremaining: 73.8ms\n",
      "950:\tlearn: 0.2004359\ttotal: 1.4s\tremaining: 72.3ms\n",
      "951:\tlearn: 0.2001823\ttotal: 1.4s\tremaining: 70.8ms\n",
      "952:\tlearn: 0.1999742\ttotal: 1.41s\tremaining: 69.3ms\n",
      "953:\tlearn: 0.1998538\ttotal: 1.41s\tremaining: 67.8ms\n",
      "954:\tlearn: 0.1997505\ttotal: 1.41s\tremaining: 66.3ms\n",
      "955:\tlearn: 0.1996788\ttotal: 1.41s\tremaining: 64.9ms\n",
      "956:\tlearn: 0.1994983\ttotal: 1.41s\tremaining: 63.4ms\n",
      "957:\tlearn: 0.1993423\ttotal: 1.41s\tremaining: 61.9ms\n",
      "958:\tlearn: 0.1992059\ttotal: 1.41s\tremaining: 60.4ms\n",
      "959:\tlearn: 0.1989424\ttotal: 1.41s\tremaining: 58.9ms\n",
      "960:\tlearn: 0.1987826\ttotal: 1.41s\tremaining: 57.4ms\n",
      "961:\tlearn: 0.1986675\ttotal: 1.42s\tremaining: 55.9ms\n",
      "962:\tlearn: 0.1986389\ttotal: 1.42s\tremaining: 54.4ms\n",
      "963:\tlearn: 0.1985507\ttotal: 1.42s\tremaining: 53ms\n",
      "964:\tlearn: 0.1984114\ttotal: 1.42s\tremaining: 51.5ms\n",
      "965:\tlearn: 0.1983626\ttotal: 1.42s\tremaining: 50ms\n",
      "966:\tlearn: 0.1981922\ttotal: 1.42s\tremaining: 48.5ms\n",
      "967:\tlearn: 0.1979989\ttotal: 1.42s\tremaining: 47ms\n",
      "968:\tlearn: 0.1979202\ttotal: 1.42s\tremaining: 45.5ms\n",
      "969:\tlearn: 0.1977933\ttotal: 1.43s\tremaining: 44.1ms\n",
      "970:\tlearn: 0.1976935\ttotal: 1.43s\tremaining: 42.6ms\n",
      "971:\tlearn: 0.1975237\ttotal: 1.43s\tremaining: 41.2ms\n",
      "972:\tlearn: 0.1974117\ttotal: 1.43s\tremaining: 39.7ms\n",
      "973:\tlearn: 0.1972646\ttotal: 1.43s\tremaining: 38.3ms\n",
      "974:\tlearn: 0.1971243\ttotal: 1.44s\tremaining: 36.8ms\n",
      "975:\tlearn: 0.1969940\ttotal: 1.44s\tremaining: 35.3ms\n",
      "976:\tlearn: 0.1969432\ttotal: 1.44s\tremaining: 33.9ms\n",
      "977:\tlearn: 0.1967682\ttotal: 1.44s\tremaining: 32.4ms\n",
      "978:\tlearn: 0.1966439\ttotal: 1.44s\tremaining: 30.9ms\n",
      "979:\tlearn: 0.1965434\ttotal: 1.44s\tremaining: 29.4ms\n",
      "980:\tlearn: 0.1964754\ttotal: 1.44s\tremaining: 28ms\n",
      "981:\tlearn: 0.1963268\ttotal: 1.45s\tremaining: 26.5ms\n",
      "982:\tlearn: 0.1961554\ttotal: 1.45s\tremaining: 25ms\n",
      "983:\tlearn: 0.1958981\ttotal: 1.45s\tremaining: 23.5ms\n",
      "984:\tlearn: 0.1958360\ttotal: 1.45s\tremaining: 22.1ms\n",
      "985:\tlearn: 0.1955453\ttotal: 1.45s\tremaining: 20.6ms\n",
      "986:\tlearn: 0.1954170\ttotal: 1.45s\tremaining: 19.1ms\n",
      "987:\tlearn: 0.1952517\ttotal: 1.45s\tremaining: 17.6ms\n",
      "988:\tlearn: 0.1950590\ttotal: 1.45s\tremaining: 16.2ms\n",
      "989:\tlearn: 0.1948965\ttotal: 1.46s\tremaining: 14.7ms\n",
      "990:\tlearn: 0.1947814\ttotal: 1.46s\tremaining: 13.2ms\n",
      "991:\tlearn: 0.1945362\ttotal: 1.46s\tremaining: 11.8ms\n",
      "992:\tlearn: 0.1944756\ttotal: 1.46s\tremaining: 10.3ms\n",
      "993:\tlearn: 0.1943506\ttotal: 1.46s\tremaining: 8.82ms\n",
      "994:\tlearn: 0.1942585\ttotal: 1.46s\tremaining: 7.35ms\n",
      "995:\tlearn: 0.1941885\ttotal: 1.46s\tremaining: 5.88ms\n",
      "996:\tlearn: 0.1939930\ttotal: 1.47s\tremaining: 4.41ms\n",
      "997:\tlearn: 0.1938128\ttotal: 1.47s\tremaining: 2.94ms\n",
      "998:\tlearn: 0.1936294\ttotal: 1.47s\tremaining: 1.47ms\n",
      "999:\tlearn: 0.1935149\ttotal: 1.47s\tremaining: 0us\n"
     ]
    }
   ],
   "source": [
    "cat_model = CatBoostClassifier().fit(X_train, y_train)"
   ]
  },
  {
   "cell_type": "code",
   "execution_count": 172,
   "metadata": {},
   "outputs": [
    {
     "data": {
      "text/plain": [
       "0.7402597402597403"
      ]
     },
     "execution_count": 172,
     "metadata": {},
     "output_type": "execute_result"
    }
   ],
   "source": [
    "y_pred = cat_model.predict(X_test)\n",
    "accuracy_score(y_test, y_pred)"
   ]
  },
  {
   "cell_type": "markdown",
   "metadata": {},
   "source": [
    "## Model Tuning"
   ]
  },
  {
   "cell_type": "code",
   "execution_count": 173,
   "metadata": {},
   "outputs": [],
   "source": [
    "catb_params = {\n",
    "    'iterations': [200,500],\n",
    "    'learning_rate': [0.01,0.05, 0.1],\n",
    "    'depth': [3,5,8] }"
   ]
  },
  {
   "cell_type": "code",
   "execution_count": 174,
   "metadata": {},
   "outputs": [
    {
     "name": "stdout",
     "output_type": "stream",
     "text": [
      "Fitting 5 folds for each of 18 candidates, totalling 90 fits\n"
     ]
    },
    {
     "name": "stderr",
     "output_type": "stream",
     "text": [
      "[Parallel(n_jobs=-1)]: Using backend LokyBackend with 4 concurrent workers.\n",
      "[Parallel(n_jobs=-1)]: Done  33 tasks      | elapsed:    7.4s\n",
      "[Parallel(n_jobs=-1)]: Done  90 out of  90 | elapsed:   46.1s finished\n"
     ]
    },
    {
     "name": "stdout",
     "output_type": "stream",
     "text": [
      "0:\tlearn: 0.6863412\ttotal: 5.8ms\tremaining: 1.15s\n",
      "1:\tlearn: 0.6811322\ttotal: 7.94ms\tremaining: 786ms\n",
      "2:\tlearn: 0.6753199\ttotal: 10.4ms\tremaining: 686ms\n",
      "3:\tlearn: 0.6697717\ttotal: 12.4ms\tremaining: 610ms\n",
      "4:\tlearn: 0.6642090\ttotal: 14.4ms\tremaining: 562ms\n",
      "5:\tlearn: 0.6577038\ttotal: 16.6ms\tremaining: 538ms\n",
      "6:\tlearn: 0.6522290\ttotal: 18.8ms\tremaining: 517ms\n",
      "7:\tlearn: 0.6466015\ttotal: 20.9ms\tremaining: 501ms\n",
      "8:\tlearn: 0.6408068\ttotal: 22.9ms\tremaining: 485ms\n",
      "9:\tlearn: 0.6358218\ttotal: 25.4ms\tremaining: 483ms\n",
      "10:\tlearn: 0.6300444\ttotal: 27.6ms\tremaining: 475ms\n",
      "11:\tlearn: 0.6240992\ttotal: 29.6ms\tremaining: 463ms\n",
      "12:\tlearn: 0.6196618\ttotal: 31.8ms\tremaining: 457ms\n",
      "13:\tlearn: 0.6149237\ttotal: 33.8ms\tremaining: 450ms\n",
      "14:\tlearn: 0.6093146\ttotal: 35.8ms\tremaining: 442ms\n",
      "15:\tlearn: 0.6047282\ttotal: 38.2ms\tremaining: 439ms\n",
      "16:\tlearn: 0.6013242\ttotal: 40.2ms\tremaining: 433ms\n",
      "17:\tlearn: 0.5958624\ttotal: 42.2ms\tremaining: 427ms\n",
      "18:\tlearn: 0.5903733\ttotal: 44.2ms\tremaining: 421ms\n",
      "19:\tlearn: 0.5866505\ttotal: 46.3ms\tremaining: 417ms\n",
      "20:\tlearn: 0.5831865\ttotal: 48.5ms\tremaining: 413ms\n",
      "21:\tlearn: 0.5787839\ttotal: 50.4ms\tremaining: 408ms\n",
      "22:\tlearn: 0.5749453\ttotal: 53.4ms\tremaining: 411ms\n",
      "23:\tlearn: 0.5703621\ttotal: 78.6ms\tremaining: 577ms\n",
      "24:\tlearn: 0.5662773\ttotal: 80.8ms\tremaining: 566ms\n",
      "25:\tlearn: 0.5629069\ttotal: 82.8ms\tremaining: 554ms\n",
      "26:\tlearn: 0.5589454\ttotal: 84.7ms\tremaining: 543ms\n",
      "27:\tlearn: 0.5544253\ttotal: 86.6ms\tremaining: 532ms\n",
      "28:\tlearn: 0.5504193\ttotal: 88.8ms\tremaining: 523ms\n",
      "29:\tlearn: 0.5470888\ttotal: 90.9ms\tremaining: 515ms\n",
      "30:\tlearn: 0.5441572\ttotal: 92.9ms\tremaining: 507ms\n",
      "31:\tlearn: 0.5396568\ttotal: 94.8ms\tremaining: 498ms\n",
      "32:\tlearn: 0.5356520\ttotal: 97ms\tremaining: 491ms\n",
      "33:\tlearn: 0.5315662\ttotal: 99.9ms\tremaining: 488ms\n",
      "34:\tlearn: 0.5280107\ttotal: 102ms\tremaining: 480ms\n",
      "35:\tlearn: 0.5248634\ttotal: 104ms\tremaining: 473ms\n",
      "36:\tlearn: 0.5224134\ttotal: 106ms\tremaining: 466ms\n",
      "37:\tlearn: 0.5198514\ttotal: 108ms\tremaining: 459ms\n",
      "38:\tlearn: 0.5167668\ttotal: 110ms\tremaining: 454ms\n",
      "39:\tlearn: 0.5139063\ttotal: 112ms\tremaining: 447ms\n",
      "40:\tlearn: 0.5101721\ttotal: 114ms\tremaining: 441ms\n",
      "41:\tlearn: 0.5066326\ttotal: 117ms\tremaining: 438ms\n",
      "42:\tlearn: 0.5033936\ttotal: 119ms\tremaining: 433ms\n",
      "43:\tlearn: 0.5006117\ttotal: 121ms\tremaining: 428ms\n",
      "44:\tlearn: 0.4980917\ttotal: 123ms\tremaining: 423ms\n",
      "45:\tlearn: 0.4959463\ttotal: 125ms\tremaining: 417ms\n",
      "46:\tlearn: 0.4934198\ttotal: 127ms\tremaining: 412ms\n",
      "47:\tlearn: 0.4906410\ttotal: 128ms\tremaining: 407ms\n",
      "48:\tlearn: 0.4878576\ttotal: 131ms\tremaining: 403ms\n",
      "49:\tlearn: 0.4850977\ttotal: 133ms\tremaining: 398ms\n",
      "50:\tlearn: 0.4826157\ttotal: 135ms\tremaining: 393ms\n",
      "51:\tlearn: 0.4798530\ttotal: 137ms\tremaining: 390ms\n",
      "52:\tlearn: 0.4776349\ttotal: 140ms\tremaining: 387ms\n",
      "53:\tlearn: 0.4754652\ttotal: 142ms\tremaining: 383ms\n",
      "54:\tlearn: 0.4733755\ttotal: 144ms\tremaining: 379ms\n",
      "55:\tlearn: 0.4706337\ttotal: 147ms\tremaining: 377ms\n",
      "56:\tlearn: 0.4677619\ttotal: 149ms\tremaining: 373ms\n",
      "57:\tlearn: 0.4657008\ttotal: 151ms\tremaining: 370ms\n",
      "58:\tlearn: 0.4637682\ttotal: 153ms\tremaining: 367ms\n",
      "59:\tlearn: 0.4615518\ttotal: 155ms\tremaining: 362ms\n",
      "60:\tlearn: 0.4600032\ttotal: 157ms\tremaining: 358ms\n",
      "61:\tlearn: 0.4584260\ttotal: 158ms\tremaining: 352ms\n",
      "62:\tlearn: 0.4567343\ttotal: 160ms\tremaining: 348ms\n",
      "63:\tlearn: 0.4541223\ttotal: 162ms\tremaining: 344ms\n",
      "64:\tlearn: 0.4530108\ttotal: 163ms\tremaining: 338ms\n",
      "65:\tlearn: 0.4512377\ttotal: 165ms\tremaining: 335ms\n",
      "66:\tlearn: 0.4487025\ttotal: 167ms\tremaining: 331ms\n",
      "67:\tlearn: 0.4468152\ttotal: 169ms\tremaining: 327ms\n",
      "68:\tlearn: 0.4449902\ttotal: 171ms\tremaining: 324ms\n",
      "69:\tlearn: 0.4426412\ttotal: 173ms\tremaining: 321ms\n",
      "70:\tlearn: 0.4401906\ttotal: 175ms\tremaining: 318ms\n",
      "71:\tlearn: 0.4380992\ttotal: 178ms\tremaining: 317ms\n",
      "72:\tlearn: 0.4367450\ttotal: 180ms\tremaining: 314ms\n",
      "73:\tlearn: 0.4353520\ttotal: 183ms\tremaining: 311ms\n",
      "74:\tlearn: 0.4340243\ttotal: 185ms\tremaining: 308ms\n",
      "75:\tlearn: 0.4315947\ttotal: 188ms\tremaining: 306ms\n",
      "76:\tlearn: 0.4298990\ttotal: 192ms\tremaining: 306ms\n",
      "77:\tlearn: 0.4285587\ttotal: 195ms\tremaining: 305ms\n",
      "78:\tlearn: 0.4266109\ttotal: 198ms\tremaining: 304ms\n",
      "79:\tlearn: 0.4244339\ttotal: 202ms\tremaining: 303ms\n",
      "80:\tlearn: 0.4228679\ttotal: 205ms\tremaining: 302ms\n",
      "81:\tlearn: 0.4214531\ttotal: 210ms\tremaining: 301ms\n",
      "82:\tlearn: 0.4200925\ttotal: 213ms\tremaining: 300ms\n",
      "83:\tlearn: 0.4184640\ttotal: 218ms\tremaining: 301ms\n",
      "84:\tlearn: 0.4168303\ttotal: 220ms\tremaining: 298ms\n",
      "85:\tlearn: 0.4156724\ttotal: 222ms\tremaining: 295ms\n",
      "86:\tlearn: 0.4140974\ttotal: 225ms\tremaining: 292ms\n",
      "87:\tlearn: 0.4124542\ttotal: 227ms\tremaining: 289ms\n",
      "88:\tlearn: 0.4107650\ttotal: 229ms\tremaining: 286ms\n",
      "89:\tlearn: 0.4091247\ttotal: 231ms\tremaining: 282ms\n",
      "90:\tlearn: 0.4075743\ttotal: 234ms\tremaining: 280ms\n",
      "91:\tlearn: 0.4062728\ttotal: 237ms\tremaining: 279ms\n",
      "92:\tlearn: 0.4044987\ttotal: 241ms\tremaining: 277ms\n",
      "93:\tlearn: 0.4030509\ttotal: 244ms\tremaining: 275ms\n",
      "94:\tlearn: 0.4012366\ttotal: 247ms\tremaining: 273ms\n",
      "95:\tlearn: 0.3995010\ttotal: 249ms\tremaining: 270ms\n",
      "96:\tlearn: 0.3983567\ttotal: 251ms\tremaining: 267ms\n",
      "97:\tlearn: 0.3970163\ttotal: 254ms\tremaining: 264ms\n",
      "98:\tlearn: 0.3955954\ttotal: 255ms\tremaining: 261ms\n",
      "99:\tlearn: 0.3946458\ttotal: 258ms\tremaining: 258ms\n",
      "100:\tlearn: 0.3932682\ttotal: 260ms\tremaining: 254ms\n",
      "101:\tlearn: 0.3921086\ttotal: 261ms\tremaining: 251ms\n",
      "102:\tlearn: 0.3912041\ttotal: 263ms\tremaining: 248ms\n",
      "103:\tlearn: 0.3896085\ttotal: 266ms\tremaining: 245ms\n",
      "104:\tlearn: 0.3881310\ttotal: 267ms\tremaining: 242ms\n",
      "105:\tlearn: 0.3867841\ttotal: 269ms\tremaining: 239ms\n",
      "106:\tlearn: 0.3855611\ttotal: 271ms\tremaining: 236ms\n",
      "107:\tlearn: 0.3841345\ttotal: 274ms\tremaining: 233ms\n",
      "108:\tlearn: 0.3829608\ttotal: 276ms\tremaining: 230ms\n",
      "109:\tlearn: 0.3819127\ttotal: 278ms\tremaining: 227ms\n",
      "110:\tlearn: 0.3810000\ttotal: 281ms\tremaining: 225ms\n",
      "111:\tlearn: 0.3790356\ttotal: 285ms\tremaining: 224ms\n",
      "112:\tlearn: 0.3774673\ttotal: 288ms\tremaining: 222ms\n",
      "113:\tlearn: 0.3762712\ttotal: 292ms\tremaining: 220ms\n",
      "114:\tlearn: 0.3750760\ttotal: 295ms\tremaining: 218ms\n",
      "115:\tlearn: 0.3735547\ttotal: 296ms\tremaining: 215ms\n",
      "116:\tlearn: 0.3728015\ttotal: 298ms\tremaining: 212ms\n",
      "117:\tlearn: 0.3714192\ttotal: 301ms\tremaining: 209ms\n",
      "118:\tlearn: 0.3705935\ttotal: 303ms\tremaining: 206ms\n",
      "119:\tlearn: 0.3694736\ttotal: 305ms\tremaining: 203ms\n",
      "120:\tlearn: 0.3687791\ttotal: 307ms\tremaining: 200ms\n",
      "121:\tlearn: 0.3679782\ttotal: 309ms\tremaining: 197ms\n",
      "122:\tlearn: 0.3666547\ttotal: 311ms\tremaining: 194ms\n",
      "123:\tlearn: 0.3655144\ttotal: 313ms\tremaining: 192ms\n",
      "124:\tlearn: 0.3643546\ttotal: 315ms\tremaining: 189ms\n",
      "125:\tlearn: 0.3636557\ttotal: 317ms\tremaining: 186ms\n",
      "126:\tlearn: 0.3625550\ttotal: 319ms\tremaining: 183ms\n",
      "127:\tlearn: 0.3610147\ttotal: 321ms\tremaining: 181ms\n",
      "128:\tlearn: 0.3596348\ttotal: 325ms\tremaining: 179ms\n",
      "129:\tlearn: 0.3584074\ttotal: 328ms\tremaining: 177ms\n",
      "130:\tlearn: 0.3569602\ttotal: 331ms\tremaining: 174ms\n",
      "131:\tlearn: 0.3558913\ttotal: 334ms\tremaining: 172ms\n",
      "132:\tlearn: 0.3548689\ttotal: 336ms\tremaining: 170ms\n",
      "133:\tlearn: 0.3533837\ttotal: 339ms\tremaining: 167ms\n",
      "134:\tlearn: 0.3524619\ttotal: 341ms\tremaining: 164ms\n",
      "135:\tlearn: 0.3518338\ttotal: 343ms\tremaining: 161ms\n",
      "136:\tlearn: 0.3505366\ttotal: 345ms\tremaining: 159ms\n",
      "137:\tlearn: 0.3497723\ttotal: 348ms\tremaining: 156ms\n",
      "138:\tlearn: 0.3489030\ttotal: 350ms\tremaining: 154ms\n",
      "139:\tlearn: 0.3482652\ttotal: 352ms\tremaining: 151ms\n",
      "140:\tlearn: 0.3471165\ttotal: 354ms\tremaining: 148ms\n",
      "141:\tlearn: 0.3458630\ttotal: 356ms\tremaining: 146ms\n",
      "142:\tlearn: 0.3445867\ttotal: 358ms\tremaining: 143ms\n",
      "143:\tlearn: 0.3436773\ttotal: 361ms\tremaining: 140ms\n",
      "144:\tlearn: 0.3426979\ttotal: 363ms\tremaining: 138ms\n",
      "145:\tlearn: 0.3417627\ttotal: 365ms\tremaining: 135ms\n",
      "146:\tlearn: 0.3407937\ttotal: 367ms\tremaining: 132ms\n",
      "147:\tlearn: 0.3398191\ttotal: 369ms\tremaining: 130ms\n",
      "148:\tlearn: 0.3390524\ttotal: 371ms\tremaining: 127ms\n",
      "149:\tlearn: 0.3381671\ttotal: 374ms\tremaining: 125ms\n",
      "150:\tlearn: 0.3375138\ttotal: 381ms\tremaining: 123ms\n",
      "151:\tlearn: 0.3365898\ttotal: 386ms\tremaining: 122ms\n",
      "152:\tlearn: 0.3358887\ttotal: 388ms\tremaining: 119ms\n",
      "153:\tlearn: 0.3346492\ttotal: 390ms\tremaining: 117ms\n",
      "154:\tlearn: 0.3336018\ttotal: 392ms\tremaining: 114ms\n",
      "155:\tlearn: 0.3330832\ttotal: 394ms\tremaining: 111ms\n",
      "156:\tlearn: 0.3324238\ttotal: 396ms\tremaining: 109ms\n",
      "157:\tlearn: 0.3312569\ttotal: 399ms\tremaining: 106ms\n",
      "158:\tlearn: 0.3299834\ttotal: 400ms\tremaining: 103ms\n",
      "159:\tlearn: 0.3286908\ttotal: 403ms\tremaining: 101ms\n",
      "160:\tlearn: 0.3276277\ttotal: 405ms\tremaining: 98ms\n",
      "161:\tlearn: 0.3267134\ttotal: 406ms\tremaining: 95.3ms\n",
      "162:\tlearn: 0.3259380\ttotal: 409ms\tremaining: 92.8ms\n",
      "163:\tlearn: 0.3249529\ttotal: 410ms\tremaining: 90.1ms\n",
      "164:\tlearn: 0.3241876\ttotal: 412ms\tremaining: 87.5ms\n",
      "165:\tlearn: 0.3237797\ttotal: 414ms\tremaining: 84.9ms\n",
      "166:\tlearn: 0.3228611\ttotal: 419ms\tremaining: 82.9ms\n",
      "167:\tlearn: 0.3218481\ttotal: 426ms\tremaining: 81.1ms\n",
      "168:\tlearn: 0.3209571\ttotal: 433ms\tremaining: 79.4ms\n",
      "169:\tlearn: 0.3200492\ttotal: 435ms\tremaining: 76.7ms\n",
      "170:\tlearn: 0.3189373\ttotal: 437ms\tremaining: 74.1ms\n",
      "171:\tlearn: 0.3179033\ttotal: 439ms\tremaining: 71.4ms\n",
      "172:\tlearn: 0.3172849\ttotal: 441ms\tremaining: 68.9ms\n",
      "173:\tlearn: 0.3166655\ttotal: 443ms\tremaining: 66.2ms\n",
      "174:\tlearn: 0.3157718\ttotal: 445ms\tremaining: 63.6ms\n",
      "175:\tlearn: 0.3150160\ttotal: 447ms\tremaining: 61ms\n",
      "176:\tlearn: 0.3142830\ttotal: 449ms\tremaining: 58.4ms\n",
      "177:\tlearn: 0.3138662\ttotal: 451ms\tremaining: 55.8ms\n",
      "178:\tlearn: 0.3133629\ttotal: 453ms\tremaining: 53.2ms\n",
      "179:\tlearn: 0.3125061\ttotal: 455ms\tremaining: 50.6ms\n",
      "180:\tlearn: 0.3115252\ttotal: 457ms\tremaining: 48ms\n",
      "181:\tlearn: 0.3110208\ttotal: 459ms\tremaining: 45.4ms\n",
      "182:\tlearn: 0.3105547\ttotal: 461ms\tremaining: 42.9ms\n",
      "183:\tlearn: 0.3094534\ttotal: 475ms\tremaining: 41.3ms\n",
      "184:\tlearn: 0.3087456\ttotal: 479ms\tremaining: 38.8ms\n",
      "185:\tlearn: 0.3079835\ttotal: 481ms\tremaining: 36.2ms\n",
      "186:\tlearn: 0.3072245\ttotal: 483ms\tremaining: 33.6ms\n",
      "187:\tlearn: 0.3061540\ttotal: 485ms\tremaining: 31ms\n",
      "188:\tlearn: 0.3054721\ttotal: 488ms\tremaining: 28.4ms\n",
      "189:\tlearn: 0.3048467\ttotal: 490ms\tremaining: 25.8ms\n",
      "190:\tlearn: 0.3042662\ttotal: 492ms\tremaining: 23.2ms\n",
      "191:\tlearn: 0.3037025\ttotal: 494ms\tremaining: 20.6ms\n",
      "192:\tlearn: 0.3028928\ttotal: 496ms\tremaining: 18ms\n",
      "193:\tlearn: 0.3020155\ttotal: 498ms\tremaining: 15.4ms\n",
      "194:\tlearn: 0.3010007\ttotal: 500ms\tremaining: 12.8ms\n",
      "195:\tlearn: 0.3002253\ttotal: 502ms\tremaining: 10.2ms\n",
      "196:\tlearn: 0.2999682\ttotal: 503ms\tremaining: 7.66ms\n",
      "197:\tlearn: 0.2994228\ttotal: 505ms\tremaining: 5.11ms\n",
      "198:\tlearn: 0.2986712\ttotal: 507ms\tremaining: 2.55ms\n",
      "199:\tlearn: 0.2980459\ttotal: 510ms\tremaining: 0us\n"
     ]
    },
    {
     "data": {
      "text/plain": [
       "{'depth': 8, 'iterations': 200, 'learning_rate': 0.01}"
      ]
     },
     "execution_count": 174,
     "metadata": {},
     "output_type": "execute_result"
    }
   ],
   "source": [
    "catb = CatBoostClassifier()\n",
    "catb_cv_model = GridSearchCV(catb, catb_params, cv=5, n_jobs = -1, verbose = 2)\n",
    "catb_cv_model.fit(X_train, y_train)\n",
    "catb_cv_model.best_params_"
   ]
  },
  {
   "cell_type": "code",
   "execution_count": 175,
   "metadata": {},
   "outputs": [
    {
     "data": {
      "text/plain": [
       "{'depth': 8, 'iterations': 200, 'learning_rate': 0.01}"
      ]
     },
     "execution_count": 175,
     "metadata": {},
     "output_type": "execute_result"
    }
   ],
   "source": [
    "catb_cv_model.best_params_"
   ]
  },
  {
   "cell_type": "code",
   "execution_count": 176,
   "metadata": {},
   "outputs": [
    {
     "name": "stdout",
     "output_type": "stream",
     "text": [
      "0:\tlearn: 0.6863412\ttotal: 6.78ms\tremaining: 1.35s\n",
      "1:\tlearn: 0.6811322\ttotal: 12.1ms\tremaining: 1.2s\n",
      "2:\tlearn: 0.6753199\ttotal: 18.2ms\tremaining: 1.2s\n",
      "3:\tlearn: 0.6697717\ttotal: 32.4ms\tremaining: 1.59s\n",
      "4:\tlearn: 0.6642090\ttotal: 39.3ms\tremaining: 1.53s\n",
      "5:\tlearn: 0.6577038\ttotal: 43.1ms\tremaining: 1.39s\n",
      "6:\tlearn: 0.6522290\ttotal: 50.9ms\tremaining: 1.4s\n",
      "7:\tlearn: 0.6466015\ttotal: 54.8ms\tremaining: 1.31s\n",
      "8:\tlearn: 0.6408068\ttotal: 60.7ms\tremaining: 1.29s\n",
      "9:\tlearn: 0.6358218\ttotal: 65.9ms\tremaining: 1.25s\n",
      "10:\tlearn: 0.6300444\ttotal: 70.8ms\tremaining: 1.22s\n",
      "11:\tlearn: 0.6240992\ttotal: 76.9ms\tremaining: 1.2s\n",
      "12:\tlearn: 0.6196618\ttotal: 83.2ms\tremaining: 1.2s\n",
      "13:\tlearn: 0.6149237\ttotal: 88ms\tremaining: 1.17s\n",
      "14:\tlearn: 0.6093146\ttotal: 93.3ms\tremaining: 1.15s\n",
      "15:\tlearn: 0.6047282\ttotal: 97.2ms\tremaining: 1.12s\n",
      "16:\tlearn: 0.6013242\ttotal: 102ms\tremaining: 1.1s\n",
      "17:\tlearn: 0.5958624\ttotal: 108ms\tremaining: 1.09s\n",
      "18:\tlearn: 0.5903733\ttotal: 114ms\tremaining: 1.08s\n",
      "19:\tlearn: 0.5866505\ttotal: 118ms\tremaining: 1.06s\n",
      "20:\tlearn: 0.5831865\ttotal: 124ms\tremaining: 1.05s\n",
      "21:\tlearn: 0.5787839\ttotal: 128ms\tremaining: 1.04s\n",
      "22:\tlearn: 0.5749453\ttotal: 135ms\tremaining: 1.04s\n",
      "23:\tlearn: 0.5703621\ttotal: 140ms\tremaining: 1.03s\n",
      "24:\tlearn: 0.5662773\ttotal: 146ms\tremaining: 1.02s\n",
      "25:\tlearn: 0.5629069\ttotal: 155ms\tremaining: 1.03s\n",
      "26:\tlearn: 0.5589454\ttotal: 160ms\tremaining: 1.02s\n",
      "27:\tlearn: 0.5544253\ttotal: 166ms\tremaining: 1.02s\n",
      "28:\tlearn: 0.5504193\ttotal: 170ms\tremaining: 1s\n",
      "29:\tlearn: 0.5470888\ttotal: 173ms\tremaining: 983ms\n",
      "30:\tlearn: 0.5441572\ttotal: 177ms\tremaining: 965ms\n",
      "31:\tlearn: 0.5396568\ttotal: 180ms\tremaining: 946ms\n",
      "32:\tlearn: 0.5356520\ttotal: 183ms\tremaining: 928ms\n",
      "33:\tlearn: 0.5315662\ttotal: 187ms\tremaining: 911ms\n",
      "34:\tlearn: 0.5280107\ttotal: 190ms\tremaining: 896ms\n",
      "35:\tlearn: 0.5248634\ttotal: 193ms\tremaining: 881ms\n",
      "36:\tlearn: 0.5224134\ttotal: 198ms\tremaining: 871ms\n",
      "37:\tlearn: 0.5198514\ttotal: 205ms\tremaining: 874ms\n",
      "38:\tlearn: 0.5167668\ttotal: 208ms\tremaining: 859ms\n",
      "39:\tlearn: 0.5139063\ttotal: 213ms\tremaining: 853ms\n",
      "40:\tlearn: 0.5101721\ttotal: 217ms\tremaining: 841ms\n",
      "41:\tlearn: 0.5066326\ttotal: 220ms\tremaining: 829ms\n",
      "42:\tlearn: 0.5033936\ttotal: 224ms\tremaining: 817ms\n",
      "43:\tlearn: 0.5006117\ttotal: 227ms\tremaining: 804ms\n",
      "44:\tlearn: 0.4980917\ttotal: 230ms\tremaining: 792ms\n",
      "45:\tlearn: 0.4959463\ttotal: 233ms\tremaining: 781ms\n",
      "46:\tlearn: 0.4934198\ttotal: 236ms\tremaining: 770ms\n",
      "47:\tlearn: 0.4906410\ttotal: 240ms\tremaining: 759ms\n",
      "48:\tlearn: 0.4878576\ttotal: 243ms\tremaining: 748ms\n",
      "49:\tlearn: 0.4850977\ttotal: 246ms\tremaining: 738ms\n",
      "50:\tlearn: 0.4826157\ttotal: 249ms\tremaining: 728ms\n",
      "51:\tlearn: 0.4798530\ttotal: 253ms\tremaining: 721ms\n",
      "52:\tlearn: 0.4776349\ttotal: 256ms\tremaining: 710ms\n",
      "53:\tlearn: 0.4754652\ttotal: 262ms\tremaining: 707ms\n",
      "54:\tlearn: 0.4733755\ttotal: 264ms\tremaining: 696ms\n",
      "55:\tlearn: 0.4706337\ttotal: 266ms\tremaining: 684ms\n",
      "56:\tlearn: 0.4677619\ttotal: 269ms\tremaining: 675ms\n",
      "57:\tlearn: 0.4657008\ttotal: 271ms\tremaining: 664ms\n",
      "58:\tlearn: 0.4637682\ttotal: 274ms\tremaining: 655ms\n",
      "59:\tlearn: 0.4615518\ttotal: 277ms\tremaining: 646ms\n",
      "60:\tlearn: 0.4600032\ttotal: 279ms\tremaining: 635ms\n",
      "61:\tlearn: 0.4584260\ttotal: 280ms\tremaining: 624ms\n",
      "62:\tlearn: 0.4567343\ttotal: 282ms\tremaining: 614ms\n",
      "63:\tlearn: 0.4541223\ttotal: 284ms\tremaining: 604ms\n",
      "64:\tlearn: 0.4530108\ttotal: 285ms\tremaining: 592ms\n",
      "65:\tlearn: 0.4512377\ttotal: 287ms\tremaining: 583ms\n",
      "66:\tlearn: 0.4487025\ttotal: 289ms\tremaining: 574ms\n",
      "67:\tlearn: 0.4468152\ttotal: 291ms\tremaining: 565ms\n",
      "68:\tlearn: 0.4449902\ttotal: 293ms\tremaining: 557ms\n",
      "69:\tlearn: 0.4426412\ttotal: 295ms\tremaining: 548ms\n",
      "70:\tlearn: 0.4401906\ttotal: 297ms\tremaining: 540ms\n",
      "71:\tlearn: 0.4380992\ttotal: 299ms\tremaining: 532ms\n",
      "72:\tlearn: 0.4367450\ttotal: 301ms\tremaining: 525ms\n",
      "73:\tlearn: 0.4353520\ttotal: 303ms\tremaining: 517ms\n",
      "74:\tlearn: 0.4340243\ttotal: 305ms\tremaining: 509ms\n",
      "75:\tlearn: 0.4315947\ttotal: 308ms\tremaining: 502ms\n",
      "76:\tlearn: 0.4298990\ttotal: 310ms\tremaining: 495ms\n",
      "77:\tlearn: 0.4285587\ttotal: 312ms\tremaining: 488ms\n",
      "78:\tlearn: 0.4266109\ttotal: 314ms\tremaining: 481ms\n",
      "79:\tlearn: 0.4244339\ttotal: 316ms\tremaining: 475ms\n",
      "80:\tlearn: 0.4228679\ttotal: 319ms\tremaining: 468ms\n",
      "81:\tlearn: 0.4214531\ttotal: 321ms\tremaining: 462ms\n",
      "82:\tlearn: 0.4200925\ttotal: 323ms\tremaining: 456ms\n",
      "83:\tlearn: 0.4184640\ttotal: 325ms\tremaining: 449ms\n",
      "84:\tlearn: 0.4168303\ttotal: 327ms\tremaining: 443ms\n",
      "85:\tlearn: 0.4156724\ttotal: 329ms\tremaining: 436ms\n",
      "86:\tlearn: 0.4140974\ttotal: 331ms\tremaining: 430ms\n",
      "87:\tlearn: 0.4124542\ttotal: 333ms\tremaining: 424ms\n",
      "88:\tlearn: 0.4107650\ttotal: 335ms\tremaining: 418ms\n",
      "89:\tlearn: 0.4091247\ttotal: 337ms\tremaining: 412ms\n",
      "90:\tlearn: 0.4075743\ttotal: 339ms\tremaining: 406ms\n",
      "91:\tlearn: 0.4062728\ttotal: 341ms\tremaining: 400ms\n",
      "92:\tlearn: 0.4044987\ttotal: 343ms\tremaining: 395ms\n",
      "93:\tlearn: 0.4030509\ttotal: 345ms\tremaining: 389ms\n",
      "94:\tlearn: 0.4012366\ttotal: 347ms\tremaining: 384ms\n",
      "95:\tlearn: 0.3995010\ttotal: 349ms\tremaining: 378ms\n",
      "96:\tlearn: 0.3983567\ttotal: 352ms\tremaining: 373ms\n",
      "97:\tlearn: 0.3970163\ttotal: 354ms\tremaining: 368ms\n",
      "98:\tlearn: 0.3955954\ttotal: 356ms\tremaining: 363ms\n",
      "99:\tlearn: 0.3946458\ttotal: 358ms\tremaining: 358ms\n",
      "100:\tlearn: 0.3932682\ttotal: 360ms\tremaining: 353ms\n",
      "101:\tlearn: 0.3921086\ttotal: 362ms\tremaining: 348ms\n",
      "102:\tlearn: 0.3912041\ttotal: 364ms\tremaining: 343ms\n",
      "103:\tlearn: 0.3896085\ttotal: 366ms\tremaining: 338ms\n",
      "104:\tlearn: 0.3881310\ttotal: 368ms\tremaining: 333ms\n",
      "105:\tlearn: 0.3867841\ttotal: 370ms\tremaining: 328ms\n",
      "106:\tlearn: 0.3855611\ttotal: 372ms\tremaining: 323ms\n",
      "107:\tlearn: 0.3841345\ttotal: 374ms\tremaining: 318ms\n",
      "108:\tlearn: 0.3829608\ttotal: 376ms\tremaining: 314ms\n",
      "109:\tlearn: 0.3819127\ttotal: 378ms\tremaining: 309ms\n",
      "110:\tlearn: 0.3810000\ttotal: 380ms\tremaining: 305ms\n",
      "111:\tlearn: 0.3790356\ttotal: 383ms\tremaining: 301ms\n",
      "112:\tlearn: 0.3774673\ttotal: 386ms\tremaining: 297ms\n",
      "113:\tlearn: 0.3762712\ttotal: 389ms\tremaining: 294ms\n",
      "114:\tlearn: 0.3750760\ttotal: 392ms\tremaining: 290ms\n",
      "115:\tlearn: 0.3735547\ttotal: 396ms\tremaining: 287ms\n",
      "116:\tlearn: 0.3728015\ttotal: 399ms\tremaining: 283ms\n",
      "117:\tlearn: 0.3714192\ttotal: 402ms\tremaining: 279ms\n",
      "118:\tlearn: 0.3705935\ttotal: 404ms\tremaining: 275ms\n",
      "119:\tlearn: 0.3694736\ttotal: 406ms\tremaining: 271ms\n",
      "120:\tlearn: 0.3687791\ttotal: 408ms\tremaining: 267ms\n",
      "121:\tlearn: 0.3679782\ttotal: 412ms\tremaining: 263ms\n",
      "122:\tlearn: 0.3666547\ttotal: 414ms\tremaining: 259ms\n",
      "123:\tlearn: 0.3655144\ttotal: 416ms\tremaining: 255ms\n",
      "124:\tlearn: 0.3643546\ttotal: 418ms\tremaining: 251ms\n",
      "125:\tlearn: 0.3636557\ttotal: 420ms\tremaining: 247ms\n",
      "126:\tlearn: 0.3625550\ttotal: 422ms\tremaining: 243ms\n",
      "127:\tlearn: 0.3610147\ttotal: 424ms\tremaining: 239ms\n",
      "128:\tlearn: 0.3596348\ttotal: 427ms\tremaining: 235ms\n",
      "129:\tlearn: 0.3584074\ttotal: 429ms\tremaining: 231ms\n",
      "130:\tlearn: 0.3569602\ttotal: 431ms\tremaining: 227ms\n",
      "131:\tlearn: 0.3558913\ttotal: 433ms\tremaining: 223ms\n",
      "132:\tlearn: 0.3548689\ttotal: 435ms\tremaining: 219ms\n",
      "133:\tlearn: 0.3533837\ttotal: 437ms\tremaining: 215ms\n",
      "134:\tlearn: 0.3524619\ttotal: 439ms\tremaining: 211ms\n",
      "135:\tlearn: 0.3518338\ttotal: 441ms\tremaining: 208ms\n",
      "136:\tlearn: 0.3505366\ttotal: 443ms\tremaining: 204ms\n",
      "137:\tlearn: 0.3497723\ttotal: 445ms\tremaining: 200ms\n",
      "138:\tlearn: 0.3489030\ttotal: 448ms\tremaining: 196ms\n",
      "139:\tlearn: 0.3482652\ttotal: 450ms\tremaining: 193ms\n",
      "140:\tlearn: 0.3471165\ttotal: 452ms\tremaining: 189ms\n",
      "141:\tlearn: 0.3458630\ttotal: 454ms\tremaining: 185ms\n",
      "142:\tlearn: 0.3445867\ttotal: 456ms\tremaining: 182ms\n",
      "143:\tlearn: 0.3436773\ttotal: 458ms\tremaining: 178ms\n",
      "144:\tlearn: 0.3426979\ttotal: 462ms\tremaining: 175ms\n",
      "145:\tlearn: 0.3417627\ttotal: 464ms\tremaining: 172ms\n",
      "146:\tlearn: 0.3407937\ttotal: 467ms\tremaining: 168ms\n",
      "147:\tlearn: 0.3398191\ttotal: 470ms\tremaining: 165ms\n",
      "148:\tlearn: 0.3390524\ttotal: 472ms\tremaining: 161ms\n",
      "149:\tlearn: 0.3381671\ttotal: 474ms\tremaining: 158ms\n",
      "150:\tlearn: 0.3375138\ttotal: 476ms\tremaining: 154ms\n",
      "151:\tlearn: 0.3365898\ttotal: 478ms\tremaining: 151ms\n",
      "152:\tlearn: 0.3358887\ttotal: 482ms\tremaining: 148ms\n",
      "153:\tlearn: 0.3346492\ttotal: 483ms\tremaining: 144ms\n",
      "154:\tlearn: 0.3336018\ttotal: 486ms\tremaining: 141ms\n",
      "155:\tlearn: 0.3330832\ttotal: 488ms\tremaining: 138ms\n",
      "156:\tlearn: 0.3324238\ttotal: 490ms\tremaining: 134ms\n",
      "157:\tlearn: 0.3312569\ttotal: 493ms\tremaining: 131ms\n",
      "158:\tlearn: 0.3299834\ttotal: 495ms\tremaining: 128ms\n",
      "159:\tlearn: 0.3286908\ttotal: 497ms\tremaining: 124ms\n",
      "160:\tlearn: 0.3276277\ttotal: 499ms\tremaining: 121ms\n",
      "161:\tlearn: 0.3267134\ttotal: 502ms\tremaining: 118ms\n",
      "162:\tlearn: 0.3259380\ttotal: 504ms\tremaining: 114ms\n",
      "163:\tlearn: 0.3249529\ttotal: 506ms\tremaining: 111ms\n",
      "164:\tlearn: 0.3241876\ttotal: 508ms\tremaining: 108ms\n",
      "165:\tlearn: 0.3237797\ttotal: 511ms\tremaining: 105ms\n",
      "166:\tlearn: 0.3228611\ttotal: 513ms\tremaining: 101ms\n",
      "167:\tlearn: 0.3218481\ttotal: 515ms\tremaining: 98.1ms\n",
      "168:\tlearn: 0.3209571\ttotal: 517ms\tremaining: 94.8ms\n",
      "169:\tlearn: 0.3200492\ttotal: 519ms\tremaining: 91.6ms\n",
      "170:\tlearn: 0.3189373\ttotal: 523ms\tremaining: 88.7ms\n",
      "171:\tlearn: 0.3179033\ttotal: 525ms\tremaining: 85.5ms\n",
      "172:\tlearn: 0.3172849\ttotal: 527ms\tremaining: 82.3ms\n",
      "173:\tlearn: 0.3166655\ttotal: 529ms\tremaining: 79ms\n",
      "174:\tlearn: 0.3157718\ttotal: 566ms\tremaining: 80.8ms\n",
      "175:\tlearn: 0.3150160\ttotal: 568ms\tremaining: 77.4ms\n",
      "176:\tlearn: 0.3142830\ttotal: 572ms\tremaining: 74.3ms\n",
      "177:\tlearn: 0.3138662\ttotal: 576ms\tremaining: 71.2ms\n",
      "178:\tlearn: 0.3133629\ttotal: 580ms\tremaining: 68ms\n",
      "179:\tlearn: 0.3125061\ttotal: 582ms\tremaining: 64.7ms\n",
      "180:\tlearn: 0.3115252\ttotal: 589ms\tremaining: 61.8ms\n",
      "181:\tlearn: 0.3110208\ttotal: 592ms\tremaining: 58.5ms\n",
      "182:\tlearn: 0.3105547\ttotal: 596ms\tremaining: 55.4ms\n",
      "183:\tlearn: 0.3094534\ttotal: 598ms\tremaining: 52ms\n",
      "184:\tlearn: 0.3087456\ttotal: 601ms\tremaining: 48.7ms\n",
      "185:\tlearn: 0.3079835\ttotal: 603ms\tremaining: 45.4ms\n",
      "186:\tlearn: 0.3072245\ttotal: 606ms\tremaining: 42.1ms\n",
      "187:\tlearn: 0.3061540\ttotal: 608ms\tremaining: 38.8ms\n",
      "188:\tlearn: 0.3054721\ttotal: 612ms\tremaining: 35.6ms\n",
      "189:\tlearn: 0.3048467\ttotal: 614ms\tremaining: 32.3ms\n",
      "190:\tlearn: 0.3042662\ttotal: 618ms\tremaining: 29.1ms\n",
      "191:\tlearn: 0.3037025\ttotal: 620ms\tremaining: 25.8ms\n",
      "192:\tlearn: 0.3028928\ttotal: 623ms\tremaining: 22.6ms\n",
      "193:\tlearn: 0.3020155\ttotal: 625ms\tremaining: 19.3ms\n",
      "194:\tlearn: 0.3010007\ttotal: 628ms\tremaining: 16.1ms\n",
      "195:\tlearn: 0.3002253\ttotal: 630ms\tremaining: 12.9ms\n",
      "196:\tlearn: 0.2999682\ttotal: 632ms\tremaining: 9.63ms\n",
      "197:\tlearn: 0.2994228\ttotal: 634ms\tremaining: 6.4ms\n",
      "198:\tlearn: 0.2986712\ttotal: 637ms\tremaining: 3.2ms\n",
      "199:\tlearn: 0.2980459\ttotal: 639ms\tremaining: 0us\n"
     ]
    }
   ],
   "source": [
    "catb = CatBoostClassifier(iterations = 200, \n",
    "                          learning_rate = 0.01, \n",
    "                          depth = 8)\n",
    "\n",
    "catb_tuned = catb.fit(X_train, y_train)\n",
    "y_pred = catb_tuned.predict(X_test)"
   ]
  },
  {
   "cell_type": "code",
   "execution_count": 177,
   "metadata": {},
   "outputs": [
    {
     "data": {
      "text/plain": [
       "0.7532467532467533"
      ]
     },
     "execution_count": 177,
     "metadata": {},
     "output_type": "execute_result"
    }
   ],
   "source": [
    "y_pred = catb_tuned.predict(X_test)\n",
    "accuracy_score(y_test, y_pred)"
   ]
  },
  {
   "cell_type": "markdown",
   "metadata": {},
   "source": [
    "# Comparison ALL Models"
   ]
  },
  {
   "cell_type": "code",
   "execution_count": 178,
   "metadata": {},
   "outputs": [
    {
     "name": "stdout",
     "output_type": "stream",
     "text": [
      "----------------------------\n",
      "KNeighborsClassifier:\n",
      "Accuracy: 73.1602%\n",
      "----------------------------\n",
      "LogisticRegression:\n",
      "Accuracy: 75.7576%\n",
      "----------------------------\n",
      "SVC:\n",
      "Accuracy: 73.5931%\n",
      "----------------------------\n",
      "GaussianNB:\n",
      "Accuracy: 74.4589%\n",
      "----------------------------\n",
      "MLPClassifier:\n",
      "Accuracy: 65.3680%\n",
      "----------------------------\n",
      "DecisionTreeClassifier:\n",
      "Accuracy: 75.3247%\n",
      "----------------------------\n",
      "RandomForestClassifier:\n",
      "Accuracy: 74.8918%\n",
      "----------------------------\n",
      "GradientBoostingClassifier:\n",
      "Accuracy: 71.8615%\n",
      "----------------------------\n",
      "CatBoostClassifier:\n",
      "Accuracy: 75.3247%\n",
      "----------------------------\n",
      "LGBMClassifier:\n",
      "Accuracy: 74.4589%\n",
      "----------------------------\n",
      "XGBClassifier:\n",
      "Accuracy: 75.7576%\n"
     ]
    }
   ],
   "source": [
    "models = [\n",
    "    knn_tuned,\n",
    "    loj_model,\n",
    "    svc_tuned,\n",
    "    nb_model,\n",
    "    mlpc_tuned,\n",
    "    cart_tuned,\n",
    "    rf_tuned,\n",
    "    gbm_tuned,\n",
    "    catb_tuned,\n",
    "    lgbm_tuned,\n",
    "    xgb_tuned\n",
    "    \n",
    "]\n",
    "\n",
    "\n",
    "for model in models:\n",
    "    names = model.__class__.__name__\n",
    "    y_pred = model.predict(X_test)\n",
    "    accuracy = accuracy_score(y_test, y_pred)\n",
    "    print(\"-\"*28)\n",
    "    print(names + \":\" )\n",
    "    print(\"Accuracy: {:.4%}\".format(accuracy))"
   ]
  },
  {
   "cell_type": "code",
   "execution_count": 179,
   "metadata": {},
   "outputs": [
    {
     "data": {
      "image/png": "[encoded data removed]",
      "text/plain": [
       "<Figure size 432x288 with 1 Axes>"
      ]
     },
     "metadata": {
      "needs_background": "light"
     },
     "output_type": "display_data"
    }
   ],
   "source": [
    "result = []\n",
    "\n",
    "results = pd.DataFrame(columns= [\"Models\",\"Accuracy\"])\n",
    "\n",
    "for model in models:\n",
    "    names = model.__class__.__name__\n",
    "    y_pred = model.predict(X_test)\n",
    "    accuracy = accuracy_score(y_test, y_pred)    \n",
    "    result = pd.DataFrame([[names, accuracy*100]], columns= [\"Models\",\"Accuracy\"])\n",
    "    results = results.append(result)\n",
    "    \n",
    "    \n",
    "sns.barplot(x= 'Accuracy', y = 'Models', data=results, color=\"r\")\n",
    "plt.xlabel('Accuracy %')\n",
    "plt.title('Model Accuracy');    "
   ]
  },
  {
   "cell_type": "code",
   "execution_count": null,
   "metadata": {},
   "outputs": [],
   "source": []
  }
 ],
 "metadata": {
  "kernelspec": {
   "display_name": "Python 3",
   "language": "python",
   "name": "python3"
  },
  "language_info": {
   "codemirror_mode": {
    "name": "ipython",
    "version": 3
   },
   "file_extension": ".py",
   "mimetype": "text/x-python",
   "name": "python",
   "nbconvert_exporter": "python",
   "pygments_lexer": "ipython3",
   "version": "3.7.6"
  }
 },
 "nbformat": 4,
 "nbformat_minor": 4
}
